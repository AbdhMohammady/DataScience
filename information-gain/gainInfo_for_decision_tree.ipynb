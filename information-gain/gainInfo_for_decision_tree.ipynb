{
  "cells": [
    {
      "cell_type": "markdown",
      "metadata": {
        "colab_type": "text",
        "id": "view-in-github"
      },
      "source": [
        "<a href=\"https://colab.research.google.com/github/AbdhMohammady/DataScience/blob/main/information-gain/gainInfo_for_decision_tree.ipynb\" target=\"_parent\"><img src=\"https://colab.research.google.com/assets/colab-badge.svg\" alt=\"Open In Colab\"/></a>"
      ]
    },
    {
      "attachments": {},
      "cell_type": "markdown",
      "metadata": {
        "id": "7kRTCWVgE5qq"
      },
      "source": [
        "<font size = 20><b> Information gain, Gain ratio, Gini Index</b></font>\n",
        "\n",
        "using discrete data\n",
        "\n",
        "<a href=\"mailto:abdhmohammady@gmail.com\" target=\"_blank\">AbdhMohammady@gmail.com</a>\n",
        "\n",
        "https://github.com/AbdhMohammady\n",
        "\n",
        "Telegram: @AbdhMohammady\n",
        "\n",
        "Instagram: @AbdhMohammady\n",
        "\n",
        "\n",
        "In this notebook we want to present the implementation of computations to find decision tree nodes for discrete data. In the following, we explain the two methods  <b>'Entropy'</b> and <b>'Gini index'</b> to calculate the value of information gain"
      ]
    },
    {
      "cell_type": "code",
      "execution_count": null,
      "metadata": {
        "id": "uyLVbjFagNf1"
      },
      "outputs": [],
      "source": [
        "import pandas as pd\n",
        "import numpy\n",
        "import math # to use log function"
      ]
    },
    {
      "cell_type": "code",
      "execution_count": 108,
      "metadata": {
        "colab": {
          "base_uri": "https://localhost:8080/"
        },
        "id": "-aLG8k7rgjb3",
        "outputId": "580d2543-739c-4774-f142-a920a8403856"
      },
      "outputs": [
        {
          "name": "stdout",
          "output_type": "stream",
          "text": [
            "Drive already mounted at /content/drive; to attempt to forcibly remount, call drive.mount(\"/content/drive\", force_remount=True).\n"
          ]
        }
      ],
      "source": [
        "from google.colab import drive\n",
        "drive.mount('/content/drive')"
      ]
    },
    {
      "cell_type": "code",
      "execution_count": 109,
      "metadata": {
        "colab": {
          "base_uri": "https://localhost:8080/",
          "height": 488
        },
        "id": "uZUERUR0g5Kw",
        "outputId": "88ddc884-c029-4adf-9990-84e10d7571b6"
      },
      "outputs": [
        {
          "data": {
            "text/html": [
              "\n",
              "  <div id=\"df-2ce69bc6-1241-41c6-9bd8-cdcafec819a9\">\n",
              "    <div class=\"colab-df-container\">\n",
              "      <div>\n",
              "<style scoped>\n",
              "    .dataframe tbody tr th:only-of-type {\n",
              "        vertical-align: middle;\n",
              "    }\n",
              "\n",
              "    .dataframe tbody tr th {\n",
              "        vertical-align: top;\n",
              "    }\n",
              "\n",
              "    .dataframe thead th {\n",
              "        text-align: right;\n",
              "    }\n",
              "</style>\n",
              "<table border=\"1\" class=\"dataframe\">\n",
              "  <thead>\n",
              "    <tr style=\"text-align: right;\">\n",
              "      <th></th>\n",
              "      <th>Credit</th>\n",
              "      <th>Age</th>\n",
              "      <th>Income</th>\n",
              "      <th>Education</th>\n",
              "      <th>Buy</th>\n",
              "    </tr>\n",
              "  </thead>\n",
              "  <tbody>\n",
              "    <tr>\n",
              "      <th>0</th>\n",
              "      <td>Good</td>\n",
              "      <td>Young</td>\n",
              "      <td>High</td>\n",
              "      <td>Good</td>\n",
              "      <td>No</td>\n",
              "    </tr>\n",
              "    <tr>\n",
              "      <th>1</th>\n",
              "      <td>Excellent</td>\n",
              "      <td>Young</td>\n",
              "      <td>High</td>\n",
              "      <td>Good</td>\n",
              "      <td>No</td>\n",
              "    </tr>\n",
              "    <tr>\n",
              "      <th>2</th>\n",
              "      <td>Good</td>\n",
              "      <td>Middle</td>\n",
              "      <td>High</td>\n",
              "      <td>Good</td>\n",
              "      <td>Yes</td>\n",
              "    </tr>\n",
              "    <tr>\n",
              "      <th>3</th>\n",
              "      <td>Good</td>\n",
              "      <td>Old</td>\n",
              "      <td>Middle</td>\n",
              "      <td>Good</td>\n",
              "      <td>Yes</td>\n",
              "    </tr>\n",
              "    <tr>\n",
              "      <th>4</th>\n",
              "      <td>Good</td>\n",
              "      <td>Old</td>\n",
              "      <td>High</td>\n",
              "      <td>Bad</td>\n",
              "      <td>Yes</td>\n",
              "    </tr>\n",
              "    <tr>\n",
              "      <th>5</th>\n",
              "      <td>Excellent</td>\n",
              "      <td>Old</td>\n",
              "      <td>High</td>\n",
              "      <td>Bad</td>\n",
              "      <td>No</td>\n",
              "    </tr>\n",
              "    <tr>\n",
              "      <th>6</th>\n",
              "      <td>Excellent</td>\n",
              "      <td>Middle</td>\n",
              "      <td>High</td>\n",
              "      <td>Bad</td>\n",
              "      <td>Yes</td>\n",
              "    </tr>\n",
              "    <tr>\n",
              "      <th>7</th>\n",
              "      <td>Good</td>\n",
              "      <td>Young</td>\n",
              "      <td>Middle</td>\n",
              "      <td>Good</td>\n",
              "      <td>No</td>\n",
              "    </tr>\n",
              "    <tr>\n",
              "      <th>8</th>\n",
              "      <td>Good</td>\n",
              "      <td>Young</td>\n",
              "      <td>High</td>\n",
              "      <td>Bad</td>\n",
              "      <td>Yes</td>\n",
              "    </tr>\n",
              "    <tr>\n",
              "      <th>9</th>\n",
              "      <td>Good</td>\n",
              "      <td>Old</td>\n",
              "      <td>Middle</td>\n",
              "      <td>Bad</td>\n",
              "      <td>Yes</td>\n",
              "    </tr>\n",
              "    <tr>\n",
              "      <th>10</th>\n",
              "      <td>Excellent</td>\n",
              "      <td>Young</td>\n",
              "      <td>Middle</td>\n",
              "      <td>Bad</td>\n",
              "      <td>Yes</td>\n",
              "    </tr>\n",
              "    <tr>\n",
              "      <th>11</th>\n",
              "      <td>Excellent</td>\n",
              "      <td>Middle</td>\n",
              "      <td>Middle</td>\n",
              "      <td>Good</td>\n",
              "      <td>Yes</td>\n",
              "    </tr>\n",
              "    <tr>\n",
              "      <th>12</th>\n",
              "      <td>Good</td>\n",
              "      <td>Middle</td>\n",
              "      <td>High</td>\n",
              "      <td>Bad</td>\n",
              "      <td>Yes</td>\n",
              "    </tr>\n",
              "    <tr>\n",
              "      <th>13</th>\n",
              "      <td>Excellent</td>\n",
              "      <td>Old</td>\n",
              "      <td>Middle</td>\n",
              "      <td>Good</td>\n",
              "      <td>No</td>\n",
              "    </tr>\n",
              "  </tbody>\n",
              "</table>\n",
              "</div>\n",
              "      <button class=\"colab-df-convert\" onclick=\"convertToInteractive('df-2ce69bc6-1241-41c6-9bd8-cdcafec819a9')\"\n",
              "              title=\"Convert this dataframe to an interactive table.\"\n",
              "              style=\"display:none;\">\n",
              "        \n",
              "  <svg xmlns=\"http://www.w3.org/2000/svg\" height=\"24px\"viewBox=\"0 0 24 24\"\n",
              "       width=\"24px\">\n",
              "    <path d=\"M0 0h24v24H0V0z\" fill=\"none\"/>\n",
              "    <path d=\"M18.56 5.44l.94 2.06.94-2.06 2.06-.94-2.06-.94-.94-2.06-.94 2.06-2.06.94zm-11 1L8.5 8.5l.94-2.06 2.06-.94-2.06-.94L8.5 2.5l-.94 2.06-2.06.94zm10 10l.94 2.06.94-2.06 2.06-.94-2.06-.94-.94-2.06-.94 2.06-2.06.94z\"/><path d=\"M17.41 7.96l-1.37-1.37c-.4-.4-.92-.59-1.43-.59-.52 0-1.04.2-1.43.59L10.3 9.45l-7.72 7.72c-.78.78-.78 2.05 0 2.83L4 21.41c.39.39.9.59 1.41.59.51 0 1.02-.2 1.41-.59l7.78-7.78 2.81-2.81c.8-.78.8-2.07 0-2.86zM5.41 20L4 18.59l7.72-7.72 1.47 1.35L5.41 20z\"/>\n",
              "  </svg>\n",
              "      </button>\n",
              "      \n",
              "  <style>\n",
              "    .colab-df-container {\n",
              "      display:flex;\n",
              "      flex-wrap:wrap;\n",
              "      gap: 12px;\n",
              "    }\n",
              "\n",
              "    .colab-df-convert {\n",
              "      background-color: #E8F0FE;\n",
              "      border: none;\n",
              "      border-radius: 50%;\n",
              "      cursor: pointer;\n",
              "      display: none;\n",
              "      fill: #1967D2;\n",
              "      height: 32px;\n",
              "      padding: 0 0 0 0;\n",
              "      width: 32px;\n",
              "    }\n",
              "\n",
              "    .colab-df-convert:hover {\n",
              "      background-color: #E2EBFA;\n",
              "      box-shadow: 0px 1px 2px rgba(60, 64, 67, 0.3), 0px 1px 3px 1px rgba(60, 64, 67, 0.15);\n",
              "      fill: #174EA6;\n",
              "    }\n",
              "\n",
              "    [theme=dark] .colab-df-convert {\n",
              "      background-color: #3B4455;\n",
              "      fill: #D2E3FC;\n",
              "    }\n",
              "\n",
              "    [theme=dark] .colab-df-convert:hover {\n",
              "      background-color: #434B5C;\n",
              "      box-shadow: 0px 1px 3px 1px rgba(0, 0, 0, 0.15);\n",
              "      filter: drop-shadow(0px 1px 2px rgba(0, 0, 0, 0.3));\n",
              "      fill: #FFFFFF;\n",
              "    }\n",
              "  </style>\n",
              "\n",
              "      <script>\n",
              "        const buttonEl =\n",
              "          document.querySelector('#df-2ce69bc6-1241-41c6-9bd8-cdcafec819a9 button.colab-df-convert');\n",
              "        buttonEl.style.display =\n",
              "          google.colab.kernel.accessAllowed ? 'block' : 'none';\n",
              "\n",
              "        async function convertToInteractive(key) {\n",
              "          const element = document.querySelector('#df-2ce69bc6-1241-41c6-9bd8-cdcafec819a9');\n",
              "          const dataTable =\n",
              "            await google.colab.kernel.invokeFunction('convertToInteractive',\n",
              "                                                     [key], {});\n",
              "          if (!dataTable) return;\n",
              "\n",
              "          const docLinkHtml = 'Like what you see? Visit the ' +\n",
              "            '<a target=\"_blank\" href=https://colab.research.google.com/notebooks/data_table.ipynb>data table notebook</a>'\n",
              "            + ' to learn more about interactive tables.';\n",
              "          element.innerHTML = '';\n",
              "          dataTable['output_type'] = 'display_data';\n",
              "          await google.colab.output.renderOutput(dataTable, element);\n",
              "          const docLink = document.createElement('div');\n",
              "          docLink.innerHTML = docLinkHtml;\n",
              "          element.appendChild(docLink);\n",
              "        }\n",
              "      </script>\n",
              "    </div>\n",
              "  </div>\n",
              "  "
            ],
            "text/plain": [
              "       Credit     Age  Income Education  Buy\n",
              "0        Good   Young    High      Good   No\n",
              "1   Excellent   Young    High      Good   No\n",
              "2        Good  Middle    High      Good  Yes\n",
              "3        Good     Old  Middle      Good  Yes\n",
              "4        Good     Old    High       Bad  Yes\n",
              "5   Excellent     Old    High       Bad   No\n",
              "6   Excellent  Middle    High       Bad  Yes\n",
              "7        Good   Young  Middle      Good   No\n",
              "8        Good   Young    High       Bad  Yes\n",
              "9        Good     Old  Middle       Bad  Yes\n",
              "10  Excellent   Young  Middle       Bad  Yes\n",
              "11  Excellent  Middle  Middle      Good  Yes\n",
              "12       Good  Middle    High       Bad  Yes\n",
              "13  Excellent     Old  Middle      Good   No"
            ]
          },
          "execution_count": 109,
          "metadata": {},
          "output_type": "execute_result"
        }
      ],
      "source": [
        "df = pd.read_csv(\"AbdhMohammady/DataScience/information-gain/Information-gain-sample.csv\")\n",
        "df.head(14)"
      ]
    },
    {
      "attachments": {},
      "cell_type": "markdown",
      "metadata": {},
      "source": [
        "The following relation is used to calculate the entropy of the data set,\n",
        "Where D is the dataset and Cj , j : 1,…, n are classes of target column, we suppose |Cj| denotes number of observations for class Cj, thus entropy of D is: \n",
        "\n",
        "$${Entropy}\\left({D}\\right)=-\\sum_{{j}=\\mathbf{1}}^{{n}}{\\frac{\\left|{C}_{j}\\right|}{\\left|{D}\\right|}\\times{ln}\\frac{\\left|{C}_{j}\\right|}{\\left|{D}\\right|}}$$\n",
        "\n",
        "This relation performs n times of multiplication, n times of logarithm calculation and 2n times of division.\n",
        "\n",
        "Now we manipulate this relation a little:\n",
        "\n",
        "$${Entropy}\\left({D}\\right)= -\\frac{\\mathbf{1}}{|{D}|}\\sum_{{j}= \\mathbf{1}}^{{n}}{|{C}_{j}|\\times{ln}\\frac{|{C}_{j}|}{|{D}|}}=-\\frac{\\mathbf{1}}{|{D}|}\\sum_{{j}=\\mathbf{1}}^{{n}}{|{C}_{j}|\\times({ln}|{C}_{j}|-{ln}|{D}|)}$$\n",
        "\n",
        "$$=-\\frac{\\mathbf{1}}{|{D}|}\\sum_{{j}=\\mathbf{1}}^{{n}}{(|{C}_{j}|\\times{ln}|{C}_{j}|-|{C}_{j}|\\times{ln}|{D}|)}=-\\frac{\\mathbf{1}}{|{D}|}(\\sum_{{j}=\\mathbf{1}}^{{n}}{|{C}_{j}|\\times{ln}|{C}_{j}|}-\\sum_{{j}=\\mathbf{1}}^{{n}}{|{C}_{j}|\\times{ln}|{D}|})$$\n",
        "\n",
        "$$=-\\frac{\\mathbf{1}}{|{D}|}(\\sum_{{j}=\\mathbf{1}}^{{n}}{|{C}_{j}|\\times{ln}|{C}_{j}|}-{ln}|{D}|\\sum_{{j}=\\mathbf{1}}^{{n}}{|{C}_{j}|})=-\\frac{\\mathbf{1}}{|{D}|}(\\sum_{{j}=\\mathbf{1}}^{{n}}{|{C}_{j}|\\times{ln}|{C}_{j}|}-|{D}|{ln}|{D}|)$$\n",
        "\n",
        "$$=-\\frac{\\mathbf{1}}{|{D}|}\\sum_{{j}=\\mathbf{1}}^{{n}}{|{C}_{j}|\\times{ln}|{C}_{j}|}\\ +{ln}|{D}|$$\n",
        "\n",
        "\n",
        "Now I will rewrite the last relation:\n",
        "\n",
        "$${Entropy}({D})= {ln}|{D}|-\\frac{\\mathbf{1}}{|{D}|}\\sum_{{j}=\\mathbf{1}}^{{n}}{|{C}_{j}|\\times{ln}|{C}_{j}|}$$\n",
        "\n",
        "\n",
        "With a little precision, we can see that this last relation performs n+1 times of multiplication, n+1 times of addition, n+1 times of logarithm, and one time of division.\n",
        "\n",
        "I use the last relation.\n",
        "\n"
      ]
    },
    {
      "cell_type": "markdown",
      "metadata": {
        "id": "a2iwnyX56rlm"
      },
      "source": [
        "<font size = 20><b>Step 1 :</b></font> In this step we need get classes of the target column and number of observeations for each class."
      ]
    },
    {
      "cell_type": "code",
      "execution_count": 110,
      "metadata": {
        "id": "yOFRMjmuhyVW"
      },
      "outputs": [],
      "source": [
        "# find all classes of target column\n",
        "target_column ='Buy'\n",
        "\n",
        "classes = numpy.array(pd.Categorical(df[target_column]).categories)\n"
      ]
    },
    {
      "cell_type": "code",
      "execution_count": 111,
      "metadata": {
        "colab": {
          "base_uri": "https://localhost:8080/"
        },
        "id": "rofipexniJ1n",
        "outputId": "5e37a604-3751-482a-e007-d1ae28c58d9a"
      },
      "outputs": [
        {
          "name": "stdout",
          "output_type": "stream",
          "text": [
            "Entropy of the dataset : 0.651756561172653\n"
          ]
        }
      ],
      "source": [
        "\n",
        "sum_ = 0\n",
        "\n",
        "#computing sumation part of above relation\n",
        "for cls in classes:\n",
        "    len_ = len(df[df[target_column]==cls]) \n",
        "    sum_ += len_*math.log(len_)\n",
        "\n",
        "len_dataset = len(df)\n",
        "#computeing the final result and get entropy of the dataset\n",
        "dataset_entropy = math.log(len_dataset) - sum_/len_dataset\n",
        "\n",
        "print(\"Entropy of the dataset :\", dataset_entropy)"
      ]
    },
    {
      "cell_type": "markdown",
      "metadata": {
        "id": "_pDAv5UdPrWt"
      },
      "source": [
        "<font size = 20><b>Step 2 :</b></font> \n",
        "Now, suppose Fi, i: 1 ,…, m are features of the dataset and the feature i has categories indexed Fir , r : 1,…,k\n",
        "We denote number of observations of class j in the category r of feature i by |Fir(Cj)|. To calculate the entropy of Fi, first need to calculate entropy of Fir, computation of entropy of Fir is similar to D. The final results is as follows:\n",
        "\n",
        "$${Entropy}\\left({F}_{{ir}}\\right)=-\\sum_{{j}=\\mathbf{1}}^{{n}}{\\frac{\\left|{{F}_{{ir}}({C}}_{j})\\right|}{\\left|{F}_{{ir}}\\right|}\\times{ln}\\frac{\\left|{{F}_{{ir}}({C}}_{j})\\right|}{\\left|{F}_{{ir}}\\right|}}={ln}|{F}_{{ir}}|-\\frac{\\mathbf{1}}{|{F}_{{ir}}|}\\sum_{{j}=\\mathbf{1}}^{{n}}{|{{F}_{{ir}}({C}}_{j})|\\times{ln}|{{F}_{{ir}}({C}}_{j})|}$$\n",
        "\n",
        "\n",
        "<font size = 20><b>Step 3 :</b></font> And then we use the following relation to get the entropy Fi: \n",
        "$${Entropy}\\left({F}_{i}\\right)=-\\frac{{1}}{|{D}|}\\sum_{r=\\mathbf{1}}^{k}{|{F}_{{ir}}|\\times{Entropy}({F}_{{ir}})}$$\n",
        "\n",
        "Finally Gain of Fi is:\n",
        "$${Gain}({F}_{i})={Entropy}({D})\\ -\\ {Entropy}({F}_{i})$$\n",
        "\n",
        "When the number of categories in a feature exceeds a reasonable value, this method tends to select these types of features as features with more information. Because the sum of the series becomes a large number at a very high number. Therefore, to reduce this effect, the concept of split information is used, which is as follows.\n",
        "\n",
        "$${SplitInfo}\\left({F}_{i}\\right)=-\\frac{\\mathbf{1}}{|{D}|}\\sum_{{r}=\\mathbf{1}}^{{k}}{|{F}_{{ir}}|\\times{ln}(\\frac{|{F}_{{ir}}|}{|{D}|})=}\\  {ln}|{D}|-\\ \\frac{\\mathbf{1}}{|{D}|}\\sum_{{r}=\\mathbf{1}}^{{k}}{|{F}_{{ir}}|\\times{ln}|{F}_{{ir}}|}$$\n",
        "\n",
        "\n",
        "And in this way, a more suitable value called the information gain ratio is obtained, this is:\n",
        "\n",
        "$${GainRatio}({F}_{i})=\\frac{{Gain}({F}({i}))}{{SplitInfo}({F}_{i})}$$\n",
        "\n",
        "The result of this method is not much different from the result of gain information when the number of categories is small."
      ]
    },
    {
      "cell_type": "code",
      "execution_count": 112,
      "metadata": {
        "colab": {
          "base_uri": "https://localhost:8080/"
        },
        "id": "yndhQQCqF84k",
        "outputId": "12d11319-7497-44ca-a07f-ac392c72c67e"
      },
      "outputs": [
        {
          "data": {
            "text/plain": [
              "[['Credit', 1.2701540069090913, 1.8599193627467494],\n",
              " ['Age', 1.132479180464979, 1.0357649232970365],\n",
              " ['Income', 1.3025844836749911, 1.907408148635627],\n",
              " ['Education', 1.198268772667093, 1.7287364159789202]]"
            ]
          },
          "execution_count": 112,
          "metadata": {},
          "output_type": "execute_result"
        }
      ],
      "source": [
        "#returns features of the dataset by removeing target column\n",
        "features = df.columns.delete(4)\n",
        "# we store gain information as a list which each item is a list of three value [feature name , gain info , gain ratio ]\n",
        "gain_info = []\n",
        "# 'feature' is used instead of Fi\n",
        "for feature in features:\n",
        "    #get categories of the 'feature'\n",
        "    categories = numpy.array(pd.Categorical(df[feature]).categories)\n",
        "    # this is calculates sum of | Fir | * Entropy(Fir)\n",
        "    sum_entropy_part_feature = 0\n",
        "    sum_split_info = 0\n",
        "    # 'category' is used instead of Fir\n",
        "    for category in categories:\n",
        "        # equal to |Fir|\n",
        "        len_cat = len (df[df[feature]==category])\n",
        "\n",
        "        sum_entropy = 0\n",
        "       \n",
        "        # 'classes' is defined and processed in step 1\n",
        "        for cls in classes:\n",
        "            part_cls = df[df[target_column]==cls]\n",
        "            part_category = part_cls[part_cls[feature]==category]\n",
        "            # the len_ equal to |Fir(Cj)|\n",
        "            len_ = len(part_category)\n",
        "            if len_>0 : sum_entropy += len_*math.log(len_)\n",
        "           \n",
        "        # entropy of Fir\n",
        "        entropy_Fir = math.log(len_cat) - sum_entropy/len_cat \n",
        "\n",
        "        sum_entropy_part_feature += len_cat * entropy_Fir\n",
        "        #\n",
        "        sum_split_info += len_cat * math.log(len_cat)\n",
        "        # end of loop --> for category\n",
        "    # \n",
        "    feature_entropy = - sum_entropy_part_feature/len_dataset\n",
        "    \n",
        "    feature_splitInfo = math.log(len_dataset) - sum_split_info/len_dataset\n",
        "\n",
        "    gain_feature = dataset_entropy - feature_entropy \n",
        "\n",
        "    gain_info.append([feature , gain_feature , gain_feature / feature_splitInfo])\n",
        "\n",
        "gain_info"
      ]
    },
    {
      "cell_type": "markdown",
      "metadata": {
        "id": "XNbO1kYJ0oqw"
      },
      "source": [
        "<font size = 20><b>Step 4 :</b></font>In this step, we have to select the feature that has the biggest information gain as the node of the tree"
      ]
    },
    {
      "cell_type": "code",
      "execution_count": 113,
      "metadata": {
        "colab": {
          "base_uri": "https://localhost:8080/"
        },
        "id": "uy1EwpQn1Nhl",
        "outputId": "4d6075ed-53a1-4ca6-c108-940c7f1f5821"
      },
      "outputs": [
        {
          "data": {
            "text/plain": [
              "['Income', 1.3025844836749911, 1.907408148635627]"
            ]
          },
          "execution_count": 113,
          "metadata": {},
          "output_type": "execute_result"
        }
      ],
      "source": [
        "#get maximum value in the gain info list\n",
        "max_info = gain_info[0]\n",
        "for info in gain_info:\n",
        "    # In this condition, if you use index 1, the information features is compared based on gain info, and if you use index 2, it is based on gain ratio.\n",
        "    if info[2] > max_info[2] : max_info = info\n",
        "\n",
        "max_info"
      ]
    },
    {
      "cell_type": "markdown",
      "metadata": {
        "id": "tfPN29vR67Kn"
      },
      "source": [
        "So far we have only calculated the root node, from this step onwards we must first split the data using the found node. Then, to continue the work, we repeat the same process for each part, that is, each part plays the role of a dynasty and a node is found for it according to the above steps to reach the end of the leaves."
      ]
    },
    {
      "cell_type": "code",
      "execution_count": null,
      "metadata": {
        "id": "tSetyfcwB44-"
      },
      "outputs": [],
      "source": [
        "#!pip install rich"
      ]
    },
    {
      "cell_type": "code",
      "execution_count": null,
      "metadata": {
        "id": "v0jLTgg0_xLR"
      },
      "outputs": [],
      "source": [
        "from rich.console import Console\n",
        "from rich.table import Table\n",
        "\n",
        "console = Console()"
      ]
    },
    {
      "cell_type": "code",
      "execution_count": 117,
      "metadata": {
        "colab": {
          "base_uri": "https://localhost:8080/",
          "height": 419
        },
        "id": "fSEsnZlK7Spn",
        "outputId": "cecde528-d4de-4948-9f18-434742549401"
      },
      "outputs": [
        {
          "data": {
            "text/html": [
              "<pre style=\"white-space:pre;overflow-x:auto;line-height:normal;font-family:Menlo,'DejaVu Sans Mono',consolas,'Courier New',monospace\">┏━━━━━━━━━━━━━━━━━━━━━━━━━━━━━━━━━━━━━━━━━━━━━┓\n",
              "┃<span style=\"font-weight: bold\"> From Income, Category : High                </span>┃\n",
              "┡━━━━━━━━━━━━━━━━━━━━━━━━━━━━━━━━━━━━━━━━━━━━━┩\n",
              "│        Credit     Age Income Education  Buy │\n",
              "│ 0        Good   Young   High      Good   No │\n",
              "│ 1   Excellent   Young   High      Good   No │\n",
              "│ 2        Good  Middle   High      Good  Yes │\n",
              "│ 4        Good     Old   High       Bad  Yes │\n",
              "│ 5   Excellent     Old   High       Bad   No │\n",
              "│ 6   Excellent  Middle   High       Bad  Yes │\n",
              "│ 8        Good   Young   High       Bad  Yes │\n",
              "│ 12       Good  Middle   High       Bad  Yes │\n",
              "└─────────────────────────────────────────────┘\n",
              "</pre>\n"
            ],
            "text/plain": [
              "┏━━━━━━━━━━━━━━━━━━━━━━━━━━━━━━━━━━━━━━━━━━━━━┓\n",
              "┃\u001b[1m \u001b[0m\u001b[1mFrom Income, Category : High               \u001b[0m\u001b[1m \u001b[0m┃\n",
              "┡━━━━━━━━━━━━━━━━━━━━━━━━━━━━━━━━━━━━━━━━━━━━━┩\n",
              "│        Credit     Age Income Education  Buy │\n",
              "│ 0        Good   Young   High      Good   No │\n",
              "│ 1   Excellent   Young   High      Good   No │\n",
              "│ 2        Good  Middle   High      Good  Yes │\n",
              "│ 4        Good     Old   High       Bad  Yes │\n",
              "│ 5   Excellent     Old   High       Bad   No │\n",
              "│ 6   Excellent  Middle   High       Bad  Yes │\n",
              "│ 8        Good   Young   High       Bad  Yes │\n",
              "│ 12       Good  Middle   High       Bad  Yes │\n",
              "└─────────────────────────────────────────────┘\n"
            ]
          },
          "metadata": {},
          "output_type": "display_data"
        },
        {
          "data": {
            "text/html": [
              "<pre style=\"white-space:pre;overflow-x:auto;line-height:normal;font-family:Menlo,'DejaVu Sans Mono',consolas,'Courier New',monospace\">┏━━━━━━━━━━━━━━━━━━━━━━━━━━━━━━━━━━━━━━━━━━━━━━┓\n",
              "┃<span style=\"font-weight: bold\"> From Income, Category : Middle               </span>┃\n",
              "┡━━━━━━━━━━━━━━━━━━━━━━━━━━━━━━━━━━━━━━━━━━━━━━┩\n",
              "│        Credit     Age  Income Education  Buy │\n",
              "│ 3        Good     Old  Middle      Good  Yes │\n",
              "│ 7        Good   Young  Middle      Good   No │\n",
              "│ 9        Good     Old  Middle       Bad  Yes │\n",
              "│ 10  Excellent   Young  Middle       Bad  Yes │\n",
              "│ 11  Excellent  Middle  Middle      Good  Yes │\n",
              "│ 13  Excellent     Old  Middle      Good   No │\n",
              "└──────────────────────────────────────────────┘\n",
              "</pre>\n"
            ],
            "text/plain": [
              "┏━━━━━━━━━━━━━━━━━━━━━━━━━━━━━━━━━━━━━━━━━━━━━━┓\n",
              "┃\u001b[1m \u001b[0m\u001b[1mFrom Income, Category : Middle              \u001b[0m\u001b[1m \u001b[0m┃\n",
              "┡━━━━━━━━━━━━━━━━━━━━━━━━━━━━━━━━━━━━━━━━━━━━━━┩\n",
              "│        Credit     Age  Income Education  Buy │\n",
              "│ 3        Good     Old  Middle      Good  Yes │\n",
              "│ 7        Good   Young  Middle      Good   No │\n",
              "│ 9        Good     Old  Middle       Bad  Yes │\n",
              "│ 10  Excellent   Young  Middle       Bad  Yes │\n",
              "│ 11  Excellent  Middle  Middle      Good  Yes │\n",
              "│ 13  Excellent     Old  Middle      Good   No │\n",
              "└──────────────────────────────────────────────┘\n"
            ]
          },
          "metadata": {},
          "output_type": "display_data"
        }
      ],
      "source": [
        "node = max_info[0]\n",
        "\n",
        "categories = numpy.array(pd.Categorical(df[node]).categories)\n",
        "\n",
        "parts = []\n",
        "\n",
        "for category in categories:\n",
        "    table = Table(\"From \"+ node + \", Category : \"+category)\n",
        "    d = df[df[node]==category]\n",
        "    table.add_row(d.to_string())\n",
        "    console.print(table)\n",
        "    \n"
      ]
    },
    {
      "cell_type": "markdown",
      "metadata": {
        "id": "LQ14ClN4CGnW"
      },
      "source": [
        "this notebook will be updated ..."
      ]
    }
  ],
  "metadata": {
    "colab": {
      "authorship_tag": "ABX9TyNpKUTXEyMlF6vCGkLGRZRA",
      "include_colab_link": true,
      "provenance": []
    },
    "kernelspec": {
      "display_name": "Python 3",
      "name": "python3"
    },
    "language_info": {
      "name": "python"
    }
  },
  "nbformat": 4,
  "nbformat_minor": 0
}
