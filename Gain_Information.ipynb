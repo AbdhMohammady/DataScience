{
 "cells": [
  {
   "cell_type": "markdown",
   "id": "95ff1ff2",
   "metadata": {},
   "source": [
    "In this notebook, we are going to implement the method of calculating information gain based on entropy.\n",
    "This is an educational notebook and I request the readers to report any bugs to <b>AbdhMogammady@gmail.com</b> or comment on my github.\n",
    "I tried to write this notebook so that it can be used for other datasets, currently this notebook can be used for datasets with categorical columns and two-class for target column.\n",
    "At the end of the notebook, after obtaining the highest information gain,you can use the column found as the root of the decision tree algoritm.\n",
    "\n",
    "The entropy of the original dataset is calculated based on the target column named 'Buy'.\n",
    "Suppose our dataset is D and has k = 2 is number of classes in the target column,we index them as class_i and the total number of records in the dataset is equal to N, so:\n",
    "\n",
    "n(D)=N ==> P(class_i) = n(class_i)/n(D) = p_i\n",
    "\n",
    "and Entropy of D is:\n",
    "\n",
    "Entropy(D) = -( p_1*Ln(p_1)+ P_2*Ln(p_2)+...+P_k*Ln(p_k) )\n",
    "\n",
    "This article will be updated."
   ]
  },
  {
   "cell_type": "code",
   "execution_count": 178,
   "id": "0a529966",
   "metadata": {},
   "outputs": [],
   "source": [
    "import pandas # to working with dataset\n",
    "import math   # to working with math functions like log10"
   ]
  },
  {
   "cell_type": "code",
   "execution_count": 179,
   "id": "1af2d194",
   "metadata": {},
   "outputs": [
    {
     "data": {
      "text/html": [
       "<div>\n",
       "<style scoped>\n",
       "    .dataframe tbody tr th:only-of-type {\n",
       "        vertical-align: middle;\n",
       "    }\n",
       "\n",
       "    .dataframe tbody tr th {\n",
       "        vertical-align: top;\n",
       "    }\n",
       "\n",
       "    .dataframe thead th {\n",
       "        text-align: right;\n",
       "    }\n",
       "</style>\n",
       "<table border=\"1\" class=\"dataframe\">\n",
       "  <thead>\n",
       "    <tr style=\"text-align: right;\">\n",
       "      <th></th>\n",
       "      <th>Credit</th>\n",
       "      <th>Age</th>\n",
       "      <th>Income</th>\n",
       "      <th>Education</th>\n",
       "      <th>Buy</th>\n",
       "    </tr>\n",
       "  </thead>\n",
       "  <tbody>\n",
       "    <tr>\n",
       "      <th>0</th>\n",
       "      <td>Good</td>\n",
       "      <td>Young</td>\n",
       "      <td>High</td>\n",
       "      <td>Good</td>\n",
       "      <td>No</td>\n",
       "    </tr>\n",
       "    <tr>\n",
       "      <th>1</th>\n",
       "      <td>Excellent</td>\n",
       "      <td>Young</td>\n",
       "      <td>High</td>\n",
       "      <td>Good</td>\n",
       "      <td>No</td>\n",
       "    </tr>\n",
       "    <tr>\n",
       "      <th>2</th>\n",
       "      <td>Good</td>\n",
       "      <td>Middle</td>\n",
       "      <td>High</td>\n",
       "      <td>Good</td>\n",
       "      <td>Yes</td>\n",
       "    </tr>\n",
       "    <tr>\n",
       "      <th>3</th>\n",
       "      <td>Good</td>\n",
       "      <td>Old</td>\n",
       "      <td>Middle</td>\n",
       "      <td>Good</td>\n",
       "      <td>Yes</td>\n",
       "    </tr>\n",
       "    <tr>\n",
       "      <th>4</th>\n",
       "      <td>Good</td>\n",
       "      <td>Old</td>\n",
       "      <td>High</td>\n",
       "      <td>Bad</td>\n",
       "      <td>Yes</td>\n",
       "    </tr>\n",
       "  </tbody>\n",
       "</table>\n",
       "</div>"
      ],
      "text/plain": [
       "      Credit     Age  Income Education  Buy\n",
       "0       Good   Young    High      Good   No\n",
       "1  Excellent   Young    High      Good   No\n",
       "2       Good  Middle    High      Good  Yes\n",
       "3       Good     Old  Middle      Good  Yes\n",
       "4       Good     Old    High       Bad  Yes"
      ]
     },
     "execution_count": 179,
     "metadata": {},
     "output_type": "execute_result"
    }
   ],
   "source": [
    "#This is a very sample dataset to learn Gain information rules\n",
    "df = pandas.read_csv('Gain-Information-sample.csv')\n",
    "\n",
    "# number of record we read by pandas from our dataset, \n",
    "# we use this value as size of the sample to claculte probability of each class\n",
    "n_records = len(df)\n",
    "\n",
    "# display all data\n",
    "df.head()\n"
   ]
  },
  {
   "cell_type": "code",
   "execution_count": 180,
   "id": "c401c75c",
   "metadata": {},
   "outputs": [
    {
     "name": "stdout",
     "output_type": "stream",
     "text": [
      "Buy groups dictionary:\n",
      " {'No': [0, 1, 5, 7, 13], 'Yes': [2, 3, 4, 6, 8, 9, 10, 11, 12]}\n"
     ]
    },
    {
     "data": {
      "text/html": [
       "<div>\n",
       "<style scoped>\n",
       "    .dataframe tbody tr th:only-of-type {\n",
       "        vertical-align: middle;\n",
       "    }\n",
       "\n",
       "    .dataframe tbody tr th {\n",
       "        vertical-align: top;\n",
       "    }\n",
       "\n",
       "    .dataframe thead tr th {\n",
       "        text-align: left;\n",
       "    }\n",
       "\n",
       "    .dataframe thead tr:last-of-type th {\n",
       "        text-align: right;\n",
       "    }\n",
       "</style>\n",
       "<table border=\"1\" class=\"dataframe\">\n",
       "  <thead>\n",
       "    <tr>\n",
       "      <th></th>\n",
       "      <th colspan=\"4\" halign=\"left\">Credit</th>\n",
       "      <th colspan=\"4\" halign=\"left\">Age</th>\n",
       "      <th colspan=\"4\" halign=\"left\">Income</th>\n",
       "      <th colspan=\"4\" halign=\"left\">Education</th>\n",
       "    </tr>\n",
       "    <tr>\n",
       "      <th></th>\n",
       "      <th>count</th>\n",
       "      <th>unique</th>\n",
       "      <th>top</th>\n",
       "      <th>freq</th>\n",
       "      <th>count</th>\n",
       "      <th>unique</th>\n",
       "      <th>top</th>\n",
       "      <th>freq</th>\n",
       "      <th>count</th>\n",
       "      <th>unique</th>\n",
       "      <th>top</th>\n",
       "      <th>freq</th>\n",
       "      <th>count</th>\n",
       "      <th>unique</th>\n",
       "      <th>top</th>\n",
       "      <th>freq</th>\n",
       "    </tr>\n",
       "    <tr>\n",
       "      <th>Buy</th>\n",
       "      <th></th>\n",
       "      <th></th>\n",
       "      <th></th>\n",
       "      <th></th>\n",
       "      <th></th>\n",
       "      <th></th>\n",
       "      <th></th>\n",
       "      <th></th>\n",
       "      <th></th>\n",
       "      <th></th>\n",
       "      <th></th>\n",
       "      <th></th>\n",
       "      <th></th>\n",
       "      <th></th>\n",
       "      <th></th>\n",
       "      <th></th>\n",
       "    </tr>\n",
       "  </thead>\n",
       "  <tbody>\n",
       "    <tr>\n",
       "      <th>No</th>\n",
       "      <td>5</td>\n",
       "      <td>2</td>\n",
       "      <td>Excellent</td>\n",
       "      <td>3</td>\n",
       "      <td>5</td>\n",
       "      <td>2</td>\n",
       "      <td>Young</td>\n",
       "      <td>3</td>\n",
       "      <td>5</td>\n",
       "      <td>2</td>\n",
       "      <td>High</td>\n",
       "      <td>3</td>\n",
       "      <td>5</td>\n",
       "      <td>2</td>\n",
       "      <td>Good</td>\n",
       "      <td>4</td>\n",
       "    </tr>\n",
       "    <tr>\n",
       "      <th>Yes</th>\n",
       "      <td>9</td>\n",
       "      <td>2</td>\n",
       "      <td>Good</td>\n",
       "      <td>6</td>\n",
       "      <td>9</td>\n",
       "      <td>3</td>\n",
       "      <td>Middle</td>\n",
       "      <td>4</td>\n",
       "      <td>9</td>\n",
       "      <td>2</td>\n",
       "      <td>High</td>\n",
       "      <td>5</td>\n",
       "      <td>9</td>\n",
       "      <td>2</td>\n",
       "      <td>Bad</td>\n",
       "      <td>6</td>\n",
       "    </tr>\n",
       "  </tbody>\n",
       "</table>\n",
       "</div>"
      ],
      "text/plain": [
       "    Credit                          Age                     Income         \\\n",
       "     count unique        top freq count unique     top freq  count unique   \n",
       "Buy                                                                         \n",
       "No       5      2  Excellent    3     5      2   Young    3      5      2   \n",
       "Yes      9      2       Good    6     9      3  Middle    4      9      2   \n",
       "\n",
       "               Education                    \n",
       "      top freq     count unique   top freq  \n",
       "Buy                                         \n",
       "No   High    3         5      2  Good    4  \n",
       "Yes  High    5         9      2   Bad    6  "
      ]
     },
     "execution_count": 180,
     "metadata": {},
     "output_type": "execute_result"
    }
   ],
   "source": [
    "group_object = df.groupby(by=\"Buy\")\n",
    "\n",
    "buy_groups_dict = group_object.groups\n",
    "\n",
    "print(\"Buy groups dictionary:\\n\",buy_groups_dict)\n",
    "\n",
    "group_object.describe()\n"
   ]
  },
  {
   "cell_type": "code",
   "execution_count": 185,
   "id": "b06e8c5a",
   "metadata": {},
   "outputs": [
    {
     "name": "stdout",
     "output_type": "stream",
     "text": [
      "Dataset Entropy :  0.6517565611726531\n"
     ]
    }
   ],
   "source": [
    "#Compute entropy of the dataset\n",
    "\n",
    "#Calculate the frequency of each item in the group\n",
    "\n",
    "dataset_entropy = 0\n",
    "\n",
    "for key in buy_groups_dict:\n",
    "    #list of real index of items in the dataset\n",
    "    index_list = buy_groups_dict.get(str(key)).to_list()\n",
    "    n_class_item = len(index_list)\n",
    "    prob_class_item = n_class_item/n_records\n",
    "    #print(\"Class '\"+ key+\"',frequency =\" ,n_class_item,',P('+key+\") = \",prob_class_item)\n",
    "    \n",
    "    #print()\n",
    "    \n",
    "    log_class_item = math.log(prob_class_item)\n",
    "    \n",
    "    #print(\"P(\"+key+\") x Log(p(\"+key+\"))=\",prob_class_item*log_class_item)\n",
    "    \n",
    "    #print()\n",
    "    \n",
    "    dataset_entropy = dataset_entropy + prob_class_item*log_class_item\n",
    "    \n",
    "dataset_entropy = - dataset_entropy\n",
    "\n",
    "print(\"Dataset Entropy : \",dataset_entropy)\n",
    "    "
   ]
  },
  {
   "cell_type": "markdown",
   "id": "5cb32176",
   "metadata": {},
   "source": [
    "Computing entropy of a column"
   ]
  },
  {
   "cell_type": "code",
   "execution_count": 182,
   "id": "6f0a6e52",
   "metadata": {},
   "outputs": [
    {
     "data": {
      "text/plain": [
       "['Credit', 'Age', 'Income', 'Education']"
      ]
     },
     "execution_count": 182,
     "metadata": {},
     "output_type": "execute_result"
    }
   ],
   "source": [
    "# get list of column name\n",
    "columns = list(df.columns.values)\n",
    "\n",
    "# no need target column to calculate entropy and gain information\n",
    "del columns[4] \n",
    "\n",
    "columns"
   ]
  },
  {
   "cell_type": "code",
   "execution_count": 210,
   "id": "32e2cb22",
   "metadata": {},
   "outputs": [
    {
     "name": "stdout",
     "output_type": "stream",
     "text": [
      "\n",
      "Gain information of column 'Credit' :  0.033359115436214726\n",
      "\n",
      "Gain information of column 'Age' :  0.17103394188032706\n",
      "\n",
      "Gain information of column 'Income' :  0.0009286386703150074\n",
      "\n",
      "Gain information of column 'Education' :  0.10524434967821283\n"
     ]
    }
   ],
   "source": [
    "\n",
    "# initalize empty dictionary to store 'Gain Information' of each column \n",
    "gain_info_dict = dict()\n",
    "\n",
    "column_entropy = 0\n",
    "\n",
    "for column_ in columns:\n",
    "    \n",
    "    column_entropy = 0\n",
    "    group_object = df.groupby(by=column_)\n",
    "\n",
    "    classes = list(group_object.groups.keys())\n",
    "\n",
    "    for class_ in classes:\n",
    "\n",
    "        n_yes = 0\n",
    "        n_no  = 0\n",
    "    \n",
    "        for i in range(n_records):\n",
    "            if df[column_][i]==class_:\n",
    "                if df['Buy'][i]=='Yes': n_yes+=1\n",
    "                if df['Buy'][i]=='No' : n_no+=1\n",
    "\n",
    "        #Number of subclass items\n",
    "        n_class = n_yes + n_no\n",
    "\n",
    "        p_yes = 0\n",
    "        \n",
    "        if n_yes != 0 and n_class != 0 :p_yes = n_yes/n_class\n",
    "            \n",
    "        p_no  = 0\n",
    "        \n",
    "        if n_no != 0 and n_class != 0 :p_no = n_no/n_class\n",
    "        \n",
    "        class_entropy = 0\n",
    "        \n",
    "        if p_yes != 0 : class_entropy = p_yes*math.log(p_yes)\n",
    "            \n",
    "        if p_no != 0 : class_entropy += p_no*math.log(p_no)\n",
    "        \n",
    "        class_entropy = - class_entropy\n",
    "\n",
    "        column_entropy += (n_class/n_records)* class_entropy\n",
    "    \n",
    "        #print(\"\\nEntropy of the class of '\"+class_+\"' : \",class_entropy)\n",
    "    gain_info_dict[column_] = dataset_entropy - column_entropy\n",
    "    \n",
    "    #print(\"\\nEntropy of column '\"+column_+\"' : \",column_entropy) \n",
    "    print(\"\\nGain information of column '\"+column_+\"' : \",dataset_entropy - column_entropy) \n",
    "    "
   ]
  },
  {
   "cell_type": "code",
   "execution_count": 211,
   "id": "ce276deb",
   "metadata": {},
   "outputs": [
    {
     "name": "stdout",
     "output_type": "stream",
     "text": [
      "The column with the highest information gain:\n",
      "\n",
      "\tColumn 'Age'\n",
      "\tIngormation Gain :  0.17103394188032706\n"
     ]
    }
   ],
   "source": [
    "#find item with maximom value in the dictionary\n",
    "max_item = list(gain_info_dict.keys())[0]\n",
    "\n",
    "for item in gain_info_dict:\n",
    "    if gain_info_dict[item]> gain_info_dict[max_item]:\n",
    "        max_item = item\n",
    "\n",
    "print(\"The column with the highest information gain:\\n\\n\\tColumn '\"\n",
    "      + max_item+\"'\\n\\tIngormation Gain : \",gain_info_dict[max_item])"
   ]
  },
  {
   "cell_type": "markdown",
   "id": "e00890db",
   "metadata": {},
   "source": [
    "<b>Now the column found can be used for the root of the decision tree algorithm</b>"
   ]
  }
 ],
 "metadata": {
  "kernelspec": {
   "display_name": "Python 3 (ipykernel)",
   "language": "python",
   "name": "python3"
  },
  "language_info": {
   "codemirror_mode": {
    "name": "ipython",
    "version": 3
   },
   "file_extension": ".py",
   "mimetype": "text/x-python",
   "name": "python",
   "nbconvert_exporter": "python",
   "pygments_lexer": "ipython3",
   "version": "3.9.13"
  }
 },
 "nbformat": 4,
 "nbformat_minor": 5
}
