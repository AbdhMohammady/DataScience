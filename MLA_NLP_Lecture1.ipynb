{
  "nbformat": 4,
  "nbformat_minor": 0,
  "metadata": {
    "colab": {
      "provenance": []
    },
    "kernelspec": {
      "name": "python3",
      "display_name": "Python 3"
    },
    "language_info": {
      "name": "python"
    }
  },
  "cells": [
    {
      "cell_type": "markdown",
      "source": [
        "<font size='6'>This notebook is an educational exercise to convert the notebook of the Amazon dataset to use the imdb dataset</font>"
      ],
      "metadata": {
        "id": "zwURSOa7_OOn"
      }
    },
    {
      "cell_type": "markdown",
      "source": [
        "<font size ='20'>Install nltk</font>"
      ],
      "metadata": {
        "id": "utCsVKMF_zC8"
      }
    },
    {
      "cell_type": "code",
      "source": [
        "import nltk\n",
        "nltk.download('punkt')\n",
        "nltk.download('stopwords')"
      ],
      "metadata": {
        "id": "q0QTl7mectqz",
        "colab": {
          "base_uri": "https://localhost:8080/"
        },
        "outputId": "324e5983-7758-494b-bc2d-bb1493f6db8f"
      },
      "execution_count": 65,
      "outputs": [
        {
          "output_type": "stream",
          "name": "stderr",
          "text": [
            "[nltk_data] Downloading package punkt to /root/nltk_data...\n",
            "[nltk_data]   Package punkt is already up-to-date!\n",
            "[nltk_data] Downloading package stopwords to /root/nltk_data...\n",
            "[nltk_data]   Package stopwords is already up-to-date!\n"
          ]
        },
        {
          "output_type": "execute_result",
          "data": {
            "text/plain": [
              "True"
            ]
          },
          "metadata": {},
          "execution_count": 65
        }
      ]
    },
    {
      "cell_type": "markdown",
      "source": [
        "<font size ='20'>Importing libraries</font>\n"
      ],
      "metadata": {
        "id": "1xFBAZAEAAjy"
      }
    },
    {
      "cell_type": "code",
      "source": [
        "import nltk, re\n",
        "from nltk.corpus import stopwords\n",
        "from nltk.stem import SnowballStemmer\n",
        "from nltk.tokenize import word_tokenize\n",
        "from sklearn.pipeline import Pipeline\n",
        "from sklearn.feature_extraction.text import CountVectorizer\n",
        "from sklearn.neighbors import KNeighborsClassifier\n",
        "import pandas as pd\n",
        "from sklearn import set_config\n",
        "from sklearn.metrics import confusion_matrix, classification_report, accuracy_score"
      ],
      "metadata": {
        "id": "M_MAh6wuA_rQ"
      },
      "execution_count": 66,
      "outputs": []
    },
    {
      "cell_type": "markdown",
      "source": [
        "<font size ='20'>Reading dataset</font>"
      ],
      "metadata": {
        "id": "Y8-V7ynKBqXN"
      }
    },
    {
      "cell_type": "code",
      "source": [
        "# Read train data\n",
        "df1 = pd.read_csv('/content/drive/MyDrive/DATA/imdb_train.csv')\n",
        "\n",
        "print('The shape of the original dataset is:', df1.shape)\n",
        "#remove null recoreds\n",
        "df1 = df1.dropna()\n",
        "print('The shape of cleaned dataset is:', df1.shape)\n",
        "\n",
        "X_train = df1[\"text\"] \n",
        "y_train = df1[\"label\"]\n",
        "\n",
        "# Reads test data\n",
        "df2 = pd.read_csv('/content/drive/MyDrive/DATA/imdb_test.csv')\n",
        "# remove null records\n",
        "df2 = df2.dropna()\n",
        "\n",
        "X_test =df2[\"text\"]\n",
        "y_test = df2[\"label\"]\n",
        "\n",
        "print('The shape of test data', df2.shape)"
      ],
      "metadata": {
        "id": "tlgdlxu1c2lz",
        "colab": {
          "base_uri": "https://localhost:8080/"
        },
        "outputId": "4d7bc0df-46da-42d9-cb88-2508becdec45"
      },
      "execution_count": 67,
      "outputs": [
        {
          "output_type": "stream",
          "name": "stdout",
          "text": [
            "The shape of the original dataset is: (4001, 2)\n",
            "The shape of cleaned dataset is: (4000, 2)\n",
            "The shape of test data (4492, 2)\n"
          ]
        }
      ]
    },
    {
      "cell_type": "markdown",
      "source": [
        "<font size ='20'>Defineing stop words processor function</font>"
      ],
      "metadata": {
        "id": "lAfSGk5IBkQj"
      }
    },
    {
      "cell_type": "code",
      "source": [
        "# Let's get a list of stop words from the NLTK library\n",
        "stop = stopwords.words('english')\n",
        "\n",
        "# These words are important for our problem. We don't want to remove them.\n",
        "excluding = ['against', 'not', 'don', \"don't\",'ain', 'aren', \"aren't\", 'couldn', \"couldn't\",\n",
        "             'didn', \"didn't\", 'doesn', \"doesn't\", 'hadn', \"hadn't\", 'hasn', \"hasn't\", \n",
        "             'haven', \"haven't\", 'isn', \"isn't\", 'mightn', \"mightn't\", 'mustn', \"mustn't\",\n",
        "             'needn', \"needn't\",'shouldn', \"shouldn't\", 'wasn', \"wasn't\", 'weren', \n",
        "             \"weren't\", 'won', \"won't\", 'wouldn', \"wouldn't\"]\n",
        "\n",
        "# New stop word list\n",
        "stop_words = [word for word in stop if word not in excluding]\n",
        "\n",
        "snow = SnowballStemmer('english')\n",
        "\n",
        "def process_text(texts): \n",
        "    final_text_list=[]\n",
        "    for sent in texts:\n",
        "        \n",
        "        # Check if the sentence is a missing value\n",
        "        #if isinstance(sent, str) == False: sent = \"\"\n",
        "            \n",
        "        filtered_sentence=[]\n",
        "        \n",
        "        sent = sent.lower() # Lowercase \n",
        "        sent = sent.strip() # Remove leading/trailing whitespace\n",
        "        sent = re.sub('\\s+', ' ', sent) # Remove extra space and tabs\n",
        "        sent = re.compile('<.*?>').sub('', sent) # Remove HTML tags/markups\n",
        "\n",
        "        for w in word_tokenize(sent):\n",
        "            # We are applying some custom filtering here, feel free to try different things\n",
        "            # Check if it is not numeric and its length>2 and not in stop words\n",
        "            if(not w.isnumeric()) and (len(w)>2) and (w not in stop_words):  \n",
        "                # Stem and add to filtered list\n",
        "                filtered_sentence.append(snow.stem(w))\n",
        "        final_string = \" \".join(filtered_sentence) #final string of cleaned words\n",
        " \n",
        "        final_text_list.append(final_string)\n",
        "        \n",
        "    return final_text_list\n"
      ],
      "metadata": {
        "id": "UeXdZElDcy5l"
      },
      "execution_count": 68,
      "outputs": []
    },
    {
      "cell_type": "markdown",
      "source": [
        "<font size ='10'>Calling stop word processor function</font>"
      ],
      "metadata": {
        "id": "SgFheGNjCfdG"
      }
    },
    {
      "cell_type": "code",
      "source": [
        "print(\"Processing the text fields\")\n",
        "train_text_list = process_text(X_train.tolist())\n",
        "val_text_list = process_text(X_test.tolist())"
      ],
      "metadata": {
        "colab": {
          "base_uri": "https://localhost:8080/"
        },
        "id": "AovTteWz7ZOJ",
        "outputId": "6353b97e-f74d-4bd4-a316-1fcf705c153b"
      },
      "execution_count": 69,
      "outputs": [
        {
          "output_type": "stream",
          "name": "stdout",
          "text": [
            "Processing the text fields\n"
          ]
        }
      ]
    },
    {
      "cell_type": "markdown",
      "source": [
        "**Data processing with Pipeline and binary vectorizer**\n",
        "\n",
        "Here we define a function to switch between two types of vectorizers and also take steps between a variable number of features."
      ],
      "metadata": {
        "id": "GvVKhYmuDGld"
      }
    },
    {
      "cell_type": "code",
      "source": [
        "def toggle_binary_vectorizer(bin=True, features = 10):\n",
        "  pipeline = Pipeline([('text_vect', CountVectorizer(binary=bin, max_features=features)), ('knn', KNeighborsClassifier())])\n",
        "\n",
        "  set_config(display='diagram')\n",
        "  # We using lists of processed text fields \n",
        "  X_train = train_text_list\n",
        "  X_val = val_text_list\n",
        "\n",
        "  # Fit the Pipeline to training data\n",
        "  pipeline.fit(X_train, y_train.values)\n",
        "  # Use the fitted pipeline to make predictions on the validation dataset\n",
        "  val_predictions = pipeline.predict(X_val)\n",
        "\n",
        "  return accuracy_score(y_test.values, val_predictions)"
      ],
      "metadata": {
        "id": "JLoTRVJ7c8Lr"
      },
      "execution_count": 70,
      "outputs": []
    },
    {
      "cell_type": "markdown",
      "source": [
        "Calling above function to loop in range 10 up to 100 features using binary an TF_IDF vectorizers"
      ],
      "metadata": {
        "id": "42u-kSx-OUzu"
      }
    },
    {
      "cell_type": "code",
      "source": [
        "bin_accuracies    = []\n",
        "TF_IDF_accuracies = []\n",
        "features          = []\n",
        "\n",
        "max_features = 100\n",
        "min_features = 10\n",
        "for f in range(min_features,max_features):\n",
        "  b = toggle_binary_vectorizer(True,f)\n",
        "\n",
        "  t = toggle_binary_vectorizer(False,f)\n",
        "\n",
        "  bin_accuracies.append(b)\n",
        "\n",
        "  TF_IDF_accuracies.append(t)\n",
        "\n",
        "  features.append(f)"
      ],
      "metadata": {
        "id": "p9WvsEvGdDhL"
      },
      "execution_count": 71,
      "outputs": []
    },
    {
      "cell_type": "markdown",
      "source": [
        "Printing accuracy table"
      ],
      "metadata": {
        "id": "qMGSSFs2Olfm"
      }
    },
    {
      "cell_type": "code",
      "source": [
        "import numpy as np\n",
        "print('Table of accuracies')\n",
        "data = {'Features':features,'Binary':bin_accuracies,'TF_IDF':TF_IDF_accuracies}\n",
        "results = pd.DataFrame(data=data)\n",
        "results\n"
      ],
      "metadata": {
        "colab": {
          "base_uri": "https://localhost:8080/",
          "height": 441
        },
        "id": "U_1QeTwsLyk9",
        "outputId": "7a1d906e-1f14-42e8-ad79-0d9c98bdb0d7"
      },
      "execution_count": 73,
      "outputs": [
        {
          "output_type": "stream",
          "name": "stdout",
          "text": [
            "Table of accuracies\n"
          ]
        },
        {
          "output_type": "execute_result",
          "data": {
            "text/plain": [
              "    Features    Binary    TF_IDF\n",
              "0         10  0.519145  0.538513\n",
              "1         11  0.516474  0.537845\n",
              "2         12  0.527159  0.534728\n",
              "3         13  0.520926  0.535174\n",
              "4         14  0.519813  0.538736\n",
              "..       ...       ...       ...\n",
              "85        95  0.628673  0.613758\n",
              "86        96  0.616207  0.608415\n",
              "87        97  0.612645  0.613758\n",
              "88        98  0.619768  0.614426\n",
              "89        99  0.617765  0.616874\n",
              "\n",
              "[90 rows x 3 columns]"
            ],
            "text/html": [
              "\n",
              "  <div id=\"df-5a84ecc8-2563-4513-b48f-bd57197ba070\">\n",
              "    <div class=\"colab-df-container\">\n",
              "      <div>\n",
              "<style scoped>\n",
              "    .dataframe tbody tr th:only-of-type {\n",
              "        vertical-align: middle;\n",
              "    }\n",
              "\n",
              "    .dataframe tbody tr th {\n",
              "        vertical-align: top;\n",
              "    }\n",
              "\n",
              "    .dataframe thead th {\n",
              "        text-align: right;\n",
              "    }\n",
              "</style>\n",
              "<table border=\"1\" class=\"dataframe\">\n",
              "  <thead>\n",
              "    <tr style=\"text-align: right;\">\n",
              "      <th></th>\n",
              "      <th>Features</th>\n",
              "      <th>Binary</th>\n",
              "      <th>TF_IDF</th>\n",
              "    </tr>\n",
              "  </thead>\n",
              "  <tbody>\n",
              "    <tr>\n",
              "      <th>0</th>\n",
              "      <td>10</td>\n",
              "      <td>0.519145</td>\n",
              "      <td>0.538513</td>\n",
              "    </tr>\n",
              "    <tr>\n",
              "      <th>1</th>\n",
              "      <td>11</td>\n",
              "      <td>0.516474</td>\n",
              "      <td>0.537845</td>\n",
              "    </tr>\n",
              "    <tr>\n",
              "      <th>2</th>\n",
              "      <td>12</td>\n",
              "      <td>0.527159</td>\n",
              "      <td>0.534728</td>\n",
              "    </tr>\n",
              "    <tr>\n",
              "      <th>3</th>\n",
              "      <td>13</td>\n",
              "      <td>0.520926</td>\n",
              "      <td>0.535174</td>\n",
              "    </tr>\n",
              "    <tr>\n",
              "      <th>4</th>\n",
              "      <td>14</td>\n",
              "      <td>0.519813</td>\n",
              "      <td>0.538736</td>\n",
              "    </tr>\n",
              "    <tr>\n",
              "      <th>...</th>\n",
              "      <td>...</td>\n",
              "      <td>...</td>\n",
              "      <td>...</td>\n",
              "    </tr>\n",
              "    <tr>\n",
              "      <th>85</th>\n",
              "      <td>95</td>\n",
              "      <td>0.628673</td>\n",
              "      <td>0.613758</td>\n",
              "    </tr>\n",
              "    <tr>\n",
              "      <th>86</th>\n",
              "      <td>96</td>\n",
              "      <td>0.616207</td>\n",
              "      <td>0.608415</td>\n",
              "    </tr>\n",
              "    <tr>\n",
              "      <th>87</th>\n",
              "      <td>97</td>\n",
              "      <td>0.612645</td>\n",
              "      <td>0.613758</td>\n",
              "    </tr>\n",
              "    <tr>\n",
              "      <th>88</th>\n",
              "      <td>98</td>\n",
              "      <td>0.619768</td>\n",
              "      <td>0.614426</td>\n",
              "    </tr>\n",
              "    <tr>\n",
              "      <th>89</th>\n",
              "      <td>99</td>\n",
              "      <td>0.617765</td>\n",
              "      <td>0.616874</td>\n",
              "    </tr>\n",
              "  </tbody>\n",
              "</table>\n",
              "<p>90 rows × 3 columns</p>\n",
              "</div>\n",
              "      <button class=\"colab-df-convert\" onclick=\"convertToInteractive('df-5a84ecc8-2563-4513-b48f-bd57197ba070')\"\n",
              "              title=\"Convert this dataframe to an interactive table.\"\n",
              "              style=\"display:none;\">\n",
              "        \n",
              "  <svg xmlns=\"http://www.w3.org/2000/svg\" height=\"24px\"viewBox=\"0 0 24 24\"\n",
              "       width=\"24px\">\n",
              "    <path d=\"M0 0h24v24H0V0z\" fill=\"none\"/>\n",
              "    <path d=\"M18.56 5.44l.94 2.06.94-2.06 2.06-.94-2.06-.94-.94-2.06-.94 2.06-2.06.94zm-11 1L8.5 8.5l.94-2.06 2.06-.94-2.06-.94L8.5 2.5l-.94 2.06-2.06.94zm10 10l.94 2.06.94-2.06 2.06-.94-2.06-.94-.94-2.06-.94 2.06-2.06.94z\"/><path d=\"M17.41 7.96l-1.37-1.37c-.4-.4-.92-.59-1.43-.59-.52 0-1.04.2-1.43.59L10.3 9.45l-7.72 7.72c-.78.78-.78 2.05 0 2.83L4 21.41c.39.39.9.59 1.41.59.51 0 1.02-.2 1.41-.59l7.78-7.78 2.81-2.81c.8-.78.8-2.07 0-2.86zM5.41 20L4 18.59l7.72-7.72 1.47 1.35L5.41 20z\"/>\n",
              "  </svg>\n",
              "      </button>\n",
              "      \n",
              "  <style>\n",
              "    .colab-df-container {\n",
              "      display:flex;\n",
              "      flex-wrap:wrap;\n",
              "      gap: 12px;\n",
              "    }\n",
              "\n",
              "    .colab-df-convert {\n",
              "      background-color: #E8F0FE;\n",
              "      border: none;\n",
              "      border-radius: 50%;\n",
              "      cursor: pointer;\n",
              "      display: none;\n",
              "      fill: #1967D2;\n",
              "      height: 32px;\n",
              "      padding: 0 0 0 0;\n",
              "      width: 32px;\n",
              "    }\n",
              "\n",
              "    .colab-df-convert:hover {\n",
              "      background-color: #E2EBFA;\n",
              "      box-shadow: 0px 1px 2px rgba(60, 64, 67, 0.3), 0px 1px 3px 1px rgba(60, 64, 67, 0.15);\n",
              "      fill: #174EA6;\n",
              "    }\n",
              "\n",
              "    [theme=dark] .colab-df-convert {\n",
              "      background-color: #3B4455;\n",
              "      fill: #D2E3FC;\n",
              "    }\n",
              "\n",
              "    [theme=dark] .colab-df-convert:hover {\n",
              "      background-color: #434B5C;\n",
              "      box-shadow: 0px 1px 3px 1px rgba(0, 0, 0, 0.15);\n",
              "      filter: drop-shadow(0px 1px 2px rgba(0, 0, 0, 0.3));\n",
              "      fill: #FFFFFF;\n",
              "    }\n",
              "  </style>\n",
              "\n",
              "      <script>\n",
              "        const buttonEl =\n",
              "          document.querySelector('#df-5a84ecc8-2563-4513-b48f-bd57197ba070 button.colab-df-convert');\n",
              "        buttonEl.style.display =\n",
              "          google.colab.kernel.accessAllowed ? 'block' : 'none';\n",
              "\n",
              "        async function convertToInteractive(key) {\n",
              "          const element = document.querySelector('#df-5a84ecc8-2563-4513-b48f-bd57197ba070');\n",
              "          const dataTable =\n",
              "            await google.colab.kernel.invokeFunction('convertToInteractive',\n",
              "                                                     [key], {});\n",
              "          if (!dataTable) return;\n",
              "\n",
              "          const docLinkHtml = 'Like what you see? Visit the ' +\n",
              "            '<a target=\"_blank\" href=https://colab.research.google.com/notebooks/data_table.ipynb>data table notebook</a>'\n",
              "            + ' to learn more about interactive tables.';\n",
              "          element.innerHTML = '';\n",
              "          dataTable['output_type'] = 'display_data';\n",
              "          await google.colab.output.renderOutput(dataTable, element);\n",
              "          const docLink = document.createElement('div');\n",
              "          docLink.innerHTML = docLinkHtml;\n",
              "          element.appendChild(docLink);\n",
              "        }\n",
              "      </script>\n",
              "    </div>\n",
              "  </div>\n",
              "  "
            ]
          },
          "metadata": {},
          "execution_count": 73
        }
      ]
    },
    {
      "cell_type": "markdown",
      "source": [
        "Plotting accuracy data"
      ],
      "metadata": {
        "id": "bey2L5OAOprk"
      }
    },
    {
      "cell_type": "code",
      "source": [
        "import matplotlib.pyplot as plt\n",
        "\n",
        "# line 1 points\n",
        "x1 = features\n",
        "y1 = bin_accuracies\n",
        "# plotting the line 1 points\n",
        "plt.plot(x1, y1, label = \"Binary\")\n",
        "\n",
        "# line 2 points\n",
        "x2 = features\n",
        "y2 = TF_IDF_accuracies\n",
        "# plotting the line 2 points\n",
        "plt.plot(x2, y2, label = \"TF_IDF\")\n",
        "\n",
        "# naming the x axis\n",
        "plt.xlabel('Features')\n",
        "# naming the y axis\n",
        "plt.ylabel('Accuracy')\n",
        "# giving a title to my graph\n",
        "plt.title('Comparing the accuracy of Binary and TF_IDF vectorizers')\n",
        "\n",
        "# show a legend on the plot\n",
        "plt.legend()\n",
        "\n",
        "# function to show the plot\n",
        "plt.show()\n"
      ],
      "metadata": {
        "colab": {
          "base_uri": "https://localhost:8080/",
          "height": 472
        },
        "id": "TF4vqkXUJ5I-",
        "outputId": "398e471a-7dc7-459e-9d49-c13c5e87a6ad"
      },
      "execution_count": 74,
      "outputs": [
        {
          "output_type": "display_data",
          "data": {
            "text/plain": [
              "<Figure size 640x480 with 1 Axes>"
            ],
            "image/png": "[encoded data removed]"
          },
          "metadata": {}
        }
      ]
    }
  ]
}
