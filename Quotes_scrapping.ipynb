{
  "nbformat": 4,
  "nbformat_minor": 0,
  "metadata": {
    "colab": {
      "provenance": [],
      "toc_visible": true,
      "authorship_tag": "ABX9TyPKNjME+++C/rmEw37wArbe",
      "include_colab_link": true
    },
    "kernelspec": {
      "name": "python3",
      "display_name": "Python 3"
    },
    "language_info": {
      "name": "python"
    }
  },
  "cells": [
    {
      "cell_type": "markdown",
      "metadata": {
        "id": "view-in-github",
        "colab_type": "text"
      },
      "source": [
        "<a href=\"https://colab.research.google.com/github/abdhmohammadi/DataScience/blob/main/Quotes_scrapping.ipynb\" target=\"_parent\"><img src=\"https://colab.research.google.com/assets/colab-badge.svg\" alt=\"Open In Colab\"/></a>"
      ]
    },
    {
      "cell_type": "markdown",
      "source": [
        "<font color=\"GreenOrange\" size=40><b>Anne Of Green Gables Quotes</b></font><br/>\n",
        "<h1>38 of the best book quotes from Anne of Green Gables</h1>\n",
        "\n",
        "<h1>Content</h1>\n",
        "\n",
        "\n",
        "---\n",
        "\n",
        "\n",
        "> Import libraries\n",
        "\n",
        "> loading HTML data\n",
        "\n",
        "> Scraping the page\n",
        "\n",
        "> Print all results\n",
        "\n",
        "> Explanation of results\n",
        "\n",
        "> User interaction\n",
        "\n",
        "\n",
        "\n",
        "\n",
        "\n"
      ],
      "metadata": {
        "id": "csunXnMU6Nyk"
      }
    },
    {
      "cell_type": "markdown",
      "source": [
        "<h1>Importing the necessary tools</h1>\n",
        "In this notebook, we used two libraries, <b>regular expression and BeautifulSoup</b>, to scrape the <a href=\"https://bookroo.com/quotes/anne-of-green-gables\">site</a>\n"
      ],
      "metadata": {
        "id": "bJKA8AFCRw5e"
      }
    },
    {
      "cell_type": "code",
      "execution_count": 2,
      "metadata": {
        "id": "VsJbaqp61xg-"
      },
      "outputs": [],
      "source": [
        "from bs4 import BeautifulSoup \n",
        "from urllib.request import urlopen\n",
        "import re\n",
        "import numpy as np"
      ]
    },
    {
      "cell_type": "markdown",
      "source": [
        "<h1>Opening the URL and load the html data</h1>\n",
        "We load the html data Using BeautifulSoup library."
      ],
      "metadata": {
        "id": "NY7-BJ89TNYL"
      }
    },
    {
      "cell_type": "code",
      "source": [
        "url= \"https://bookroo.com/quotes/anne-of-green-gables\"\n",
        "\n",
        "page = urlopen(url) # http.client.HTTPResponse object\n",
        "\n",
        "html_bytes = page.read()\n",
        "\n",
        "html = html_bytes.decode(\"utf-8\")\n",
        "\n",
        "soup = BeautifulSoup(html, \"html.parser\")"
      ],
      "metadata": {
        "id": "QuyYqs5DO0TS"
      },
      "execution_count": 3,
      "outputs": []
    },
    {
      "cell_type": "markdown",
      "source": [
        "<h1>Scraping the https://bookroo.com/quotes/anne-of-green-gables </h1>\n",
        "By checking the source code of the quotations site, it was found that the quotations are located in the <b>div</b> tags with <b>class=\"css-eez2cp\"</b>, this point is used as the key to find the quotations.\n",
        "Next, to find the <b>characters</b>, we must check the <b>div</b> tags with <b>class=\"css-k07upt\"</b>. By searching these tags, you can find the names of <b>characters</b> that are not all speakers of quotes, for example, in some places, the author's name is inside such tags. Since we are looking for the <b>characters</b> speaking the quote, we need to apply another filter on these tags, this is <b>class='css-1s1o1fc'</b>, We will apply this filter on the class value of <b>'a'</b> tags that is children of the <b>div</b>. Some <b>character</b> tags may have more than one <b>character</b>, so we used <b>child nodes</b> in the <b>div</b> tag to get the <b>characters</b> accurately. You can see the results in the code."
      ],
      "metadata": {
        "id": "oHo8vdBfOeWl"
      }
    },
    {
      "cell_type": "code",
      "source": [
        "idx = 0\n",
        "remove_html_tags_pattern = \"<.*?>\"\n",
        "\n",
        "divs = soup.find_all(\"div\")\n",
        "quote_list =  []\n",
        "\n",
        "for div in divs:\n",
        "  cls = div.attrs.get('class')\n",
        "  find = False\n",
        "  if cls != None:\n",
        "    item=[\"\",\"\"]\n",
        "    # FIND A QOUTE  \n",
        "    if (cls ==['css-eez2cp']):\n",
        "          # Each quote is inside a div tag\n",
        "          # the string 'css-eez2cp' is class value of each tag of the quote \n",
        "          # a quote\n",
        "          quote_list.append([re.sub(remove_html_tags_pattern, \"\", str(div)),\"\"])\n",
        "          idx=idx+1\n",
        "          # FIND A CHARACTER BLOCK\n",
        "    if \"css-k07upt\" in cls: \n",
        "              # the string 'css-k07upt' is class value of each character div block\n",
        "              # Each quote has a div block for characters, \n",
        "              # some quotes may be attributed to more than one person,\n",
        "              # so we need to scan the children of these divs to find the speakers.\n",
        "              # define a list to store the quoters of each quote\n",
        "              if div.children !=None:\n",
        "                    quoters=\"\"\n",
        "                    for chl in div.children:\n",
        "                          if chl.name == 'a':\n",
        "                                classes = chl.attrs.get('class')\n",
        "                               # FIND A QUOTER\n",
        "                                if 'css-1s1o1fc' in classes:\n",
        "                                # the string 'css-1s1o1fc' is class value of each character 'a' tag\n",
        "                                # At this point we have found a quoter tag as 'a'\n",
        "                                # now must be remove all html tags chars to get the quoter name\n",
        "                                # define a pattern to remove all html tags and append to quoter list\n",
        "                                      if len((quote_list[idx-1])[1]) == 0:\n",
        "                                            (quote_list[idx-1])[1] = re.sub(remove_html_tags_pattern, \"\", str(chl))\n",
        "                                      else:\n",
        "                                            (quote_list[idx-1])[1] = (quote_list[idx-1])[1] + \" , \" + re.sub(remove_html_tags_pattern, \"\", str(chl))                 "
      ],
      "metadata": {
        "id": "0017m2RaRi4l"
      },
      "execution_count": null,
      "outputs": []
    },
    {
      "cell_type": "markdown",
      "source": [
        "<h1>Print all results</h1>\n",
        "Here we print the results in full, in the next section you can see their quotes by selecting the names of the characters"
      ],
      "metadata": {
        "id": "S4sQWd5xmG7p"
      }
    },
    {
      "cell_type": "code",
      "source": [
        "for i in range(len(quote_list)):\n",
        "      print(\"\\033[1m\"+str(i+1)+\"-\\033[0m \"+quote_list[i][0])\n",
        "      print(\"\\033[1m\"+quote_list[i][1]+\"\\033[0m\")\n"
      ],
      "metadata": {
        "id": "lHF6Bhs1l3m-"
      },
      "execution_count": null,
      "outputs": []
    },
    {
      "cell_type": "markdown",
      "source": [
        "<h1>Explanation of results</h1>\n",
        "According to the results, we were able to extract the quotes correctly, when writing this code, there are two characters in quotes <b>4,18,35 and 36</b>, also the <b>19</b> do not has <b>any 'qouter'</b>, you can get the correctness of the results by referring to the <a href=\"https://bookroo.com/quotes/anne-of-green-gables\">Anne of Green Gables</a> page and comparing our results.\n",
        "\n",
        "abdhmohammadi@gmail.com"
      ],
      "metadata": {
        "id": "o-lJfbmIUGvp"
      }
    },
    {
      "cell_type": "markdown",
      "source": [
        "<h1>User interaction</h1>\n",
        "By entering a part of the character's name, you can see the quotes in which this character played a role, if you do not enter any value, by pressing the enter key, you will see the list of all the quotes as in the previous section."
      ],
      "metadata": {
        "id": "SSr0x2k5nGxl"
      }
    },
    {
      "cell_type": "code",
      "source": [
        "def print_user_selection(): \n",
        "      print(\"Select from the quoters\\n\\033[1mAnne Shirley, Marilla Cuthbert, Matthew Cuthbert, Jane Andrews, Mrs. Allen\\033[0m\\nor leave empty string to find the qoutes without any qouter.\\n \")\n",
        "\n",
        "      quoter_name = input(\"\")\n",
        "\n",
        "      print(\"Scanning the list for '\"+ quoter_name+\"' ...\")\n",
        "\n",
        "      lower_ = quoter_name.lower()\n",
        "      quoters =\"\"\n",
        "      result = []\n",
        "\n",
        "#Anne Shirley, Marilla Cuthbert, Matthew Cuthbert, Jane Andrews, Mrs. Allen\n",
        "      for i in range(len(quote_list)):\n",
        "          quoters_ = (quote_list[i][1])\n",
        "          idx = quoters_.lower().find(lower_)\n",
        "    \n",
        "          if idx>=0: \n",
        "              quoters = quoters_\n",
        "              result.append(quote_list[i])\n",
        "\n",
        "      if len(result) >0:\n",
        "          print(str(len(result)) +\" item(s) found.\\n\")\n",
        "          for i in range(len(result)):\n",
        "              print(\"\\033[1m\"+str(i+1)+\"-\\033[0m \"+result[i][0])\n",
        "              print(\"\\033[1m\"+result[i][1]+\"\\033[0m\")\n",
        "      else:\n",
        "          print(\"\\033[1mNot found\\033[0m\")\n"
      ],
      "metadata": {
        "id": "T1ppOzCQbhiu"
      },
      "execution_count": 103,
      "outputs": []
    },
    {
      "cell_type": "markdown",
      "source": [
        "<b>Test for 'Not found'</b>"
      ],
      "metadata": {
        "id": "wE49EMTLo1QF"
      }
    },
    {
      "cell_type": "code",
      "source": [
        "print_user_selection()"
      ],
      "metadata": {
        "colab": {
          "base_uri": "https://localhost:8080/"
        },
        "id": "O62LrkNIpEnL",
        "outputId": "439df388-08f7-470c-9c00-16b3c135f67d"
      },
      "execution_count": 104,
      "outputs": [
        {
          "output_type": "stream",
          "name": "stdout",
          "text": [
            "Select from the quoters\n",
            "\u001b[1mAnne Shirley, Marilla Cuthbert, Matthew Cuthbert, Jane Andrews, Mrs. Allen\u001b[0m\n",
            "or leave empty string to find the qoutes without any qouter.\n",
            " \n",
            "Aaaa\n",
            "Scanning the list for 'Aaaa' ...\n",
            "\u001b[1mNot found\u001b[0m\n"
          ]
        }
      ]
    },
    {
      "cell_type": "markdown",
      "source": [
        "<b>Other results</b>\n",
        "\n",
        "Here we tested by entering 'Matt' and next 'cuth, you can test the code by running this section and entering another inputs'"
      ],
      "metadata": {
        "id": "vfYC8SC3pPAx"
      }
    },
    {
      "cell_type": "code",
      "source": [
        "print_user_selection()"
      ],
      "metadata": {
        "colab": {
          "base_uri": "https://localhost:8080/"
        },
        "id": "WGpmgoT9pWkW",
        "outputId": "c2cc24b8-45c2-4f6e-d4b0-bf9948aac7bd"
      },
      "execution_count": 106,
      "outputs": [
        {
          "output_type": "stream",
          "name": "stdout",
          "text": [
            "Select from the quoters\n",
            "\u001b[1mAnne Shirley, Marilla Cuthbert, Matthew Cuthbert, Jane Andrews, Mrs. Allen\u001b[0m\n",
            "or leave empty string to find the qoutes without any qouter.\n",
            " \n",
            "matt\n",
            "Scanning the list for 'matt' ...\n",
            "1 item(s) found.\n",
            "\n",
            "\u001b[1m1-\u001b[0m “Matthew, much to his own surprise, was enjoying himself. Like most quiet folks he liked talkative people when they were willing to do the talking themselves and did not expect him to keep up his end of it.”\n",
            "\u001b[1mMatthew Cuthbert\u001b[0m\n",
            "Select from the quoters\n",
            "\u001b[1mAnne Shirley, Marilla Cuthbert, Matthew Cuthbert, Jane Andrews, Mrs. Allen\u001b[0m\n",
            "or leave empty string to find the qoutes without any qouter.\n",
            " \n",
            "cuth\n",
            "Scanning the list for 'cuth' ...\n",
            "4 item(s) found.\n",
            "\n",
            "\u001b[1m1-\u001b[0m “When I left Queen’s my future seemed to stretch out before me like a straight road. I thought I could see along it for many a milestone. Now there is a bend in it. I don’t know what lies around the bend, but I’m going to believe that the best does. It has a fascination of its own, that bend, Marilla.”\n",
            "\u001b[1mAnne Shirley , Marilla Cuthbert\u001b[0m\n",
            "\u001b[1m2-\u001b[0m “Matthew, much to his own surprise, was enjoying himself. Like most quiet folks he liked talkative people when they were willing to do the talking themselves and did not expect him to keep up his end of it.”\n",
            "\u001b[1mMatthew Cuthbert\u001b[0m\n",
            "\u001b[1m3-\u001b[0m “But really, Marilla, one can’t stay sad very long in such an interesting world, can one?”\n",
            "\u001b[1mAnne Shirley , Marilla Cuthbert\u001b[0m\n",
            "\u001b[1m4-\u001b[0m “But have you ever noticed one encouraging thing about me, Marilla? I never make the same mistake twice.” \n",
            "\n",
            "“I don’t know as that’s much benefit when you’re always making new ones.”\n",
            "\u001b[1mAnne Shirley , Marilla Cuthbert\u001b[0m\n"
          ]
        }
      ]
    }
  ]
}