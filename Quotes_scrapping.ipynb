{
  "nbformat": 4,
  "nbformat_minor": 0,
  "metadata": {
    "colab": {
      "provenance": [],
      "toc_visible": true,
      "authorship_tag": "ABX9TyNPCH0Nz3VfLyQW2lJtkaCP",
      "include_colab_link": true
    },
    "kernelspec": {
      "name": "python3",
      "display_name": "Python 3"
    },
    "language_info": {
      "name": "python"
    }
  },
  "cells": [
    {
      "cell_type": "markdown",
      "metadata": {
        "id": "view-in-github",
        "colab_type": "text"
      },
      "source": [
        "<a href=\"https://colab.research.google.com/github/abdhmohammadi/DataScience/blob/main/Quotes_scrapping.ipynb\" target=\"_parent\"><img src=\"https://colab.research.google.com/assets/colab-badge.svg\" alt=\"Open In Colab\"/></a>"
      ]
    },
    {
      "cell_type": "markdown",
      "source": [
        "<font color=\"GreenOrange\" size=40><b>Anne Of Green Gables Quotes</b></font><br/>\n",
        "<h1>38 of the best book quotes from Anne of Green Gables</h1>\n",
        "\n",
        "<h1>Content</h1>\n",
        "\n",
        "\n",
        "---\n",
        "\n",
        "\n",
        "> Import libraries\n",
        "\n",
        "> loading HTML data\n",
        "\n",
        "> Scraping the page\n",
        "\n",
        "> Explanation of results\n",
        "\n",
        "\n",
        "\n",
        "\n",
        "\n"
      ],
      "metadata": {
        "id": "csunXnMU6Nyk"
      }
    },
    {
      "cell_type": "markdown",
      "source": [
        "<h1>Importing the necessary tools</h1>\n",
        "In this notebook, we used two libraries, <b>regular expression and BeautifulSoup</b>, to scrape the <a href=\"https://bookroo.com/quotes/anne-of-green-gables\">site</a>\n"
      ],
      "metadata": {
        "id": "bJKA8AFCRw5e"
      }
    },
    {
      "cell_type": "code",
      "execution_count": 9,
      "metadata": {
        "id": "VsJbaqp61xg-"
      },
      "outputs": [],
      "source": [
        "from bs4 import BeautifulSoup \n",
        "from urllib.request import urlopen\n",
        "import re\n",
        "import numpy as np\n",
        "from termcolor import colored\n"
      ]
    },
    {
      "cell_type": "markdown",
      "source": [
        "<h1>Opening the URL and load the html data</h1>\n",
        "We load the html data Using BeautifulSoup library."
      ],
      "metadata": {
        "id": "NY7-BJ89TNYL"
      }
    },
    {
      "cell_type": "code",
      "source": [
        "url= \"https://bookroo.com/quotes/anne-of-green-gables\"\n",
        "\n",
        "page = urlopen(url) # http.client.HTTPResponse object\n",
        "\n",
        "html_bytes = page.read()\n",
        "\n",
        "html = html_bytes.decode(\"utf-8\")\n",
        "\n",
        "soup = BeautifulSoup(html, \"html.parser\")"
      ],
      "metadata": {
        "id": "QuyYqs5DO0TS"
      },
      "execution_count": 2,
      "outputs": []
    },
    {
      "cell_type": "markdown",
      "source": [
        "<h1>Scraping the https://bookroo.com/quotes/anne-of-green-gables </h1>\n",
        "By checking the source code of the quotations site, it was found that the quotations are located in the <b>div</b> tags with <b>class=\"css-eez2cp\"</b>, this point is used as the key to find the quotations.\n",
        "Next, to find the <b>characters</b>, we must check the <b>div</b> tags with <b>class=\"css-k07upt\"</b>. By searching these tags, you can find the names of <b>characters</b> that are not all speakers of quotes, for example, in some places, the author's name is inside such tags. Since we are looking for the <b>characters</b> speaking the quote, we need to apply another filter on these tags, this is <b>class='css-1s1o1fc'</b>, We will apply this filter on the class value of <b>'a'</b> tags that is children of the <b>div</b>. Some <b>character</b> tags may have more than one <b>character</b>, so we used <b>child nodes</b> in the <b>div</b> tag to get the <b>characters</b> accurately. You can see the results in the code."
      ],
      "metadata": {
        "id": "oHo8vdBfOeWl"
      }
    },
    {
      "cell_type": "code",
      "source": [
        "idx=1\n",
        "remove_html_tags_pattern = \"<.*?>\"\n",
        "\n",
        "divs = soup.find_all(\"div\")\n",
        "\n",
        "for div in divs:\n",
        "  cls = div.attrs.get('class')\n",
        "  if cls != None:\n",
        "\n",
        "    # FIND A QOUTE  \n",
        "    if (cls ==['css-eez2cp']):\n",
        "    # Each quote is inside a div tag\n",
        "    # the string 'css-eez2cp' is class value of each tag of the quote \n",
        "      # a quote\n",
        "      quote = re.sub(remove_html_tags_pattern, \"\", str(div))\n",
        "      print((\"{i:2}- \"+quote).format(i=idx))\n",
        "      idx=idx+1\n",
        "\n",
        "    # FIND A CHARACTER BLOCK\n",
        "    if \"css-k07upt\" in cls: \n",
        "    # the string 'css-k07upt' is class value of each character div block\n",
        "    # Each quote has a div block for characters, \n",
        "    # some quotes may be attributed to more than one person,\n",
        "    # so we need to scan the children of these divs to find the speakers.\n",
        "       # define a list to store the quoters of each quote\n",
        "      if div.children !=None:\n",
        "          quoters=\"\"\n",
        "          for chl in div.children:\n",
        "            if chl.name == 'a':\n",
        "               classes = chl.attrs.get('class')\n",
        "\n",
        "               # FIND A AUOTER\n",
        "               if 'css-1s1o1fc' in classes:\n",
        "                 # the string 'css-1s1o1fc' is class value of each character 'a' tag\n",
        "                 # At this point we have found a quoter tag as 'a'\n",
        "                 # now must be remove all html tags chars to get the quoter name\n",
        "\n",
        "                 # define a pattern to remove all html tags and append to quoter list\n",
        "                 if len(quoters) == 0:\n",
        "                    quoters = re.sub(remove_html_tags_pattern, \"\", str(chl))\n",
        "                 else:\n",
        "                    quoters = quoters + \" , \" + re.sub(remove_html_tags_pattern, \"\", str(chl))\n",
        "          if quoters !=\"\":\n",
        "             print(\"    \\033[1m\"+quoters,\"\\033[0m\\n\")\n",
        "                 #quoters=\"\"\n",
        "                 "
      ],
      "metadata": {
        "colab": {
          "base_uri": "https://localhost:8080/"
        },
        "id": "0017m2RaRi4l",
        "outputId": "0fb93999-1bb3-40db-ecff-a54810c676ca"
      },
      "execution_count": 11,
      "outputs": [
        {
          "output_type": "stream",
          "name": "stdout",
          "text": [
            " 1- “I’m so glad I live in a world where there are Octobers.”\n",
            "    \u001b[1mAnne Shirley \u001b[0m\n",
            "\n",
            " 2- “But if you call me Anne, please call me Anne with an ‘e’.”\n",
            "    \u001b[1mAnne Shirley \u001b[0m\n",
            "\n",
            " 3- “I’m not a bit changed--not really. I’m only just pruned down and branched out. The real me--back here--is just the same.”\n",
            "    \u001b[1mAnne Shirley \u001b[0m\n",
            "\n",
            " 4- “When I left Queen’s my future seemed to stretch out before me like a straight road. I thought I could see along it for many a milestone. Now there is a bend in it. I don’t know what lies around the bend, but I’m going to believe that the best does. It has a fascination of its own, that bend, Marilla.”\n",
            "    \u001b[1mAnne Shirley , Marilla Cuthbert \u001b[0m\n",
            "\n",
            " 5- “It’s so easy to be wicked without knowing it, isn’t it?”\n",
            "    \u001b[1mAnne Shirley \u001b[0m\n",
            "\n",
            " 6- “It’s all very well to read about sorrows and imagine yourself living through them heroically, but it’s not so nice when you really come to have them, is it?”\n",
            "    \u001b[1mAnne Shirley \u001b[0m\n",
            "\n",
            " 7- “It is ever so much easier to be good if your clothes are fashionable.”\n",
            "    \u001b[1mAnne Shirley \u001b[0m\n",
            "\n",
            " 8- “Matthew, much to his own surprise, was enjoying himself. Like most quiet folks he liked talkative people when they were willing to do the talking themselves and did not expect him to keep up his end of it.”\n",
            "    \u001b[1mMatthew Cuthbert \u001b[0m\n",
            "\n",
            " 9- “Which would you rather be if you had the choice--divinely beautiful or dazzlingly clever or angelically good?”\n",
            "    \u001b[1mAnne Shirley \u001b[0m\n",
            "\n",
            "10- “You’d find it easier to be bad than good if you had red hair... People who haven’t red hair don’t know what trouble is.”\n",
            "    \u001b[1mAnne Shirley \u001b[0m\n",
            "\n",
            "11- “For we pay a price for everything we get or take in this world; and although ambitions are well worth having, they are not to be cheaply won, but exact their dues of work and self-denial, anxiety and discouragement.”\n",
            "    \u001b[1mJane Andrews \u001b[0m\n",
            "\n",
            "12- “Isn’t it nice to think that tomorrow is a new day with no mistakes in it yet.”\n",
            "    \u001b[1mAnne Shirley \u001b[0m\n",
            "\n",
            "13- “It’s delightful when your imaginations come true, isn’t it?”\n",
            "    \u001b[1mAnne Shirley \u001b[0m\n",
            "\n",
            "14- “That’s the worst of growing up, and I’m beginning to realize it. The things you wanted so much when you were a child don’t seem half so wonderful to you when you get them.”\n",
            "    \u001b[1mAnne Shirley \u001b[0m\n",
            "\n",
            "15- “It’s nicer to think dear, pretty thoughts and keep them in one’s heart, like treasures. I don’t like to have them laughed at or wondered over.”\n",
            "    \u001b[1mAnne Shirley \u001b[0m\n",
            "\n",
            "16- “I’ve done my best, and I begin to understand what is meant by ‘the joy of strife’. Next to trying and winning, the best thing is trying and failing.”\n",
            "    \u001b[1mAnne Shirley \u001b[0m\n",
            "\n",
            "17- “I know it is just plain red, and it breaks my heart. It will be my life long sorrow.”\n",
            "    \u001b[1mAnne Shirley \u001b[0m\n",
            "\n",
            "18- “But really, Marilla, one can’t stay sad very long in such an interesting world, can one?”\n",
            "    \u001b[1mAnne Shirley , Marilla Cuthbert \u001b[0m\n",
            "\n",
            "19- “All things great are wound up with all things little.”\n",
            "20- “I read in a book once that a rose by any other name would smell as sweet, but I’ve never been able to believe it. I don’t believe a rose WOULD be as nice if it was called a thistle or a skunk cabbage.”\n",
            "    \u001b[1mAnne Shirley \u001b[0m\n",
            "\n",
            "21- “Don’t you just love poetry that gives you a crinkly feeling up and down your back?”\n",
            "    \u001b[1mAnne Shirley \u001b[0m\n",
            "\n",
            "22- “It’s been my experience that you can nearly always enjoy things if you make up your mind firmly that you will.”\n",
            "    \u001b[1mAnne Shirley \u001b[0m\n",
            "\n",
            "23- “Kindred spirits are not so scarce as I used to think. It’s splendid to find out there are so many of them in the world.”\n",
            "    \u001b[1mAnne Shirley \u001b[0m\n",
            "\n",
            "24- “True friends are always together in spirit.”\n",
            "    \u001b[1mAnne Shirley \u001b[0m\n",
            "\n",
            "25- “My life is a perfect graveyard of buried hopes.”\n",
            "    \u001b[1mAnne Shirley \u001b[0m\n",
            "\n",
            "26- “Life is worth living as long as there’s a laugh in it.”\n",
            "    \u001b[1mAnne Shirley \u001b[0m\n",
            "\n",
            "27- “‘Dear old world’, she murmured, ‘you are very lovely, and I am glad to be alive in you.‘”\n",
            "    \u001b[1mAnne Shirley \u001b[0m\n",
            "\n",
            "28- “People laugh at me because I use big words. But if you have big ideas, you have to use big words to express them, haven’t you?”\n",
            "    \u001b[1mAnne Shirley \u001b[0m\n",
            "\n",
            "29- “There’s such a lot of different Annes in me. I sometimes think that is why I’m such a troublesome person. If I was just the one Anne it would be ever so much more comfortable, but then it wouldn’t be half so interesting.”\n",
            "    \u001b[1mAnne Shirley \u001b[0m\n",
            "\n",
            "30- “Oh, it’s delightful to have ambitions. I’m so glad I have such a lot. And there never seems to be any end to them-- that’s the best of it. Just as soon as you attain to one ambition you see another one glittering higher up still. It does make life so interesting.”\n",
            "    \u001b[1mAnne Shirley \u001b[0m\n",
            "\n",
            "31- “...because when you are imagining, you might as well imagine something worth while.”\n",
            "    \u001b[1mAnne Shirley \u001b[0m\n",
            "\n",
            "32- “Why must people kneel down to pray? If I really wanted to pray I’ll tell you what I’d do. I’d go out into a great big field all alone or in the deep, deep woods and I’d look up into the sky—up—up—up—into that lovely blue sky that looks as if there was no end to its blueness. And then I’d just feel a prayer.”\n",
            "    \u001b[1mAnne Shirley \u001b[0m\n",
            "\n",
            "33- “It was November--the month of crimson sunsets, parting birds, deep, sad hymns of the sea, passionate wind-songs in the pines. Anne roamed through the pineland alleys in the park and, as she said, let that great sweeping wind blow the fogs out of her soul.”\n",
            "    \u001b[1mAnne Shirley \u001b[0m\n",
            "\n",
            "34- “Look at that sea, girls--all silver and shadow and vision of things not seen. We couldn’t enjoy its loveliness any more if we had millions of dollars and ropes of diamonds.”\n",
            "    \u001b[1mAnne Shirley \u001b[0m\n",
            "\n",
            "35- “But have you ever noticed one encouraging thing about me, Marilla? I never make the same mistake twice.” \n",
            "\n",
            "“I don’t know as that’s much benefit when you’re always making new ones.”\n",
            "    \u001b[1mAnne Shirley , Marilla Cuthbert \u001b[0m\n",
            "\n",
            "36- “We ought always to try to influence other people for good.”\n",
            "    \u001b[1mAnne Shirley , Mrs. Allen \u001b[0m\n",
            "\n",
            "37- “Do you think amethysts can be the souls of good violets?”\n",
            "    \u001b[1mAnne Shirley \u001b[0m\n",
            "\n",
            "38- “Isn’t it splendid to think of all the things there are to find out about? It just makes me feel glad to be alive--it’s such an interesting world. It wouldn’t be half so interesting if we know all about everything, would it? There’d be no scope for imagination then, would there? But am I talking too much? People are always telling me I do. Would you rather I didn’t talk? If you say so I’ll stop. I can stop when I make up my mind to it, although it’s difficult.”\n",
            "    \u001b[1mAnne Shirley \u001b[0m\n",
            "\n"
          ]
        }
      ]
    },
    {
      "cell_type": "markdown",
      "source": [
        "<h1>Explanation of results</h1>\n",
        "According to the results, we were able to extract the quotes correctly, when writing this code, there are two characters in quotes <b>4,18,35 and 36</b>, also the <b>19</b> do not has <b>any 'qouter'</b>, you can get the correctness of the results by referring to the <a href=\"https://bookroo.com/quotes/anne-of-green-gables\">Anne of Green Gables</a> page and comparing our results.\n",
        "\n",
        "abdhmohammadi@gmail.com"
      ],
      "metadata": {
        "id": "o-lJfbmIUGvp"
      }
    }
  ]
}