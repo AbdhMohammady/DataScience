{
  "nbformat": 4,
  "nbformat_minor": 0,
  "metadata": {
    "colab": {
      "provenance": [],
      "toc_visible": true,
      "authorship_tag": "ABX9TyMxA/a2M4R29Flg2eDWU0l0",
      "include_colab_link": true
    },
    "kernelspec": {
      "name": "python3",
      "display_name": "Python 3"
    },
    "language_info": {
      "name": "python"
    }
  },
  "cells": [
    {
      "cell_type": "markdown",
      "metadata": {
        "id": "view-in-github",
        "colab_type": "text"
      },
      "source": [
        "<a href=\"https://colab.research.google.com/github/abdhmohammadi/DataScience/blob/main/Quotes_scrapping.ipynb\" target=\"_parent\"><img src=\"https://colab.research.google.com/assets/colab-badge.svg\" alt=\"Open In Colab\"/></a>"
      ]
    },
    {
      "cell_type": "markdown",
      "source": [
        "<div dir=\"RTL\"><h1><b>پیام استاد</b></h1></div>\n",
        "\n",
        "<div dir=\"rtl\">\n",
        "در پست <a href=\"https://realpython.com/python-web-scraping-practical-introduction/\">Web Scraping - Quotes<a/>\n",
        "\n",
        "مطالب و برنامه‌هایی درخصوص استخراج داده‌ها از وب سایتها را ملاحظه فرمودید. در یک فایل ژوپیترنوت‌بوک نقل قولهای شخصیتهای مختلف «آنی شرلی در گرین‌گیبلز» را استخراج کنید. برنامه شما باید امکان تعیین نام شخص (Character) را داشته باشد.\n",
        "فایل ژوپیترنوت‌بوک خود که اجرا شده و خروجی‌ها نمایش داده شده باشند را ارسال فرمایید.\n",
        "\n",
        "</div>"
      ],
      "metadata": {
        "id": "NNrebiZf2FeQ"
      }
    },
    {
      "cell_type": "markdown",
      "source": [
        "<font color=\"GreenOrange\" size=40><b>Anne Of Green Gables Quotes</b></font><br/>\n",
        "<h1>38 of the best book quotes from Anne of Green Gables</h1>"
      ],
      "metadata": {
        "id": "csunXnMU6Nyk"
      }
    },
    {
      "cell_type": "markdown",
      "source": [
        "<h1>URL source:</h1><a href=\"https://bookroo.com/quotes/anne-of-green-gables\">Quotes of anne of green gables</a>"
      ],
      "metadata": {
        "id": "nDU4wlsNOGm6"
      }
    },
    {
      "cell_type": "code",
      "execution_count": 314,
      "metadata": {
        "id": "VsJbaqp61xg-"
      },
      "outputs": [],
      "source": [
        "# \n",
        "url= \"https://bookroo.com/quotes/anne-of-green-gables\"\n",
        "\n",
        "from bs4 import BeautifulSoup\n",
        "from urllib.request import urlopen\n",
        "import re\n",
        "import numpy as np"
      ]
    },
    {
      "cell_type": "code",
      "source": [
        "page = urlopen(url) # http.client.HTTPResponse object\n",
        "\n",
        "html_bytes = page.read()\n",
        "\n",
        "html = html_bytes.decode(\"utf-8\")\n",
        "\n",
        "soup = BeautifulSoup(html, \"html.parser\")"
      ],
      "metadata": {
        "id": "QuyYqs5DO0TS"
      },
      "execution_count": 315,
      "outputs": []
    },
    {
      "cell_type": "code",
      "source": [
        "idx=1\n",
        "quoters_list = []\n",
        "remove_html_tags_pattern = \"<.*?>\"\n",
        "\n",
        "divs = soup.find_all(\"div\")\n",
        "\n",
        "for div in divs:\n",
        "  cls = div.attrs.get('class')\n",
        "  if cls != None:\n",
        "\n",
        "    # FIND A QOUTE  \n",
        "    if (cls ==['css-eez2cp']):\n",
        "    # Each quote is inside a div tag\n",
        "    # the string 'css-eez2cp' is class value of each tag of the quote \n",
        "      # a quote\n",
        "      quote = re.sub(remove_html_tags_pattern, \"\", str(div))\n",
        "      print((\"{i:2}- \"+quote).format(i=idx))\n",
        "      idx=idx+1\n",
        "\n",
        "    # FIND A CHARACTER BLOCK\n",
        "    if \"css-k07upt\" in cls: \n",
        "    # the string 'css-k07upt' is class value of each character div block\n",
        "    # Each quote has a div block for characters, \n",
        "    # some quotes may be attributed to more than one person,\n",
        "    # so we need to scan the children of these divs to find the speakers.\n",
        "       # define a list to store the quoters of each quote\n",
        "       quoters=\"\"\n",
        "       if div.children !=None:\n",
        "          for chl in div.children:\n",
        "            if chl.name == 'a':\n",
        "               classes = chl.attrs.get('class')\n",
        "\n",
        "               # FIND A AUOTER\n",
        "               if 'css-1s1o1fc' in classes:\n",
        "                 # the string 'css-1s1o1fc' is class value of each character 'a' tag\n",
        "                 # At this point we have found a quoter tag as 'a'\n",
        "                 # now must be remove all html tags chars to get the quoter name\n",
        "\n",
        "                 # define a pattern to remove all html tags and append to quoter list\n",
        "                 if quoters == \"\":\n",
        "                    quoters = re.sub(\"<.*?>\", \"\", str(chl))\n",
        "                 else:\n",
        "                    quoters = quoters + \",\" + re.sub(\"<.*?>\", \"\", str(chl))\n",
        "                 \n",
        "                 print(\"    \"+quoters,\"\\n\")\n",
        "                 \n",
        "   "
      ],
      "metadata": {
        "colab": {
          "base_uri": "https://localhost:8080/"
        },
        "id": "0017m2RaRi4l",
        "outputId": "c9c0bf83-c95f-4b04-af1a-62bca79ce24e"
      },
      "execution_count": 316,
      "outputs": [
        {
          "output_type": "stream",
          "name": "stdout",
          "text": [
            " 1- “I’m so glad I live in a world where there are Octobers.”\n",
            "    Anne Shirley \n",
            "\n",
            " 2- “But if you call me Anne, please call me Anne with an ‘e’.”\n",
            "    Anne Shirley \n",
            "\n",
            " 3- “I’m not a bit changed--not really. I’m only just pruned down and branched out. The real me--back here--is just the same.”\n",
            "    Anne Shirley \n",
            "\n",
            " 4- “When I left Queen’s my future seemed to stretch out before me like a straight road. I thought I could see along it for many a milestone. Now there is a bend in it. I don’t know what lies around the bend, but I’m going to believe that the best does. It has a fascination of its own, that bend, Marilla.”\n",
            "    Anne Shirley \n",
            "\n",
            "    Anne Shirley,Marilla Cuthbert \n",
            "\n",
            " 5- “It’s so easy to be wicked without knowing it, isn’t it?”\n",
            "    Anne Shirley \n",
            "\n",
            " 6- “It’s all very well to read about sorrows and imagine yourself living through them heroically, but it’s not so nice when you really come to have them, is it?”\n",
            "    Anne Shirley \n",
            "\n",
            " 7- “It is ever so much easier to be good if your clothes are fashionable.”\n",
            "    Anne Shirley \n",
            "\n",
            " 8- “Matthew, much to his own surprise, was enjoying himself. Like most quiet folks he liked talkative people when they were willing to do the talking themselves and did not expect him to keep up his end of it.”\n",
            "    Matthew Cuthbert \n",
            "\n",
            " 9- “Which would you rather be if you had the choice--divinely beautiful or dazzlingly clever or angelically good?”\n",
            "    Anne Shirley \n",
            "\n",
            "10- “You’d find it easier to be bad than good if you had red hair... People who haven’t red hair don’t know what trouble is.”\n",
            "    Anne Shirley \n",
            "\n",
            "11- “For we pay a price for everything we get or take in this world; and although ambitions are well worth having, they are not to be cheaply won, but exact their dues of work and self-denial, anxiety and discouragement.”\n",
            "    Jane Andrews \n",
            "\n",
            "12- “Isn’t it nice to think that tomorrow is a new day with no mistakes in it yet.”\n",
            "    Anne Shirley \n",
            "\n",
            "13- “It’s delightful when your imaginations come true, isn’t it?”\n",
            "    Anne Shirley \n",
            "\n",
            "14- “That’s the worst of growing up, and I’m beginning to realize it. The things you wanted so much when you were a child don’t seem half so wonderful to you when you get them.”\n",
            "    Anne Shirley \n",
            "\n",
            "15- “It’s nicer to think dear, pretty thoughts and keep them in one’s heart, like treasures. I don’t like to have them laughed at or wondered over.”\n",
            "    Anne Shirley \n",
            "\n",
            "16- “I’ve done my best, and I begin to understand what is meant by ‘the joy of strife’. Next to trying and winning, the best thing is trying and failing.”\n",
            "    Anne Shirley \n",
            "\n",
            "17- “I know it is just plain red, and it breaks my heart. It will be my life long sorrow.”\n",
            "    Anne Shirley \n",
            "\n",
            "18- “But really, Marilla, one can’t stay sad very long in such an interesting world, can one?”\n",
            "    Anne Shirley \n",
            "\n",
            "    Anne Shirley,Marilla Cuthbert \n",
            "\n",
            "19- “All things great are wound up with all things little.”\n",
            "20- “I read in a book once that a rose by any other name would smell as sweet, but I’ve never been able to believe it. I don’t believe a rose WOULD be as nice if it was called a thistle or a skunk cabbage.”\n",
            "    Anne Shirley \n",
            "\n",
            "21- “Don’t you just love poetry that gives you a crinkly feeling up and down your back?”\n",
            "    Anne Shirley \n",
            "\n",
            "22- “It’s been my experience that you can nearly always enjoy things if you make up your mind firmly that you will.”\n",
            "    Anne Shirley \n",
            "\n",
            "23- “Kindred spirits are not so scarce as I used to think. It’s splendid to find out there are so many of them in the world.”\n",
            "    Anne Shirley \n",
            "\n",
            "24- “True friends are always together in spirit.”\n",
            "    Anne Shirley \n",
            "\n",
            "25- “My life is a perfect graveyard of buried hopes.”\n",
            "    Anne Shirley \n",
            "\n",
            "26- “Life is worth living as long as there’s a laugh in it.”\n",
            "    Anne Shirley \n",
            "\n",
            "27- “‘Dear old world’, she murmured, ‘you are very lovely, and I am glad to be alive in you.‘”\n",
            "    Anne Shirley \n",
            "\n",
            "28- “People laugh at me because I use big words. But if you have big ideas, you have to use big words to express them, haven’t you?”\n",
            "    Anne Shirley \n",
            "\n",
            "29- “There’s such a lot of different Annes in me. I sometimes think that is why I’m such a troublesome person. If I was just the one Anne it would be ever so much more comfortable, but then it wouldn’t be half so interesting.”\n",
            "    Anne Shirley \n",
            "\n",
            "30- “Oh, it’s delightful to have ambitions. I’m so glad I have such a lot. And there never seems to be any end to them-- that’s the best of it. Just as soon as you attain to one ambition you see another one glittering higher up still. It does make life so interesting.”\n",
            "    Anne Shirley \n",
            "\n",
            "31- “...because when you are imagining, you might as well imagine something worth while.”\n",
            "    Anne Shirley \n",
            "\n",
            "32- “Why must people kneel down to pray? If I really wanted to pray I’ll tell you what I’d do. I’d go out into a great big field all alone or in the deep, deep woods and I’d look up into the sky—up—up—up—into that lovely blue sky that looks as if there was no end to its blueness. And then I’d just feel a prayer.”\n",
            "    Anne Shirley \n",
            "\n",
            "33- “It was November--the month of crimson sunsets, parting birds, deep, sad hymns of the sea, passionate wind-songs in the pines. Anne roamed through the pineland alleys in the park and, as she said, let that great sweeping wind blow the fogs out of her soul.”\n",
            "    Anne Shirley \n",
            "\n",
            "34- “Look at that sea, girls--all silver and shadow and vision of things not seen. We couldn’t enjoy its loveliness any more if we had millions of dollars and ropes of diamonds.”\n",
            "    Anne Shirley \n",
            "\n",
            "35- “But have you ever noticed one encouraging thing about me, Marilla? I never make the same mistake twice.” \n",
            "\n",
            "“I don’t know as that’s much benefit when you’re always making new ones.”\n",
            "    Anne Shirley \n",
            "\n",
            "    Anne Shirley,Marilla Cuthbert \n",
            "\n",
            "36- “We ought always to try to influence other people for good.”\n",
            "    Anne Shirley \n",
            "\n",
            "    Anne Shirley,Mrs. Allen \n",
            "\n",
            "37- “Do you think amethysts can be the souls of good violets?”\n",
            "    Anne Shirley \n",
            "\n",
            "38- “Isn’t it splendid to think of all the things there are to find out about? It just makes me feel glad to be alive--it’s such an interesting world. It wouldn’t be half so interesting if we know all about everything, would it? There’d be no scope for imagination then, would there? But am I talking too much? People are always telling me I do. Would you rather I didn’t talk? If you say so I’ll stop. I can stop when I make up my mind to it, although it’s difficult.”\n",
            "    Anne Shirley \n",
            "\n"
          ]
        }
      ]
    }
  ]
}