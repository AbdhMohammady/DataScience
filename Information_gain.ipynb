{
  "cells": [
    {
      "cell_type": "markdown",
      "metadata": {
        "id": "view-in-github",
        "colab_type": "text"
      },
      "source": [
        "<a href=\"https://colab.research.google.com/github/AbdhMohammady/DataScience/blob/main/Information_gain.ipynb\" target=\"_parent\"><img src=\"https://colab.research.google.com/assets/colab-badge.svg\" alt=\"Open In Colab\"/></a>"
      ]
    },
    {
      "cell_type": "markdown",
      "id": "95ff1ff2",
      "metadata": {
        "id": "95ff1ff2"
      },
      "source": [
        "<b><font size=20>Information Gain</font></b>\n",
        "\n",
        "In this notebook, we are going to implement the method to calculate information gain based on entropy and Gini method.\n",
        "This is an educational notebook and I request the readers to report any bugs to <b>AbdhMohammady@gmail.com</b> or leave comment on my github <b>https://github.com/AbdhMohammady</b>.\n",
        "I tried to write this notebook so that it can be used for other datasets, currently this notebook can be used for datasets with categorical columns and two-class for target column.\n",
        "At the end of the notebook, after obtaining the highest information gain,you can use this column as the root of the decision tree algorithm.\n",
        "\n",
        "The entropy of the original dataset is calculated based on the target column named 'Buy' and this column has two class 'Yes' and 'No'.\n",
        "\n",
        "Where :\n",
        "\n",
        " D is our dataset \n",
        " \n",
        " number of rows in the dataset is n(dataset)\n",
        " \n",
        " frequency of class ‘i’ in the target column is n(class i)\n",
        " \n",
        " then probability of class i in the dataset is :\n",
        "$$p(class i) = {p}_{i}=\\frac{{n}({class} {i})}{{n}({dataset})}$$\n",
        "\n",
        "and entropy of dataset is :\n",
        "$${Entropy}\\left({D}\\right)=\\ -\\sum_{{i}=\\mathbf{1}}^{{m}}{{p}_{i}{Ln}({p}_{i})}$$\n",
        "\n",
        "\n",
        "Suppose A is a column of the dataset and Aj, j:1... k are the categories in this column.\n",
        "for each Aj, suppose pi is probability of class i in the Aj then:\n",
        "\n",
        "$${Entropy}\\left({A}_{j}\\right)=\\ -\\sum_{{j}=\\mathbf{1}}^{{k}}{{p}_{i}({A}_{j}){Ln}({p}_{i}({A}_{j}))}$$\n",
        "\n",
        "and if p(Aj) is probability of Aj in the A, then entropy of A is :\n",
        "\n",
        "$${Entropy}\\left({A}\\right)=\\ \\sum_{{j}=\\mathbf{1}}^{{m}}{{p}({A}_{j}){Entropy}({A}_{j})}$$\n",
        "\n",
        "And as final result, information gain of A is:\n",
        "\n",
        "$${Gain}({A})\\ =\\ {Entropy}({D})-\\ {Entropy}({A})$$\n",
        "\n",
        "This calculation is repeated for all columns, and at the end, the column with the highest value of information gain is selected as the root of the decision tree algoritm. This process is implemented in the below.\n",
        "\n",
        "*   When the number of classes in a variable is large, increasing the number of sentences in summation causes the value of the information gain of this variable to increase and leads to an illogical result. To deal with this problem, split information is used.\n",
        "\n",
        "Where p(Ai) is probabilty of Ai in the dataset : \n",
        "$${SplitInformation}({A})\\ =\\ -\\ \\sum_{{i}=\\mathbf{1}}^{{k}}{{p}({A}_{i}){Ln}({p}({A}_{i}))}$$\n",
        "\n",
        "and 'Gain Ratio' is used instead of 'Information Gain' :\n",
        "\n",
        "$${GainRatio}({A})=\\frac{{Gain}({A})}{{SplitInformation}({A})}$$\n",
        "\n",
        "\n",
        "contact me:\n",
        "\n",
        "https://github.com/AbdhMohammady\n",
        "\n",
        "abdhmohammady@gmail.com"
      ]
    },
    {
      "cell_type": "code",
      "execution_count": null,
      "id": "0a529966",
      "metadata": {
        "id": "0a529966"
      },
      "outputs": [],
      "source": [
        "import pandas # to working with dataset\n",
        "import math   # to working with math functions like log10"
      ]
    },
    {
      "cell_type": "code",
      "source": [
        "from google.colab import drive\n",
        "drive.mount('/content/drive')"
      ],
      "metadata": {
        "colab": {
          "base_uri": "https://localhost:8080/"
        },
        "id": "ZbhC5mx10qhZ",
        "outputId": "2f5018fe-8140-4648-d7ab-aad0abae5957"
      },
      "id": "ZbhC5mx10qhZ",
      "execution_count": null,
      "outputs": [
        {
          "output_type": "stream",
          "name": "stdout",
          "text": [
            "Mounted at /content/drive\n"
          ]
        }
      ]
    },
    {
      "cell_type": "code",
      "execution_count": null,
      "id": "1af2d194",
      "metadata": {
        "colab": {
          "base_uri": "https://localhost:8080/",
          "height": 206
        },
        "id": "1af2d194",
        "outputId": "5e790b31-5603-4a1c-c058-bfd31d7f2cd5"
      },
      "outputs": [
        {
          "output_type": "execute_result",
          "data": {
            "text/plain": [
              "      Credit     Age  Income Education  Buy\n",
              "0       Good   Young    High      Good   No\n",
              "1  Excellent   Young    High      Good   No\n",
              "2       Good  Middle    High      Good  Yes\n",
              "3       Good     Old  Middle      Good  Yes\n",
              "4       Good     Old    High       Bad  Yes"
            ],
            "text/html": [
              "\n",
              "  <div id=\"df-6e755a9b-ac54-407d-9294-3be0777764b8\">\n",
              "    <div class=\"colab-df-container\">\n",
              "      <div>\n",
              "<style scoped>\n",
              "    .dataframe tbody tr th:only-of-type {\n",
              "        vertical-align: middle;\n",
              "    }\n",
              "\n",
              "    .dataframe tbody tr th {\n",
              "        vertical-align: top;\n",
              "    }\n",
              "\n",
              "    .dataframe thead th {\n",
              "        text-align: right;\n",
              "    }\n",
              "</style>\n",
              "<table border=\"1\" class=\"dataframe\">\n",
              "  <thead>\n",
              "    <tr style=\"text-align: right;\">\n",
              "      <th></th>\n",
              "      <th>Credit</th>\n",
              "      <th>Age</th>\n",
              "      <th>Income</th>\n",
              "      <th>Education</th>\n",
              "      <th>Buy</th>\n",
              "    </tr>\n",
              "  </thead>\n",
              "  <tbody>\n",
              "    <tr>\n",
              "      <th>0</th>\n",
              "      <td>Good</td>\n",
              "      <td>Young</td>\n",
              "      <td>High</td>\n",
              "      <td>Good</td>\n",
              "      <td>No</td>\n",
              "    </tr>\n",
              "    <tr>\n",
              "      <th>1</th>\n",
              "      <td>Excellent</td>\n",
              "      <td>Young</td>\n",
              "      <td>High</td>\n",
              "      <td>Good</td>\n",
              "      <td>No</td>\n",
              "    </tr>\n",
              "    <tr>\n",
              "      <th>2</th>\n",
              "      <td>Good</td>\n",
              "      <td>Middle</td>\n",
              "      <td>High</td>\n",
              "      <td>Good</td>\n",
              "      <td>Yes</td>\n",
              "    </tr>\n",
              "    <tr>\n",
              "      <th>3</th>\n",
              "      <td>Good</td>\n",
              "      <td>Old</td>\n",
              "      <td>Middle</td>\n",
              "      <td>Good</td>\n",
              "      <td>Yes</td>\n",
              "    </tr>\n",
              "    <tr>\n",
              "      <th>4</th>\n",
              "      <td>Good</td>\n",
              "      <td>Old</td>\n",
              "      <td>High</td>\n",
              "      <td>Bad</td>\n",
              "      <td>Yes</td>\n",
              "    </tr>\n",
              "  </tbody>\n",
              "</table>\n",
              "</div>\n",
              "      <button class=\"colab-df-convert\" onclick=\"convertToInteractive('df-6e755a9b-ac54-407d-9294-3be0777764b8')\"\n",
              "              title=\"Convert this dataframe to an interactive table.\"\n",
              "              style=\"display:none;\">\n",
              "        \n",
              "  <svg xmlns=\"http://www.w3.org/2000/svg\" height=\"24px\"viewBox=\"0 0 24 24\"\n",
              "       width=\"24px\">\n",
              "    <path d=\"M0 0h24v24H0V0z\" fill=\"none\"/>\n",
              "    <path d=\"M18.56 5.44l.94 2.06.94-2.06 2.06-.94-2.06-.94-.94-2.06-.94 2.06-2.06.94zm-11 1L8.5 8.5l.94-2.06 2.06-.94-2.06-.94L8.5 2.5l-.94 2.06-2.06.94zm10 10l.94 2.06.94-2.06 2.06-.94-2.06-.94-.94-2.06-.94 2.06-2.06.94z\"/><path d=\"M17.41 7.96l-1.37-1.37c-.4-.4-.92-.59-1.43-.59-.52 0-1.04.2-1.43.59L10.3 9.45l-7.72 7.72c-.78.78-.78 2.05 0 2.83L4 21.41c.39.39.9.59 1.41.59.51 0 1.02-.2 1.41-.59l7.78-7.78 2.81-2.81c.8-.78.8-2.07 0-2.86zM5.41 20L4 18.59l7.72-7.72 1.47 1.35L5.41 20z\"/>\n",
              "  </svg>\n",
              "      </button>\n",
              "      \n",
              "  <style>\n",
              "    .colab-df-container {\n",
              "      display:flex;\n",
              "      flex-wrap:wrap;\n",
              "      gap: 12px;\n",
              "    }\n",
              "\n",
              "    .colab-df-convert {\n",
              "      background-color: #E8F0FE;\n",
              "      border: none;\n",
              "      border-radius: 50%;\n",
              "      cursor: pointer;\n",
              "      display: none;\n",
              "      fill: #1967D2;\n",
              "      height: 32px;\n",
              "      padding: 0 0 0 0;\n",
              "      width: 32px;\n",
              "    }\n",
              "\n",
              "    .colab-df-convert:hover {\n",
              "      background-color: #E2EBFA;\n",
              "      box-shadow: 0px 1px 2px rgba(60, 64, 67, 0.3), 0px 1px 3px 1px rgba(60, 64, 67, 0.15);\n",
              "      fill: #174EA6;\n",
              "    }\n",
              "\n",
              "    [theme=dark] .colab-df-convert {\n",
              "      background-color: #3B4455;\n",
              "      fill: #D2E3FC;\n",
              "    }\n",
              "\n",
              "    [theme=dark] .colab-df-convert:hover {\n",
              "      background-color: #434B5C;\n",
              "      box-shadow: 0px 1px 3px 1px rgba(0, 0, 0, 0.15);\n",
              "      filter: drop-shadow(0px 1px 2px rgba(0, 0, 0, 0.3));\n",
              "      fill: #FFFFFF;\n",
              "    }\n",
              "  </style>\n",
              "\n",
              "      <script>\n",
              "        const buttonEl =\n",
              "          document.querySelector('#df-6e755a9b-ac54-407d-9294-3be0777764b8 button.colab-df-convert');\n",
              "        buttonEl.style.display =\n",
              "          google.colab.kernel.accessAllowed ? 'block' : 'none';\n",
              "\n",
              "        async function convertToInteractive(key) {\n",
              "          const element = document.querySelector('#df-6e755a9b-ac54-407d-9294-3be0777764b8');\n",
              "          const dataTable =\n",
              "            await google.colab.kernel.invokeFunction('convertToInteractive',\n",
              "                                                     [key], {});\n",
              "          if (!dataTable) return;\n",
              "\n",
              "          const docLinkHtml = 'Like what you see? Visit the ' +\n",
              "            '<a target=\"_blank\" href=https://colab.research.google.com/notebooks/data_table.ipynb>data table notebook</a>'\n",
              "            + ' to learn more about interactive tables.';\n",
              "          element.innerHTML = '';\n",
              "          dataTable['output_type'] = 'display_data';\n",
              "          await google.colab.output.renderOutput(dataTable, element);\n",
              "          const docLink = document.createElement('div');\n",
              "          docLink.innerHTML = docLinkHtml;\n",
              "          element.appendChild(docLink);\n",
              "        }\n",
              "      </script>\n",
              "    </div>\n",
              "  </div>\n",
              "  "
            ]
          },
          "metadata": {},
          "execution_count": 3
        }
      ],
      "source": [
        "#This is a very sample dataset to learn Gain information rules\n",
        "df = pandas.read_csv('/content/drive/MyDrive/DATA/Information-gain-sample.csv')\n",
        "\n",
        "# number of record we read by pandas from our dataset, \n",
        "# we use this value as size of the sample to claculte probability of each class\n",
        "n_records = len(df)\n",
        "\n",
        "# display all data\n",
        "df.head()\n"
      ]
    },
    {
      "cell_type": "code",
      "execution_count": null,
      "id": "c401c75c",
      "metadata": {
        "id": "c401c75c",
        "outputId": "0a007fe4-ec94-44e8-fdf0-b815a976afcc"
      },
      "outputs": [
        {
          "name": "stdout",
          "output_type": "stream",
          "text": [
            "Buy groups dictionary:\n",
            " {'No': [0, 1, 5, 7, 13], 'Yes': [2, 3, 4, 6, 8, 9, 10, 11, 12]}\n"
          ]
        },
        {
          "data": {
            "text/html": [
              "<div>\n",
              "<style scoped>\n",
              "    .dataframe tbody tr th:only-of-type {\n",
              "        vertical-align: middle;\n",
              "    }\n",
              "\n",
              "    .dataframe tbody tr th {\n",
              "        vertical-align: top;\n",
              "    }\n",
              "\n",
              "    .dataframe thead tr th {\n",
              "        text-align: left;\n",
              "    }\n",
              "\n",
              "    .dataframe thead tr:last-of-type th {\n",
              "        text-align: right;\n",
              "    }\n",
              "</style>\n",
              "<table border=\"1\" class=\"dataframe\">\n",
              "  <thead>\n",
              "    <tr>\n",
              "      <th></th>\n",
              "      <th colspan=\"4\" halign=\"left\">Credit</th>\n",
              "      <th colspan=\"4\" halign=\"left\">Age</th>\n",
              "      <th colspan=\"4\" halign=\"left\">Income</th>\n",
              "      <th colspan=\"4\" halign=\"left\">Education</th>\n",
              "    </tr>\n",
              "    <tr>\n",
              "      <th></th>\n",
              "      <th>count</th>\n",
              "      <th>unique</th>\n",
              "      <th>top</th>\n",
              "      <th>freq</th>\n",
              "      <th>count</th>\n",
              "      <th>unique</th>\n",
              "      <th>top</th>\n",
              "      <th>freq</th>\n",
              "      <th>count</th>\n",
              "      <th>unique</th>\n",
              "      <th>top</th>\n",
              "      <th>freq</th>\n",
              "      <th>count</th>\n",
              "      <th>unique</th>\n",
              "      <th>top</th>\n",
              "      <th>freq</th>\n",
              "    </tr>\n",
              "    <tr>\n",
              "      <th>Buy</th>\n",
              "      <th></th>\n",
              "      <th></th>\n",
              "      <th></th>\n",
              "      <th></th>\n",
              "      <th></th>\n",
              "      <th></th>\n",
              "      <th></th>\n",
              "      <th></th>\n",
              "      <th></th>\n",
              "      <th></th>\n",
              "      <th></th>\n",
              "      <th></th>\n",
              "      <th></th>\n",
              "      <th></th>\n",
              "      <th></th>\n",
              "      <th></th>\n",
              "    </tr>\n",
              "  </thead>\n",
              "  <tbody>\n",
              "    <tr>\n",
              "      <th>No</th>\n",
              "      <td>5</td>\n",
              "      <td>2</td>\n",
              "      <td>Excellent</td>\n",
              "      <td>3</td>\n",
              "      <td>5</td>\n",
              "      <td>2</td>\n",
              "      <td>Young</td>\n",
              "      <td>3</td>\n",
              "      <td>5</td>\n",
              "      <td>2</td>\n",
              "      <td>High</td>\n",
              "      <td>3</td>\n",
              "      <td>5</td>\n",
              "      <td>2</td>\n",
              "      <td>Good</td>\n",
              "      <td>4</td>\n",
              "    </tr>\n",
              "    <tr>\n",
              "      <th>Yes</th>\n",
              "      <td>9</td>\n",
              "      <td>2</td>\n",
              "      <td>Good</td>\n",
              "      <td>6</td>\n",
              "      <td>9</td>\n",
              "      <td>3</td>\n",
              "      <td>Middle</td>\n",
              "      <td>4</td>\n",
              "      <td>9</td>\n",
              "      <td>2</td>\n",
              "      <td>High</td>\n",
              "      <td>5</td>\n",
              "      <td>9</td>\n",
              "      <td>2</td>\n",
              "      <td>Bad</td>\n",
              "      <td>6</td>\n",
              "    </tr>\n",
              "  </tbody>\n",
              "</table>\n",
              "</div>"
            ],
            "text/plain": [
              "    Credit                          Age                     Income         \\\n",
              "     count unique        top freq count unique     top freq  count unique   \n",
              "Buy                                                                         \n",
              "No       5      2  Excellent    3     5      2   Young    3      5      2   \n",
              "Yes      9      2       Good    6     9      3  Middle    4      9      2   \n",
              "\n",
              "               Education                    \n",
              "      top freq     count unique   top freq  \n",
              "Buy                                         \n",
              "No   High    3         5      2  Good    4  \n",
              "Yes  High    5         9      2   Bad    6  "
            ]
          },
          "execution_count": 5,
          "metadata": {},
          "output_type": "execute_result"
        }
      ],
      "source": [
        "group_object = df.groupby(by=\"Buy\")\n",
        "\n",
        "buy_groups_dict = group_object.groups\n",
        "\n",
        "print(\"Buy groups dictionary:\\n\",buy_groups_dict)\n",
        "\n",
        "group_object.describe()\n"
      ]
    },
    {
      "cell_type": "code",
      "execution_count": null,
      "id": "b06e8c5a",
      "metadata": {
        "id": "b06e8c5a",
        "outputId": "70e16751-9445-4841-db51-0125b392dbba"
      },
      "outputs": [
        {
          "name": "stdout",
          "output_type": "stream",
          "text": [
            "Dataset Entropy :  0.6517565611726531\n",
            "Dataset Gini    :  0.4591836734693877\n"
          ]
        }
      ],
      "source": [
        "#Compute entropy of the dataset\n",
        "\n",
        "#Calculate the frequency of each item in the group\n",
        "\n",
        "dataset_entropy = 0\n",
        "dataset_gini = 0\n",
        "\n",
        "target_probs = dict()\n",
        "\n",
        "for key in buy_groups_dict:\n",
        "    #list of real index of items in the dataset\n",
        "    index_list = buy_groups_dict.get(str(key)).to_list()\n",
        "    \n",
        "    n_class_item = len(index_list)\n",
        "    # Computes probability of class i in the target column.\n",
        "    # this probability is p(class i)\n",
        "    prob_class_item = n_class_item/n_records\n",
        "    # It calculates the exponential of the probability of each class to obtain the Gini value of the dataset.\n",
        "    dataset_gini += prob_class_item**2\n",
        "    \n",
        "    # calculate summation parts of entropy for dataset\n",
        "    # this is store pi*Ln(pi) parts\n",
        "    dataset_entropy += prob_class_item*math.log(prob_class_item)\n",
        "\n",
        "#Entropy of the dataset - Entropy(D)\n",
        "dataset_entropy = - dataset_entropy\n",
        "# Gini of the dataset\n",
        "dataset_gini = 1- dataset_gini\n",
        "\n",
        "print(\"Dataset Entropy : \",dataset_entropy)\n",
        "\n",
        "print(\"Dataset Gini    : \",dataset_gini)\n",
        "    "
      ]
    },
    {
      "cell_type": "markdown",
      "id": "5cb32176",
      "metadata": {
        "id": "5cb32176"
      },
      "source": [
        "Computing entropy of a column"
      ]
    },
    {
      "cell_type": "code",
      "execution_count": null,
      "id": "6f0a6e52",
      "metadata": {
        "id": "6f0a6e52",
        "outputId": "3f121975-089c-4b6c-d334-306425de32e7"
      },
      "outputs": [
        {
          "data": {
            "text/plain": [
              "['Credit', 'Age', 'Income', 'Education']"
            ]
          },
          "execution_count": 8,
          "metadata": {},
          "output_type": "execute_result"
        }
      ],
      "source": [
        "# get list of column name\n",
        "columns = list(df.columns.values)\n",
        "\n",
        "# no need target column to calculate entropy and gain information\n",
        "del columns[4] \n",
        "\n",
        "columns"
      ]
    },
    {
      "cell_type": "code",
      "execution_count": null,
      "id": "32e2cb22",
      "metadata": {
        "id": "32e2cb22",
        "outputId": "5c3aff68-3276-476a-918c-bd1894cc5192"
      },
      "outputs": [
        {
          "name": "stdout",
          "output_type": "stream",
          "text": [
            "\n",
            "(InformationGain,GainRatio,GiniGain) = ( 0.033359115436214726 , 0.053944458642593444 , 0.030612244897959162 )\n",
            "\n",
            "(InformationGain,GainRatio,GiniGain) = ( 0.17103394188032706 , 0.35578509314187645 , 0.11632653061224485 )\n",
            "\n",
            "(InformationGain,GainRatio,GiniGain) = ( 0.0009286386703150074 , 0.0014268574506522823 , 0.000850340136054395 )\n",
            "\n",
            "(InformationGain,GainRatio,GiniGain) = ( 0.10524434967821283 , 0.19257456185731267 , 0.09183673469387743 )\n"
          ]
        }
      ],
      "source": [
        "\n",
        "# initalize empty dictionary to store 'Gain Information' of each column \n",
        "info_dict = dict()\n",
        "\n",
        "column_entropy = 0\n",
        "\n",
        "for column_ in columns:\n",
        "    \n",
        "    column_entropy = 0\n",
        "    column_gini    = 0\n",
        "    #Groupping the column by categories\n",
        "    group_object = df.groupby(by=column_)\n",
        "\n",
        "    #the categories of the column\n",
        "    categories = list(group_object.groups.keys())\n",
        "\n",
        "    for category in categories:\n",
        "\n",
        "        n_yes = 0\n",
        "        n_no  = 0\n",
        "        \n",
        "        # Enumerate frequency of 'yes' and 'no' in the category\n",
        "        for i in range(n_records):\n",
        "            if df[column_][i]==category:\n",
        "                if df['Buy'][i]=='Yes': n_yes+=1\n",
        "                if df['Buy'][i]=='No' : n_no+=1\n",
        "\n",
        "        #Number of subclass items\n",
        "        n_category = n_yes + n_no\n",
        "\n",
        "        p_yes = 0\n",
        "        # Calculates probability of 'Yes' for this category\n",
        "        if n_yes != 0 and n_category != 0 :p_yes = n_yes/n_category\n",
        "        \n",
        "        p_no  = 0\n",
        "        # Calculates probability of 'No' for this category\n",
        "        if n_no != 0 and n_category != 0 :p_no = n_no/n_category\n",
        "        \n",
        "        # Calculates Entropy(Aj)\n",
        "        category_entropy = 0\n",
        "        \n",
        "        if p_yes != 0 : category_entropy = p_yes*math.log(p_yes)\n",
        "        \n",
        "        if p_no != 0 : category_entropy += p_no*math.log(p_no)\n",
        "        \n",
        "        #Calculates Gini(Aj)\n",
        "        category_gini = 1 - (p_yes**2 + p_no**2)\n",
        "        \n",
        "        category_entropy = - category_entropy\n",
        "\n",
        "        # Calculate p(Aj)Entropy(Aj) for each i and adds to summation\n",
        "        column_entropy += (n_category/n_records)* category_entropy\n",
        "        \n",
        "        # Calculate p(Aj)Gini(Aj) for each i and adds to summation\n",
        "        column_gini += (n_category/n_records)*category_gini\n",
        "        \n",
        "    # Information gain and gain ratio of current column\n",
        "    # firts element of the value list is gain info\n",
        "    # secund element of the value list is gain ratio\n",
        "    # Third element of the value list is gini info\n",
        "    gain__info = dataset_entropy - column_entropy\n",
        "    gain_ratio = gain__info/column_entropy\n",
        "    gini_info  = dataset_gini - column_gini\n",
        "    \n",
        "    info_dict[column_] = [gain__info,gain_ratio,gini_info]\n",
        "    \n",
        "    print(\"\\n(InformationGain,GainRatio,GiniGain) = (\",gain__info,\",\",gain_ratio,\",\",gini_info,\")\")\n",
        "    "
      ]
    },
    {
      "cell_type": "code",
      "execution_count": null,
      "id": "ce276deb",
      "metadata": {
        "id": "ce276deb",
        "outputId": "86eebb4c-5adc-499b-c17e-9eb1ea39ac58"
      },
      "outputs": [
        {
          "name": "stdout",
          "output_type": "stream",
          "text": [
            "The column with the highest information gain:\n",
            "\n",
            "\tColumn : 'Age'\n",
            "\tStandard method : 0.17103394188032706 \n",
            "\tGain Ratio method: 0.35578509314187645 \n",
            "\tGini method: 0.11632653061224485\n"
          ]
        }
      ],
      "source": [
        "#find item with maximom value in the dictionary using Gain Information\n",
        "max_item = list(info_dict.keys())[0]\n",
        "\n",
        "for item in info_dict:\n",
        "    if info_dict[item][0]> info_dict[max_item][0]:\n",
        "        max_item = item\n",
        "\n",
        "print(\"The column with the highest information gain:\\n\\n\\tColumn : '\"\n",
        "      + max_item+\"'\\n\\tStandard method :\",info_dict[max_item][0],\n",
        "     \"\\n\\tGain Ratio method:\",info_dict[max_item][1],\n",
        "     \"\\n\\tGini method:\",info_dict[max_item][2])"
      ]
    },
    {
      "cell_type": "markdown",
      "id": "e00890db",
      "metadata": {
        "id": "e00890db"
      },
      "source": [
        "<b>Now the column found can be used for the root of the decision tree algorithm</b>"
      ]
    }
  ],
  "metadata": {
    "kernelspec": {
      "display_name": "Python 3 (ipykernel)",
      "language": "python",
      "name": "python3"
    },
    "language_info": {
      "codemirror_mode": {
        "name": "ipython",
        "version": 3
      },
      "file_extension": ".py",
      "mimetype": "text/x-python",
      "name": "python",
      "nbconvert_exporter": "python",
      "pygments_lexer": "ipython3",
      "version": "3.9.13"
    },
    "colab": {
      "provenance": [],
      "include_colab_link": true
    }
  },
  "nbformat": 4,
  "nbformat_minor": 5
}