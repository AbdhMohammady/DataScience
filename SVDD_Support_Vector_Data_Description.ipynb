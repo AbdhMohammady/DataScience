{
  "nbformat": 4,
  "nbformat_minor": 0,
  "metadata": {
    "colab": {
      "provenance": [],
      "mount_file_id": "1wE-7qmnXTJBwU6Nuym1sy7gVVNc7WAb3",
      "authorship_tag": "ABX9TyMZVZeorX7YHMzRGZ1d2oKN"
    },
    "kernelspec": {
      "name": "python3",
      "display_name": "Python 3"
    },
    "language_info": {
      "name": "python"
    }
  },
  "cells": [
    {
      "cell_type": "markdown",
      "source": [
        "https://github.com/iqiukp/SVDD-Python\n",
        "\n",
        "https://github.com/achevrot/SVDD"
      ],
      "metadata": {
        "id": "iRSS6-kZLUKH"
      }
    },
    {
      "cell_type": "markdown",
      "source": [
        "\n",
        "<h1><b>\n",
        "<div dir='rtl' align='Center'><font size='16' face='Calibri'>\n",
        "پیاده سازی الگوریتم SVDD در پایتون\n",
        "<br/>Support Vector Data Description\n",
        "</font>\n",
        "</div>\n",
        "</b>\n",
        "</h1>"
      ],
      "metadata": {
        "id": "shwc4xU8MYht"
      }
    },
    {
      "cell_type": "markdown",
      "source": [
        "<div dir='rtl' align='RIGHT'><font size='4' face='Calibri'>الگوریتم SVDD یک الگوریتم  توصیف داده است که از الگوریتم ماشین بردار پشتیبان الهام گرفته شده است، این الگوریتم یک مرز کروی شکل در اطراف یک مجموعه داده به دست می آورد و مشابه طبقه بندی کننده بردار پشتیبانی می تواند با استفاده از سایر توابع هسته انعطاف پذیر شود. این روش در برابر موارد پرت در مجموعه آموزشی مقاوم است[1].این الگوریتم می‌تواند برای مجموعه داده‌های هدف، یا برای هر کلاس از اشیاء در مجموعه داده‌های هدف، توضیحاتی ارائه دهد\n",
        "</font></div>\n",
        "\n",
        "1- David M.J. Tax & Robert P.W. Duin(2004). Support Vector Data Description"
      ],
      "metadata": {
        "id": "i8K-uB9lT8fl"
      }
    },
    {
      "cell_type": "code",
      "source": [
        "import time\n",
        "import numpy as np\n",
        "import pandas as pd\n",
        "import matplotlib.pyplot as plt\n",
        "from sklearn import datasets # to use IRIS dataset\n",
        "from collections import defaultdict\n",
        "import warnings\n",
        "from cvxopt import matrix, solvers\n",
        "from sklearn.metrics import accuracy_score\n",
        "import sklearn.metrics.pairwise as smp\n",
        "from sklearn.metrics.pairwise import pairwise_kernels\n",
        "from sklearn.model_selection import train_test_split\n",
        "from sklearn.model_selection import cross_val_score\n",
        "from sklearn import preprocessing\n",
        "from sklearn.metrics import auc\n",
        "from mpl_toolkits.mplot3d import Axes3D"
      ],
      "metadata": {
        "id": "6jO-DB-iMCC2"
      },
      "execution_count": 147,
      "outputs": []
    },
    {
      "cell_type": "markdown",
      "source": [
        "<h1>Implementation of SVDD class</h1>"
      ],
      "metadata": {
        "id": "TLEmtwbb0y6y"
      }
    },
    {
      "cell_type": "code",
      "source": [
        "class SVDD():\n",
        "\n",
        "  pPenalty = None\n",
        "  nPenalty  = None\n",
        "  #---------------- Model info -----------------\n",
        "  support_vectors = None\n",
        "  support_vectors_value = None \n",
        "  support_vector_index = None\n",
        "  kernel_params = None\n",
        "  R = None\n",
        "  center = None\n",
        "  alpha = None\n",
        "  data = None\n",
        "  iteration = None\n",
        "  accuracy =None\n",
        "  kernel_matrix = None\n",
        "  distance = None\n",
        "  #---------------------------------------------\n",
        "\n",
        "  def __init__(self, positive_penalty:float=None, negetive_penalty:float=None, kernel:dict={\"type\": 'gauss', \"sigma\": 1/25}):\n",
        "      \"\"\" \n",
        "        \"positive penalty\": positive penalty factor\n",
        "        \"negative penalty\": negative penalty factor\n",
        "        \"kernel\"          : kernel function parameters         \n",
        "        \"option\"          : some options \n",
        "      \"\"\"    \n",
        "      self.pPenalty = positive_penalty\n",
        "      self.nPenalty = negetive_penalty\n",
        "      self.kernel_params = kernel\n",
        "      #self.parameters = parameters\n",
        "\n",
        "  def fit(self, data, label):\n",
        "        \n",
        "        # Labels are converted to int type for synchronizing calculations\n",
        "        label = np.array(label, dtype = 'int')      \n",
        "        \n",
        "        # When the label of all data is 1, their sum is equal to the number of samples.\n",
        "        # This point is used to detect whether the data is of one type of label or a combination of several types\n",
        "        if np.abs(np.sum(label)) == data.shape[0]:\n",
        "            self.labeltype = 'singleclass' # single class\n",
        "        else:\n",
        "            self.labeltype = 'multiclass' # multiclass\n",
        "        \n",
        "        # index of positive and negative samples\n",
        "        pIndex = label[:,0] == 1\n",
        "        nIndex = label[:,0] == -1\n",
        "        \n",
        "        # threshold for support vectors\n",
        "        threshold = 1e-7\n",
        "        \n",
        "        # compute the kernel matrix\n",
        "        K = self.getKernel(data, data)\n",
        "\n",
        "        # solve the Lagrange dual problem\n",
        "        alpha, obj, iteration = self.solve(K, label)\n",
        "        \n",
        "        # find the index of support vectors\n",
        "        sv_index = np.where(alpha > threshold)[0][:]\n",
        "\n",
        "        # support vectors and alf\n",
        "        sv_value = data[sv_index, :]\n",
        "        sv_alpha = alpha[sv_index]\n",
        "        \n",
        "        # compute the center of initial feature space\n",
        "        center = np.dot(alpha.T, data)\n",
        "        \n",
        "        ''''\n",
        "        compute the radius: eq(15)\n",
        "        \n",
        "        The distance from any support vector to the center of \n",
        "        the sphere is the hypersphere radius. \n",
        "        Here take the 1st support vector as an example.\n",
        "        \n",
        "        '''\n",
        "        # the 1st term in eq(15)\n",
        "        used = 0\n",
        "        term_1 = K[sv_index[used], sv_index[used]]\n",
        "        \n",
        "        # the 2nd term in eq(15)\n",
        "        term_2 = -2*np.dot(K[sv_index[used], :], alpha)\n",
        "        \n",
        "        # the 3rd term in eq(15)\n",
        "        term_3 = np.dot(np.dot(alpha.T, K), alpha)\n",
        "\n",
        "        # R\n",
        "        radius = np.sqrt(term_1 + term_2 + term_3)\n",
        "        \n",
        "        # numbers of positive and negative samples\n",
        "        pData = np.sum(pIndex)/data.shape[0]\n",
        "        nData = np.sum(nIndex)/data.shape[0]\n",
        "        \n",
        "        # number of support vectors\n",
        "        # nSVs = sv_index.shape[0]\n",
        "        # radio of  support vectors\n",
        "        # rSVs = sv_index.shape[0]/data.shape[0]\n",
        "       \n",
        "        # this term is stored to use in predict method\n",
        "        self.term3 = term_3\n",
        "\n",
        "        # Stores the model info\n",
        "        self.nSupportVectors = sv_index.shape[0]\n",
        "        # rate of  support vectors\n",
        "        self.nSV_rate = sv_index.shape[0]/data.shape[0]\n",
        "        self.support_vectors = sv_alpha\n",
        "        self.support_vectors_value = sv_value \n",
        "        self.support_vector_index = sv_index\n",
        "        self.kernel_matrix = K\n",
        "        self.R = radius\n",
        "        self.center = center\n",
        "        self.alpha = alpha\n",
        "        self.data = data\n",
        "        self.iteration = iteration\n",
        "  \n",
        "  def predict(self, test_data, test_labels):\n",
        "    \n",
        "        \"\"\" \n",
        "        DESCRIPTION\n",
        "        \n",
        "        Test the testing data using the SVDD model\n",
        "    \n",
        "        distance = test(model, Y)\n",
        "        \n",
        "        --------------------------------------------------        \n",
        "        INPUT\n",
        "        data        Test data (n*d) \n",
        "                        n: number of samples\n",
        "                        d: number of features\n",
        "        label       Test label (n*1)\n",
        "                        positive: 1\n",
        "                        negative: -1\n",
        "            \n",
        "        OUTPUT\n",
        "        distance    Distance between the test data and hypersphere\n",
        "        --------------------------------------------------\n",
        "        \n",
        "        \"\"\"    \n",
        "        n = test_data.shape[0]\n",
        "        \n",
        "        # compute the kernel matrix\n",
        "        K = self.getKernel(test_data, self.data)\n",
        "        \n",
        "        # the 1st term\n",
        "        term_1 = self.getKernel(test_data, test_data)\n",
        "        \n",
        "        # the 2nd term\n",
        "        tmp_1 = -2*np.dot(K, self.alpha)\n",
        "        term_2 = np.tile(tmp_1, (1, n))\n",
        "        \n",
        "        # the 3rd term\n",
        "        term_3 =  self.term3\n",
        "        \n",
        "        # distance\n",
        "        distance = np.sqrt(np.diagonal(term_1+term_2+term_3))\n",
        "        \n",
        "        # predicted label\n",
        "        predictedlabel = np.mat(np.ones(n)).T\n",
        "        fault_index = np.where(distance > self.R)[1][:]\n",
        "        predictedlabel[fault_index] = -1\n",
        "            \n",
        "        # compute prediction accuracy\n",
        "        self.accuracy = np.sum(predictedlabel == test_labels)/n\n",
        "        self.distance = distance\n",
        "\n",
        "        return self.accuracy\n",
        "\n",
        "#---------------------------------------------------------------------------------------------------------------------\n",
        "  def solve(self, K, label):\n",
        "        \"\"\" \n",
        "        DESCRIPTION\n",
        "        \n",
        "        Solve the Lagrange dual problem\n",
        "        \n",
        "        solve(self, K, label)\n",
        "        \n",
        "        --------------------------------------------------\n",
        "        INPUT\n",
        "        K         Kernel matrix\n",
        "        label     training label\n",
        "        \n",
        "                        \n",
        "        OUTPUT\n",
        "        alf       Lagrange multipliers\n",
        "        \n",
        "        --------------------------------------------------\n",
        "        \n",
        "        minimize    (1/2)*x'*P*x + q'*x\n",
        "        subject to  G*x <= h\n",
        "                    A*x = b                    \n",
        "        --------------------------------------------------\n",
        "        \n",
        "        \"\"\" \n",
        "        solvers.options['show_progress'] = False\n",
        "        # Interpret dat input as a matrix\n",
        "        label = np.mat(label)\n",
        "        K = np.multiply(label*label.T, K)\n",
        "        \n",
        "        # P\n",
        "        n = K.shape[0]\n",
        "        P = K+K.T\n",
        "        \n",
        "        # q\n",
        "        q = -np.multiply(label, np.mat(np.diagonal(K)).T)\n",
        "\n",
        "        # G\n",
        "        G1 = -np.eye(n)\n",
        "        G2 = np.eye(n)\n",
        "        G = np.append(G1, G2, axis=0)\n",
        "        \n",
        "        # h\n",
        "        h1 = np.mat(np.zeros(n)).T # lb\n",
        "        h2 = np.mat(np.ones(n)).T\n",
        "        if self.labeltype == 'singleclass':\n",
        "            h2[label == 1] = self.pPenalty\n",
        "        \n",
        "        if self.labeltype == 'multiclass':\n",
        "            h2[label == 1] = self.pPenalty\n",
        "            h2[label == -1] = self.nPenalty\n",
        "            \n",
        "        h = np.append(h1, h2, axis=0)\n",
        "        \n",
        "        # A, b\n",
        "        A = np.mat(np.ones(n))\n",
        "        b = 1.\n",
        "        \n",
        "        #\n",
        "        P = matrix(P)\n",
        "        q = matrix(q)\n",
        "        G = matrix(G)\n",
        "        h = matrix(h)\n",
        "        A = matrix(A)\n",
        "        b = matrix(b)\n",
        "        \n",
        "        sol =solvers.qp(P, q, G, h, A, b)\n",
        "        alf = np.array(sol['x'])\n",
        "        obj = np.array(sol['dual objective'])\n",
        "        iteration = np.array(sol['iterations'])\n",
        "\n",
        "        return alf, obj, iteration\n",
        "\n",
        "  def getKernel(self, X, Y):\n",
        "    \n",
        "        \"\"\" \n",
        "        Compute kernel matrix \n",
        "        X         data (n*d)\n",
        "        Y         data (m*d)\n",
        "\n",
        "        OUTPUT\n",
        "        K         kernel matrix \n",
        "\n",
        "        type   -  \n",
        "        ------------------------------------\n",
        "        linear :  k(x,y) = x'*y+c\n",
        "        poly   :  k(x,y) = (x'*y+c)^d\n",
        "        gauss  :  k(x,y) = exp(-s*||x-y||^2)\n",
        "        tanh   :  k(x,y) = tanh(g*x'*y+c)\n",
        "        lapl   :  k(x,y) = exp(-s*||x-y||)\n",
        "           \n",
        "        degree -  d\n",
        "        offset -  c\n",
        "        sigma  -  s\n",
        "        gamma  -  g\n",
        "        \n",
        "        --------------------------------------------------      \n",
        "        ker    - \n",
        "        \n",
        "        ker = {\"type\": 'gauss', \"width\": s}\n",
        "        ker = {\"type\": 'linear', \"offset\": c}\n",
        "        ker = {\"type\": 'poly', \"degree\": d, \"offset\": c}\n",
        "        ker = {\"type\": 'tanh', \"gamma\": g, \"offset\": c}\n",
        "        ker = {\"type\": 'lapl', \"width\": s}\n",
        "    \n",
        "        \"\"\"\n",
        "        def gaussFunc():\n",
        "            \n",
        "            if self.kernel_params.__contains__(\"sigma\"):\n",
        "                s =  self.kernel_params[\"sigma\"]\n",
        "            else:\n",
        "                s = 2\n",
        "            K = smp.rbf_kernel(X, Y, gamma=s)\n",
        "\n",
        "                \n",
        "            return K\n",
        "            \n",
        "        def linearFunc():\n",
        "            \n",
        "            if self.kernel_params.__contains__(\"offset\"):\n",
        "                c =  self.kernel_params[\"offset\"]\n",
        "            else:\n",
        "                c = 0\n",
        "\n",
        "            K = smp.linear_kernel(X, Y)+c\n",
        "            \n",
        "            return K\n",
        "        \n",
        "        def ployFunc():\n",
        "            if self.kernel_params.__contains__(\"degree\"):\n",
        "                d =  self.kernel_params[\"degree\"]\n",
        "            else:\n",
        "                d = 2\n",
        "                \n",
        "            if self.kernel_params.__contains__(\"offset\"):\n",
        "                c =  self.kernel_params[\"offset\"]\n",
        "            else:\n",
        "                c = 0\n",
        "                \n",
        "            K = smp.polynomial_kernel(X, Y, degree=d, gamma=None, coef0=c)\n",
        "            \n",
        "            return K\n",
        "             \n",
        "        def laplFunc():\n",
        "            \n",
        "            if self.kernel_params.__contains__(\"sigma\"):\n",
        "                s =  self.kernel_params[\"sigma\"]\n",
        "            else:\n",
        "                s = 2\n",
        "            K = smp.laplacian_kernel(X, Y, gamma=s)\n",
        "\n",
        "            return K\n",
        "    \n",
        "        def tanhFunc():\n",
        "            if self.kernel_params.__contains__(\"gamma\"):\n",
        "                g =  self.kernel_params[\"gamma\"]\n",
        "            else:\n",
        "                g = 0.01\n",
        "                \n",
        "            if self.kernel_params.__contains__(\"offset\"):\n",
        "                c =  self.kernel_params[\"offset\"]\n",
        "            else:\n",
        "                c = 1\n",
        "            \n",
        "            K = smp.sigmoid_kernel(X, Y, gamma=g, coef0=c)\n",
        "\n",
        "            return K\n",
        "\n",
        "        kernelType = self.kernel_params[\"type\"]\n",
        "        kernels = { \"gauss\"   : gaussFunc  ,        \n",
        "                    \"linear\"  : linearFunc ,\n",
        "                    \"poly\"    : ployFunc   ,\n",
        "                    \"lapl\"    : laplFunc   ,\n",
        "                    \"tanh\"    : tanhFunc   ,\n",
        "                  }\n",
        "        \n",
        "        return kernels[kernelType]()\n",
        "\n",
        "  def print_model(self):\n",
        "    print('\\n')\n",
        "    print('--------- SVDD model results ---------\\n')\n",
        "    print('Kernel function              %s'      % self.kernel_params['type'])\n",
        "    print('Raduis                       %.10f'    % self.R)\n",
        "    print('Iteration                    %d'      % self.iteration)\n",
        "    print('Number of Support vectors    %d'      % self.nSupportVectors)  # number of support vectors\n",
        "    print('Rate  of  Support vectors    %.3f %%' % (100*self.nSV_rate))   # Rate   of support vectors\n",
        "    print('accuracy                     %.3f%%'  % (100*self.accuracy))\n",
        "    print(\"\")\n",
        "    \n"
      ],
      "metadata": {
        "id": "RXGvFKpJ1iiT"
      },
      "execution_count": 148,
      "outputs": []
    },
    {
      "cell_type": "markdown",
      "source": [
        "**Visualization**"
      ],
      "metadata": {
        "id": "4Aks3Vm-06a4"
      }
    },
    {
      "cell_type": "code",
      "source": [
        "class Visualization():\n",
        "    \n",
        "    def testResult(self,svdd):\n",
        "    \n",
        "        plt.rcParams['font.size'] = 15\n",
        "        n = svdd.distance.shape[0]\n",
        "        \n",
        "        fig = plt.figure(figsize = (10, 6))\n",
        "        ax = fig.add_subplot(1, 1, 1)\n",
        "        radius = np.ones((n, 1))*svdd.nSV_rate\n",
        "        ax.plot(radius, \n",
        "                color ='r',\n",
        "                linestyle = '-', \n",
        "                marker = 'None',\n",
        "                linewidth = 2, \n",
        "                markeredgecolor ='k',\n",
        "                markerfacecolor = 'w', \n",
        "                markersize = 6)\n",
        "        \n",
        "        ax.plot(svdd.distance,\n",
        "                color = 'k',\n",
        "                linestyle = ':',\n",
        "                marker='o',\n",
        "                linewidth=1,\n",
        "                markeredgecolor = 'k',\n",
        "                markerfacecolor = 'C4',\n",
        "                markersize = 6)\n",
        "        \n",
        "        ax.set_xlabel('Samples')\n",
        "        ax.set_ylabel('distance\\n from test data to hypersphere')\n",
        "        \n",
        "        ax.legend([\"Radius\",\"Distance\"], \n",
        "                  ncol = 1, loc = 0, \n",
        "                  edgecolor = 'black', \n",
        "                  markerscale = 2, fancybox = True)\n",
        "    \n",
        "        plt.show() \n",
        "        \n",
        "    def testROC(self,test_labels, distance):\n",
        "        \n",
        "        if np.abs(np.sum(test_labels)) == test_labels.shape[0]:\n",
        "            raise SyntaxError('Both positive and negative labels must be entered for plotting ROC curve.')\n",
        "       \n",
        "        # number of positive samples\n",
        "        plt.rcParams['font.size'] = 15\n",
        "        n_p = np.sum(test_labels == 1)\n",
        "        n_n = np.sum(test_labels == -1)\n",
        "        \n",
        "        #  sort\n",
        "        index = np.argsort(distance)\n",
        "        label_sort = test_labels[index]\n",
        "        FP = np.cumsum(label_sort == -1)\n",
        "        TP = np.cumsum(label_sort == 1)\n",
        "        FPR = FP/n_n\n",
        "        TPR = TP/n_p\n",
        "        \n",
        "\n",
        "        roc_auc = auc(np.asarray(FPR.T),np.asarray(TPR.T)) \n",
        "      \n",
        "        print(\"We are here\")\n",
        "       \n",
        "\n",
        "        fig = plt.figure(figsize = (6, 6))\n",
        "        ax = fig.add_subplot(1, 1, 1)\n",
        "        ax.plot(FPR.T, TPR.T, color ='C3',linestyle = '-', marker = 'None',linewidth = 5, markeredgecolor ='k', markerfacecolor = 'w', markersize = 6)\n",
        "        \n",
        "        ax.set_xlabel('False positive rate (FPR)')\n",
        "        ax.set_ylabel('True positive rate (TPR)')\n",
        "        ax.set_title('Area under the curve (AUC) = %.4f' %roc_auc)\n",
        "        \n",
        "        plt.grid()\n",
        "        plt.show()\n",
        "        \n",
        "        \n",
        "    def boundary(self,svdd, data, label, r=0.3, nn=2):\n",
        "        \"\"\" \n",
        "        DESCRIPTION\n",
        "        \n",
        "        Plot the boundary\n",
        "        \n",
        "        boundary(svdd, data, label, r=0.3, nn=2)\n",
        "        \n",
        "        --------------------------------------------------------------- \n",
        "        \n",
        "        INPUT\n",
        "        svdd             SVDD hypersphere\n",
        "        data             training data \n",
        "        label            training label\n",
        "        r                radio of expansion (0<r<1)\n",
        "        nn               number of grids\n",
        "        \n",
        "        --------------------------------------------------------------- \n",
        "        \n",
        "        \"\"\" \n",
        "        \n",
        "        dim = data.shape[1]\n",
        "        if dim!=2:  raise SyntaxError('Visualization of decision boundary only supports for 2D data')\n",
        "    \n",
        "        # compute the range of grid \n",
        "        numGrids = np.rint(data.shape[0]/nn).astype(int)  # number of grids\n",
        "        x_range = np.zeros(shape=(numGrids, 2))\n",
        "        \n",
        "        for i in range(2):  \n",
        "            _tmp_ = (np.max(data[:, i])-np.min(data[:, i]))*r\n",
        "            xlim_1 = np.min(data[:, i])-_tmp_\n",
        "            xlim_2 = np.max(data[:, i])+_tmp_\n",
        "            x_range[:, i] = np.linspace(xlim_1, xlim_2, numGrids)\n",
        "        \n",
        "        # grid\n",
        "        xv, yv = np.meshgrid(x_range[:, 0], x_range[:, 1])\n",
        "        \n",
        "        num1 = xv.shape[0]\n",
        "        num2 = yv.shape[0]\n",
        "        distance = np.zeros(shape=(num1, num1))\n",
        "        \n",
        "        # calculate the grid scores\n",
        "        print(\"Calculating the grid (%04d*%04d) scores...\\n\" %(num1, num2))\n",
        "        \n",
        "        display_ = svdd.parameters[\"option\"][\"display\"]\n",
        "        svdd.parameters[\"option\"][\"display\"] = 'off'\n",
        "        start_time = time.time()    \n",
        "\n",
        "        for i in range(num1):\n",
        "            for j in range(num2):\n",
        "                tmp = np.mat([xv[i, j], yv[i, j]])   \n",
        "                distance[i, j], _ = svdd.test(tmp, 1)\n",
        "                # print('[feature 1: %06d]  [feature 2: %06d] \\n' % (i+1,j+1))\n",
        "        \n",
        "        end_time = time.time()\n",
        "        \n",
        "        print('Grid scores completed. Time cost %.4f s\\n' % (end_time-start_time))\n",
        "        svdd.parameters[\"option\"][\"display\"] = display_\n",
        "        \n",
        "        # plot the contour (3D)\n",
        "        fig = plt.figure(figsize = (20, 6))\n",
        "        \n",
        "        ax3 = fig.add_subplot(1, 3, 1, projection='3d') \n",
        "        # ax3 = ax3.axes(projection='3d')\n",
        "        ada = ax3.plot_surface(xv, yv, distance, cmap=plt.cm.jet)\n",
        "        ax3.contourf(xv, yv, distance, zdir='z', offset=np.min(distance)*0.9, cmap=plt.cm.coolwarm)\n",
        "        ax3.set_zlim(np.min(distance)*0.9, np.max(distance)*1.05)\n",
        "        # plt.colorbar(ada)\n",
        "            \n",
        "    \n",
        "    \n",
        "        # plot the contour (2D)\n",
        "        # fig = plt.figure(figsize = (10, 8))\n",
        "        ax1 = fig.add_subplot(1, 3, 2)    \n",
        "          \n",
        "        ctf1 = ax1.contourf(xv, yv, distance, alpha = 0.8, cmap=plt.cm.jet)\n",
        "        ctf2 = ax1.contour(xv, yv, distance, colors='black', linewidths=1)\n",
        "        plt.clabel(ctf2, inline=True)\n",
        "        # plt.colorbar(ctf1)\n",
        "        \n",
        "        # plot the boundary\n",
        "        # fig = plt.figure(figsize = (10, 8))\n",
        "        ax2 = fig.add_subplot(1, 3, 3)    \n",
        "        \n",
        "        if svdd.labeltype == 'singleclass':\n",
        "\n",
        "            ax2.scatter(data[:,0], data[:,1],\n",
        "                        color='green',marker='o',\n",
        "                        edgecolor='black',alpha=0.5, zorder = 2)\n",
        "            ax2.scatter(data[svdd.model[\"sv_index\"],0], data[svdd.model[\"sv_index\"],1],\n",
        "                    facecolor='C2',marker='o',s = 144,linewidths = 2,\n",
        "                    edgecolor='black', zorder = 2)\n",
        "        \n",
        "            ax2.contour(xv, yv, distance,[svdd.model[\"radius\"]],\n",
        "                              colors='C3', linewidths=5, zorder = 1)\n",
        "            \n",
        "            ax2.legend([\"Training data\", \"Support vectors\"], \n",
        "                      ncol = 1, loc = 0, \n",
        "                      edgecolor = 'black',markerscale = 1.2, fancybox = True) \n",
        "                \n",
        "        else:\n",
        "            ax2.scatter(data[svdd.model[\"pIndex\"],0], data[svdd.model[\"pIndex\"],1],\n",
        "                    facecolor='C0',marker='o', s = 100,linewidths = 2,\n",
        "                    edgecolor='black', zorder = 2)\n",
        "            ax2.scatter(data[svdd.model[\"nIndex\"],0], data[svdd.model[\"nIndex\"],1],\n",
        "                    facecolor='C4',marker='s',s = 100,linewidths = 2,\n",
        "                    edgecolor='black', zorder = 2)\n",
        "        \n",
        "            ax2.scatter(data[svdd.model[\"sv_index\"],0], data[svdd.model[\"sv_index\"],1],\n",
        "                    facecolor='C2',marker='o',s = 144,linewidths = 2,\n",
        "                    edgecolor='black', zorder = 2)\n",
        "            \n",
        "            ax2.contour(xv, yv, distance,[svdd.model[\"radius\"]],colors='C3', linewidths=5, zorder = 1)\n",
        "            \n",
        "            ax2.legend([\"Training data (+)\",\"Training data (-)\", \"Support vectors\"], ncol = 1, loc = 0, edgecolor = 'black',markerscale = 1.2, fancybox = True) \n",
        "        \n",
        "        plt.show()\n",
        "     "
      ],
      "metadata": {
        "id": "lnw_wrN31qsZ"
      },
      "execution_count": 179,
      "outputs": []
    },
    {
      "cell_type": "markdown",
      "source": [
        "**Data**"
      ],
      "metadata": {
        "id": "puHJEi5d1HSH"
      }
    },
    {
      "cell_type": "code",
      "source": [
        "def Load_iris():\n",
        "    \n",
        "        iris = datasets.load_iris()\n",
        "        data =  preprocessing.StandardScaler().fit_transform(iris.data)\n",
        "        label = iris.target\n",
        "\n",
        "\n",
        "        p_data = data[label == 0, :]\n",
        "        n_data = data[label != 0, :]\n",
        "        \n",
        "        p_label = np.mat(np.ones(p_data.shape[0])).T\n",
        "        n_label = np.mat(-np.ones(n_data.shape[0])).T\n",
        "        \n",
        "        \n",
        "        p_x, p_xt, p_y, p_yt = train_test_split(p_data, p_label, test_size=0.3, random_state=1)\n",
        "        n_x, n_xt, n_y, n_yt = train_test_split(n_data, n_label, test_size=0.9, random_state=1)\n",
        "        \n",
        "        trainData = np.vstack((p_x, n_x))\n",
        "        testData = np.vstack((p_xt, n_xt))\n",
        "        trainLabel = np.vstack((p_y, n_y))\n",
        "        testLabel = np.vstack((p_yt, n_yt))\n",
        "    \n",
        "        return trainData, testData,trainLabel, testLabel\n",
        "\n",
        "def Load_Dementias():\n",
        "        dementias = pd.read_csv(\"/content/drive/MyDrive/DATA/dementia_dataset.csv\")\n",
        "        # Since machine learning algorithms cannot work with missing data, we have to drop these records.\n",
        "        # Dropping the records with missing value\n",
        "        dementias = dementias.dropna()\n",
        "        # The dataset has tow categorical columns\n",
        "        # Mapping categorical columns to 0 and 1\n",
        "        dementias['M/F'] = dementias['M/F'].map({'M': 0, 'F': 1})\n",
        "        dementias['Hand'] = dementias['Hand'].map({'R': 0, 'L': 1})\n",
        "\n",
        "        # Splitting our data\n",
        "        # By default, Sklearn will reserve 25% of the dataset for training.\n",
        "        # we do not need to  'Subject ID' & 'MRI ID' columns\n",
        "        X = dementias[['Visit','MR Delay','M/F','Hand','Age','EDUC','SES','MMSE','CDR','eTIV','nWBV','ASF']]\n",
        "        # Target\n",
        "        dementias['Group'] = dementias['Group'].map({'Demented': 1, 'Nondemented': -1,'Converted': -1})\n",
        "        y = dementias['Group']\n",
        "\n",
        "        X_train, X_test, y_train, y_test = train_test_split(X, y, random_state=100)\n",
        "        \n",
        "        return X_train.values, X_test.values ,y_train.values.reshape(len(y_train),1), y_test.values.reshape(len(y_test),1)\n",
        "    "
      ],
      "metadata": {
        "id": "U3zGesEH12Kv"
      },
      "execution_count": 150,
      "outputs": []
    },
    {
      "cell_type": "markdown",
      "source": [
        "# <h1><b>Dementia dataset from Kaggle</b></h1>"
      ],
      "metadata": {
        "id": "H9rlPsEL8x9J"
      }
    },
    {
      "cell_type": "code",
      "source": [
        "X_train, X_test, y_train, y_test = Load_Dementias()"
      ],
      "metadata": {
        "id": "jOVNZ6hldCE0"
      },
      "execution_count": 182,
      "outputs": []
    },
    {
      "cell_type": "code",
      "source": [
        "gauss = {\"type\": 'gauss', \"sigma\": 0.00009}\n",
        "positive_penalty_ = 1\n",
        "negetive_penalty_ = 1\n",
        "\n",
        "# construct an SVDD model\n",
        "svdd = SVDD(positive_penalty = positive_penalty_ , negetive_penalty= negetive_penalty_ ,kernel = gauss)\n",
        "\n",
        "# train SVDD model\n",
        "svdd.fit(X_train, y_train)\n",
        "\n",
        "# test SVDD model\n",
        "accuracy = svdd.predict(X_test, y_test)\n",
        "svdd.print_model()"
      ],
      "metadata": {
        "colab": {
          "base_uri": "https://localhost:8080/"
        },
        "id": "aeeu50ks8w6O",
        "outputId": "cc56f81f-c1f7-49cd-bb29-29c6a6fadc3f"
      },
      "execution_count": 235,
      "outputs": [
        {
          "output_type": "stream",
          "name": "stdout",
          "text": [
            "\n",
            "\n",
            "--------- SVDD model results ---------\n",
            "\n",
            "Kernel function              gauss\n",
            "Raduis                       0.9804665625\n",
            "Iteration                    12\n",
            "Number of Support vectors    77\n",
            "Rate  of  Support vectors    29.057 %\n",
            "accuracy                     69.663%\n",
            "\n"
          ]
        }
      ]
    },
    {
      "cell_type": "code",
      "source": [
        "visual = Visualization()\n",
        "\n",
        "visual.testROC(y_test,svdd.distance)"
      ],
      "metadata": {
        "colab": {
          "base_uri": "https://localhost:8080/",
          "height": 598
        },
        "id": "JghP2M9hq_Uo",
        "outputId": "2d8dc9d7-f4ec-4595-fe36-b9d0f8e1a1de"
      },
      "execution_count": 236,
      "outputs": [
        {
          "output_type": "stream",
          "name": "stdout",
          "text": [
            "We are here\n"
          ]
        },
        {
          "output_type": "display_data",
          "data": {
            "text/plain": [
              "<Figure size 600x600 with 1 Axes>"
            ],
            "image/png": "[encoded data removed]"
          },
          "metadata": {}
        }
      ]
    },
    {
      "cell_type": "code",
      "source": [
        "linear = {\"type\": 'linear', \"offset\": 0}\n",
        "positive_penalty_ = 0.9\n",
        "negetive_penalty_ = 0.9\n",
        "\n",
        "# construct an SVDD model\n",
        "svdd = SVDD(positive_penalty = positive_penalty_ , negetive_penalty = negetive_penalty_ ,kernel = linear)\n",
        "\n",
        "# train SVDD model\n",
        "svdd.fit(X_train, y_train)\n",
        "\n",
        "# test SVDD model\n",
        "accuracy = svdd.predict(X_test, y_test)\n",
        "svdd.print_model()"
      ],
      "metadata": {
        "colab": {
          "base_uri": "https://localhost:8080/"
        },
        "id": "C0Wbnw-Kf6Wf",
        "outputId": "d1ed3418-70a0-4f5f-a99f-35ea0a105f39"
      },
      "execution_count": 111,
      "outputs": [
        {
          "output_type": "stream",
          "name": "stdout",
          "text": [
            "\n",
            "\n",
            "--------- SVDD model results ---------\n",
            "\n",
            "Kernel function              linear\n",
            "Raduis                       685.431\n",
            "Iteration                    15\n",
            "Number of Support vectors    3\n",
            "Rate  of  Support vectors    1.132 %\n",
            "accuracy                     46.067%\n",
            "\n"
          ]
        }
      ]
    },
    {
      "cell_type": "code",
      "source": [
        "poly = {\"type\": 'poly', \"degree\": 2, \"offset\": 0}\n",
        "positive_penalty_ = 0.9\n",
        "negetive_penalty_ = 0.9\n",
        "\n",
        "# construct an SVDD model\n",
        "svdd = SVDD(positive_penalty = positive_penalty_ , negetive_penalty = negetive_penalty_ ,kernel = poly)\n",
        "\n",
        "# train SVDD model\n",
        "svdd.fit(X_train, y_train)\n",
        "\n",
        "# test SVDD model\n",
        "accuracy = svdd.predict(X_test, y_test)\n",
        "svdd.print_model()"
      ],
      "metadata": {
        "colab": {
          "base_uri": "https://localhost:8080/"
        },
        "id": "y3GbtpHngrJ4",
        "outputId": "5d8bca78-ac23-4075-ec4c-5ead90c4da29"
      },
      "execution_count": 117,
      "outputs": [
        {
          "output_type": "stream",
          "name": "stdout",
          "text": [
            "\n",
            "\n",
            "--------- SVDD model results ---------\n",
            "\n",
            "Kernel function              poly\n",
            "Raduis                       240584.089\n",
            "Iteration                    21\n",
            "Number of Support vectors    2\n",
            "Rate  of  Support vectors    0.755 %\n",
            "accuracy                     52.809%\n",
            "\n"
          ]
        }
      ]
    },
    {
      "cell_type": "code",
      "source": [
        "sigmoid = {\"type\": 'tanh', \"gamma\": 1e-10, \"offset\": 0.1}\n",
        "positive_penalty_ = 0.9\n",
        "negetive_penalty_ = 0.9\n",
        "\n",
        "# construct an SVDD model\n",
        "svdd = SVDD(positive_penalty = positive_penalty_ , negetive_penalty = negetive_penalty_ ,kernel = sigmoid)\n",
        "\n",
        "# train SVDD model\n",
        "svdd.fit(X_train, y_train)\n",
        "\n",
        "# test SVDD model\n",
        "accuracy = svdd.predict(X_test, y_test)\n",
        "svdd.print_model()"
      ],
      "metadata": {
        "colab": {
          "base_uri": "https://localhost:8080/"
        },
        "id": "ov9CM-TMimnP",
        "outputId": "d70f9417-b336-429a-8b3f-81bfd7c8f8d8"
      },
      "execution_count": 125,
      "outputs": [
        {
          "output_type": "stream",
          "name": "stdout",
          "text": [
            "\n",
            "\n",
            "--------- SVDD model results ---------\n",
            "\n",
            "Kernel function              tanh\n",
            "Raduis                       0.004\n",
            "Iteration                    12\n",
            "Number of Support vectors    50\n",
            "Rate  of  Support vectors    18.868 %\n",
            "accuracy                     51.685%\n",
            "\n"
          ]
        }
      ]
    },
    {
      "cell_type": "code",
      "source": [
        "lapl = {\"type\": 'lapl', \"sigma\": 1}\n",
        "positive_penalty_ = 0.9\n",
        "negetive_penalty_ = 0.9\n",
        "\n",
        "# construct an SVDD model\n",
        "svdd = SVDD(positive_penalty = positive_penalty_ , negetive_penalty = negetive_penalty_ ,kernel = lapl)\n",
        "\n",
        "# train SVDD model\n",
        "svdd.fit(X_train, y_train)\n",
        "\n",
        "# test SVDD model\n",
        "accuracy = svdd.predict(X_test, y_test)\n",
        "svdd.print_model()"
      ],
      "metadata": {
        "colab": {
          "base_uri": "https://localhost:8080/"
        },
        "id": "WHAO-8Dtj7NJ",
        "outputId": "9a1b2853-2a81-4137-b42c-795036305a97"
      },
      "execution_count": 157,
      "outputs": [
        {
          "output_type": "stream",
          "name": "stdout",
          "text": [
            "\n",
            "\n",
            "--------- SVDD model results ---------\n",
            "\n",
            "Kernel function              lapl\n",
            "Raduis                       0.9948265307\n",
            "Iteration                    6\n",
            "Number of Support vectors    97\n",
            "Rate  of  Support vectors    36.604 %\n",
            "accuracy                     66.292%\n",
            "\n"
          ]
        }
      ]
    },
    {
      "cell_type": "markdown",
      "source": [
        "# <h1><b>iris dataset from sklearn</b></h1>"
      ],
      "metadata": {
        "id": "qNKMFZK3msQi"
      }
    },
    {
      "cell_type": "code",
      "source": [
        "X_train, X_test, y_train, y_test = Load_iris()"
      ],
      "metadata": {
        "id": "41jR7-UunZa6"
      },
      "execution_count": 166,
      "outputs": []
    },
    {
      "cell_type": "code",
      "source": [
        "gauss = {\"type\": 'gauss', \"sigma\": 1}\n",
        "positive_penalty_ = 0.9\n",
        "negetive_penalty_ = 0.9\n",
        "\n",
        "# construct an SVDD model\n",
        "svdd = SVDD(positive_penalty = positive_penalty_ , negetive_penalty= negetive_penalty_ ,kernel = gauss)\n",
        "\n",
        "# train SVDD model\n",
        "svdd.fit(X_train, y_train)\n",
        "\n",
        "# test SVDD model\n",
        "accuracy = svdd.predict(X_test, y_test)\n",
        "svdd.print_model()"
      ],
      "metadata": {
        "colab": {
          "base_uri": "https://localhost:8080/"
        },
        "id": "1eAwHB-rnHPT",
        "outputId": "24d137cd-f63c-448e-a534-916becc29522"
      },
      "execution_count": 180,
      "outputs": [
        {
          "output_type": "stream",
          "name": "stdout",
          "text": [
            "\n",
            "\n",
            "--------- SVDD model results ---------\n",
            "\n",
            "Kernel function              gauss\n",
            "Raduis                       0.8879632592\n",
            "Iteration                    9\n",
            "Number of Support vectors    13\n",
            "Rate  of  Support vectors    28.889 %\n",
            "accuracy                     97.143%\n",
            "\n"
          ]
        }
      ]
    },
    {
      "cell_type": "code",
      "source": [
        "visual = Visualization()\n",
        "\n",
        "visual.testROC(y_test,svdd.distance)"
      ],
      "metadata": {
        "colab": {
          "base_uri": "https://localhost:8080/",
          "height": 598
        },
        "id": "SYpOFqvDtACM",
        "outputId": "bed2fb68-98e5-4c8b-eb55-c6ac6b3e42d3"
      },
      "execution_count": 181,
      "outputs": [
        {
          "output_type": "stream",
          "name": "stdout",
          "text": [
            "We are here\n"
          ]
        },
        {
          "output_type": "display_data",
          "data": {
            "text/plain": [
              "<Figure size 600x600 with 1 Axes>"
            ],
            "image/png": "[encoded data removed]"
          },
          "metadata": {}
        }
      ]
    },
    {
      "cell_type": "code",
      "source": [
        "linear = {\"type\": 'linear', \"offset\": 0}\n",
        "positive_penalty_ = 0.9\n",
        "negetive_penalty_ = 0.9\n",
        "\n",
        "# construct an SVDD model\n",
        "svdd = SVDD(positive_penalty = positive_penalty_ , negetive_penalty = negetive_penalty_ ,kernel = linear)\n",
        "\n",
        "# train SVDD model\n",
        "svdd.fit(X_train, y_train)\n",
        "\n",
        "# test SVDD model\n",
        "accuracy = svdd.predict(X_test, y_test)\n",
        "svdd.print_model()"
      ],
      "metadata": {
        "colab": {
          "base_uri": "https://localhost:8080/"
        },
        "outputId": "2d000549-1983-4813-9914-d16759774269",
        "id": "VU5uL1YsnRn7"
      },
      "execution_count": 138,
      "outputs": [
        {
          "output_type": "stream",
          "name": "stdout",
          "text": [
            "\n",
            "\n",
            "--------- SVDD model results ---------\n",
            "\n",
            "Kernel function              linear\n",
            "Raduis                       2.526\n",
            "Iteration                    7\n",
            "Number of Support vectors    2\n",
            "Rate  of  Support vectors    4.444 %\n",
            "accuracy                     90.476%\n",
            "\n"
          ]
        }
      ]
    },
    {
      "cell_type": "code",
      "source": [
        "poly = {\"type\": 'poly', \"degree\": 2, \"offset\": 0}\n",
        "positive_penalty_ = 0.9\n",
        "negetive_penalty_ = 0.9\n",
        "\n",
        "# construct an SVDD model\n",
        "svdd = SVDD(positive_penalty = positive_penalty_ , negetive_penalty = negetive_penalty_ ,kernel = poly)\n",
        "\n",
        "# train SVDD model\n",
        "svdd.fit(X_train, y_train)\n",
        "\n",
        "# test SVDD model\n",
        "accuracy = svdd.predict(X_test, y_test)\n",
        "svdd.print_model()"
      ],
      "metadata": {
        "colab": {
          "base_uri": "https://localhost:8080/"
        },
        "id": "cJ3g4mhLn-cQ",
        "outputId": "46ddcb94-41c9-45d4-f504-101664fa2a83"
      },
      "execution_count": 139,
      "outputs": [
        {
          "output_type": "stream",
          "name": "stdout",
          "text": [
            "\n",
            "\n",
            "--------- SVDD model results ---------\n",
            "\n",
            "Kernel function              poly\n",
            "Raduis                       2.030\n",
            "Iteration                    7\n",
            "Number of Support vectors    4\n",
            "Rate  of  Support vectors    8.889 %\n",
            "accuracy                     20.000%\n",
            "\n"
          ]
        }
      ]
    },
    {
      "cell_type": "code",
      "source": [
        "sigmoid = {\"type\": 'tanh', \"gamma\": 1e-10, \"offset\": 0.1}\n",
        "positive_penalty_ = 0.9\n",
        "negetive_penalty_ = 0.9\n",
        "\n",
        "# construct an SVDD model\n",
        "svdd = SVDD(positive_penalty = positive_penalty_ , negetive_penalty = negetive_penalty_ ,kernel = sigmoid)\n",
        "\n",
        "# train SVDD model\n",
        "svdd.fit(X_train, y_train)\n",
        "\n",
        "# test SVDD model\n",
        "accuracy = svdd.predict(X_test, y_test)\n",
        "svdd.print_model()"
      ],
      "metadata": {
        "colab": {
          "base_uri": "https://localhost:8080/"
        },
        "id": "YkMWctNvoObF",
        "outputId": "62004d1d-d058-4fbd-950b-2f521a6d878d"
      },
      "execution_count": 142,
      "outputs": [
        {
          "output_type": "stream",
          "name": "stdout",
          "text": [
            "\n",
            "\n",
            "--------- SVDD model results ---------\n",
            "\n",
            "Kernel function              tanh\n",
            "Raduis                       0.0000135118\n",
            "Iteration                    5\n",
            "Number of Support vectors    45\n",
            "Rate  of  Support vectors    100.000 %\n",
            "accuracy                     96.190%\n",
            "\n"
          ]
        }
      ]
    },
    {
      "cell_type": "code",
      "source": [
        "lapl = {\"type\": 'lapl', \"sigma\": 1}\n",
        "positive_penalty_ = 0.9\n",
        "negetive_penalty_ = 0.9\n",
        "\n",
        "# construct an SVDD model\n",
        "svdd = SVDD(positive_penalty = positive_penalty_ , negetive_penalty = negetive_penalty_ ,kernel = lapl)\n",
        "\n",
        "# train SVDD model\n",
        "svdd.fit(X_train, y_train)\n",
        "\n",
        "# test SVDD model\n",
        "accuracy = svdd.predict(X_test, y_test)\n",
        "svdd.print_model()"
      ],
      "metadata": {
        "colab": {
          "base_uri": "https://localhost:8080/"
        },
        "id": "V0tdxvproybg",
        "outputId": "d2a41140-4dc3-4f19-9dab-0cb4a0b5f3d4"
      },
      "execution_count": 146,
      "outputs": [
        {
          "output_type": "stream",
          "name": "stdout",
          "text": [
            "\n",
            "\n",
            "--------- SVDD model results ---------\n",
            "\n",
            "Kernel function              lapl\n",
            "Raduis                       0.9055854192\n",
            "Iteration                    9\n",
            "Number of Support vectors    24\n",
            "Rate  of  Support vectors    53.333 %\n",
            "accuracy                     95.238%\n",
            "\n"
          ]
        }
      ]
    }
  ]
}
