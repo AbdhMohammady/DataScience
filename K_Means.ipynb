{
  "nbformat": 4,
  "nbformat_minor": 0,
  "metadata": {
    "colab": {
      "provenance": [],
      "mount_file_id": "1mpj0tpYjI5l0oGieFgbxcKmbQvcL6HDn",
      "authorship_tag": "ABX9TyPgtqqwMntQ82jOmio3p2YS"
    },
    "kernelspec": {
      "name": "python3",
      "display_name": "Python 3"
    },
    "language_info": {
      "name": "python"
    }
  },
  "cells": [
    {
      "cell_type": "markdown",
      "source": [
        "<font size= 10>K-Means algorethm</font>"
      ],
      "metadata": {
        "id": "leizy9v9n9Yu"
      }
    },
    {
      "cell_type": "markdown",
      "source": [
        "**sample implementation**"
      ],
      "metadata": {
        "id": "JHDvMIN_oHlT"
      }
    },
    {
      "cell_type": "code",
      "source": [
        "import math"
      ],
      "metadata": {
        "id": "7HOB93GofIRi"
      },
      "execution_count": null,
      "outputs": []
    },
    {
      "cell_type": "code",
      "source": [
        "x = [4, 5, 10, 4, 3, 11, 14 , 6, 10, 12]\n",
        "y = [21, 19, 24, 17, 16, 25, 24, 22, 21, 21]\n",
        "plt.scatter(x, y)\n",
        "plt.show()"
      ],
      "metadata": {
        "colab": {
          "base_uri": "https://localhost:8080/",
          "height": 434
        },
        "id": "6Wu0khAoosai",
        "outputId": "dfd59408-1d1f-4114-d578-f91d7c496119"
      },
      "execution_count": null,
      "outputs": [
        {
          "output_type": "display_data",
          "data": {
            "text/plain": [
              "<Figure size 640x480 with 1 Axes>"
            ],
            "image/png": "[encoded data removed]"
          },
          "metadata": {}
        }
      ]
    },
    {
      "cell_type": "markdown",
      "source": [
        "Step 1 : select 2 random point and cluster data"
      ],
      "metadata": {
        "id": "XfSuKhb2oUR0"
      }
    },
    {
      "cell_type": "code",
      "source": [
        "C1 = [x[2],y[2]]\n",
        "C2 = [x[5],y[5]]\n",
        "\n",
        "cluster1 = []\n",
        "cluster2 = []\n",
        "\n",
        "for i in range(len(x)):\n",
        "  # Distance from C1\n",
        "  dc1 = math.sqrt( (x[i]-C1[0])**2 + (y[i]-C1[1])**2)\n",
        "  # Distance from C2\n",
        "  dc2 = math.sqrt( (x[i]-C2[0])**2 + (y[i]-C2[1])**2)\n",
        "\n",
        "  # Assign to cluster\n",
        "  if(dc1<dc2):\n",
        "    cluster1.append([x[i],y[i]])\n",
        "  else:\n",
        "    cluster2.append([x[i],y[i]])\n",
        "\n",
        "print('Cluster 1:',cluster1)\n",
        "\n",
        "print('Cluster 2:',cluster2)"
      ],
      "metadata": {
        "colab": {
          "base_uri": "https://localhost:8080/"
        },
        "id": "TELWQU5pdwfG",
        "outputId": "b8e2b6af-4f2b-4f31-d30c-46ec015f730c"
      },
      "execution_count": null,
      "outputs": [
        {
          "output_type": "stream",
          "name": "stdout",
          "text": [
            "Cluster 1: [[4, 21], [5, 19], [10, 24], [4, 17], [3, 16], [6, 22], [10, 21], [12, 21]]\n",
            "Cluster 2: [[11, 25], [14, 24]]\n"
          ]
        }
      ]
    },
    {
      "cell_type": "markdown",
      "source": [
        "Step 2: update C1 and C2 using mean of clusters"
      ],
      "metadata": {
        "id": "a0FTuDNvod60"
      }
    },
    {
      "cell_type": "code",
      "source": [
        "def cluster_mean(cluster:list):\n",
        "\n",
        "  meanx = 0\n",
        "  meany = 0\n",
        "\n",
        "  for i in range(len(cluster)):\n",
        "    meanx += cluster[i][0]\n",
        "    meany += cluster[i][1]\n",
        "\n",
        "  return [meanx/len(cluster), meany/len(cluster)]\n"
      ],
      "metadata": {
        "id": "kGhAGVPGj58g"
      },
      "execution_count": null,
      "outputs": []
    },
    {
      "cell_type": "code",
      "source": [
        "\n",
        "C1 = cluster_mean(cluster1)\n",
        "C2 = cluster_mean(cluster2)\n",
        "print('center of cluster 1:',C1)\n",
        "print('center of cluster 2:',C2)\n",
        "\n",
        "cluster1 = []\n",
        "cluster2 = []\n",
        "for i in range(len(x)):\n",
        "  # Distance from C1\n",
        "  dc1 = math.sqrt( (x[i]-C1[0])**2 + (y[i]-C1[1])**2)\n",
        "  # Distance from C2\n",
        "  dc2 = math.sqrt( (x[i]-C2[0])**2 + (y[i]-C2[1])**2)\n",
        "  # Assign to cluster\n",
        "  if(dc1<dc2):\n",
        "    cluster1.append([x[i],y[i]])\n",
        "  else:\n",
        "    cluster2.append([x[i],y[i]])\n",
        "\n",
        "print('Cluster 1:',cluster1)\n",
        "\n",
        "print('Cluster 2:',cluster2)"
      ],
      "metadata": {
        "colab": {
          "base_uri": "https://localhost:8080/"
        },
        "id": "0xkvbVA3l3D_",
        "outputId": "a4033236-8292-42be-83cb-a6a7a7c8f457"
      },
      "execution_count": null,
      "outputs": [
        {
          "output_type": "stream",
          "name": "stdout",
          "text": [
            "center of cluster 1: [6.75, 20.125]\n",
            "center of cluster 2: [12.5, 24.5]\n",
            "Cluster 1: [[4, 21], [5, 19], [4, 17], [3, 16], [6, 22], [10, 21]]\n",
            "Cluster 2: [[10, 24], [11, 25], [14, 24], [12, 21]]\n"
          ]
        }
      ]
    },
    {
      "cell_type": "code",
      "source": [
        "C1 = cluster_mean(cluster1)\n",
        "C2 = cluster_mean(cluster2)\n",
        "print('center of cluster 1:',C1)\n",
        "print('center of cluster 2:',C2)\n",
        "cluster1 = []\n",
        "cluster2 = []\n",
        "for i in range(len(x)):\n",
        "  # Distance from C1\n",
        "  dc1 = math.sqrt( (x[i]-C1[0])**2 + (y[i]-C1[1])**2)\n",
        "  # Distance from C2\n",
        "  dc2 = math.sqrt( (x[i]-C2[0])**2 + (y[i]-C2[1])**2)\n",
        "\n",
        "  # Assign to cluster\n",
        "  if(dc1<dc2):\n",
        "    cluster1.append([x[i],y[i]])\n",
        "  else:\n",
        "    cluster2.append([x[i],y[i]])\n",
        "\n",
        "print('Cluster 1:',cluster1)\n",
        "\n",
        "print('Cluster 2:',cluster2)\n",
        "\n",
        "print('C1',cluster_mean(cluster1))\n",
        "print('C2',cluster_mean(cluster2))"
      ],
      "metadata": {
        "colab": {
          "base_uri": "https://localhost:8080/"
        },
        "id": "gWIl5Spiny3z",
        "outputId": "2555b8b1-b956-4395-a646-cbbbee9b8b4c"
      },
      "execution_count": null,
      "outputs": [
        {
          "output_type": "stream",
          "name": "stdout",
          "text": [
            "center of cluster 1: [5.333333333333333, 19.333333333333332]\n",
            "center of cluster 2: [11.75, 23.5]\n",
            "Cluster 1: [[4, 21], [5, 19], [4, 17], [3, 16], [6, 22]]\n",
            "Cluster 2: [[10, 24], [11, 25], [14, 24], [10, 21], [12, 21]]\n",
            "C1 [4.4, 19.0]\n",
            "C2 [11.4, 23.0]\n"
          ]
        }
      ]
    },
    {
      "cell_type": "markdown",
      "source": [
        "No change in clusters and algorithm ends"
      ],
      "metadata": {
        "id": "ur78ns_Eont0"
      }
    },
    {
      "cell_type": "markdown",
      "source": [
        "sklearn implementation and testing dementia dataset from kaggle"
      ],
      "metadata": {
        "id": "lyKDjuNUotc-"
      }
    },
    {
      "cell_type": "code",
      "execution_count": null,
      "metadata": {
        "id": "Mk5JOht0ejVx"
      },
      "outputs": [],
      "source": [
        "%matplotlib inline\n",
        "import matplotlib.pyplot as plt\n",
        "import seaborn as sns; sns.set()\n",
        "import numpy as np\n",
        "from sklearn.cluster import KMeans"
      ]
    },
    {
      "cell_type": "code",
      "source": [
        "import pandas as pd\n",
        "from sklearn.model_selection import train_test_split\n",
        "\n",
        "dementias = pd.read_csv(\"/content/drive/MyDrive/DATA/dementia_dataset.csv\")\n",
        "\n",
        "print(\"Size of the dataset before dropping the records with missed values:\",dementias.shape[0],\"rows &\",dementias.shape[1],\"columns\" )\n",
        "\n",
        "# Since machine learning algorithms cannot work with missing data, we have to drop these records.\n",
        "# Dropping the records with missing value\n",
        "dementias = dementias.dropna()\n",
        "print(\"Size of the dataset after  dropping the records with missed values:\",dementias.shape[0],\"rows &\",dementias.shape[1],\"columns\" )\n",
        "# The dataset has tow categorical columns\n",
        "# Mapping categorical columns to 0 and 1\n",
        "dementias['M/F'] = dementias['M/F'].map({'M': 0, 'F': 1})\n",
        "dementias['Hand'] = dementias['Hand'].map({'R': 0, 'L': 1})\n",
        "dementias['Group'] = dementias['Group'].map({'Demented':1,'Nondemented':0,'Converted':0})\n",
        "# Splitting our data\n",
        "# By default, Sklearn will reserve 25% of the dataset for training.\n",
        "# we do not need to  'Subject ID' & 'MRI ID' columns\n",
        "X_train = dementias[['Visit','MR Delay','M/F','Hand','Age','EDUC','SES','MMSE','CDR','eTIV','nWBV','ASF']]\n",
        "\n",
        "# Target\n",
        "y_train = dementias['Group']\n",
        "\n",
        "#X_train, X_test, y_train, y_test = train_test_split(X, y, random_state=100)"
      ],
      "metadata": {
        "colab": {
          "base_uri": "https://localhost:8080/"
        },
        "id": "1T72BW3a_Xd-",
        "outputId": "aa1e080e-5c8f-44ff-fef1-508ee16aff78"
      },
      "execution_count": null,
      "outputs": [
        {
          "output_type": "stream",
          "name": "stdout",
          "text": [
            "Size of the dataset before dropping the records with missed values: 373 rows & 15 columns\n",
            "Size of the dataset after  dropping the records with missed values: 354 rows & 15 columns\n"
          ]
        }
      ]
    },
    {
      "cell_type": "markdown",
      "source": [
        "\n",
        "In order to find the best value for K, we need to run K-means across our data for a range of possible values. We only have 10 data points, so the maximum number of clusters is 10. So for each value K in range(1,11), we train a K-means model and plot the intertia at that number of clusters"
      ],
      "metadata": {
        "id": "xj4K9zqupFup"
      }
    },
    {
      "cell_type": "markdown",
      "source": [
        "We can see that the \"elbow\" on the graph above (where the interia becomes more linear) is at K=2. We can then fit our K-means algorithm one more time and plot the different clusters assigned to the data:"
      ],
      "metadata": {
        "id": "H6mi5wKepJbg"
      }
    },
    {
      "cell_type": "code",
      "source": [
        "#Turn the data into a set of points:\n",
        "data = X_train.values\n",
        "\n",
        "inertias = []\n",
        "\n",
        "for i in range(1,11):\n",
        "    kmeans = KMeans(n_clusters=i,n_init=10)\n",
        "    kmeans.fit(data)\n",
        "    inertias.append(kmeans.inertia_)\n",
        "\n",
        "plt.plot(range(1,11), inertias, marker='o')\n",
        "plt.title('Elbow method')\n",
        "plt.xlabel('Number of clusters')\n",
        "plt.ylabel('Inertia')\n",
        "plt.show()"
      ],
      "metadata": {
        "colab": {
          "base_uri": "https://localhost:8080/",
          "height": 480
        },
        "id": "yt5p0Ydfoz-J",
        "outputId": "642d9671-aa93-41b0-de6e-2630ea477797"
      },
      "execution_count": null,
      "outputs": [
        {
          "output_type": "display_data",
          "data": {
            "text/plain": [
              "<Figure size 640x480 with 1 Axes>"
            ],
            "image/png": "[encoded data removed]"
          },
          "metadata": {}
        }
      ]
    },
    {
      "cell_type": "markdown",
      "source": [
        "First try prediction"
      ],
      "metadata": {
        "id": "-YTGtwFpo5Xv"
      }
    },
    {
      "cell_type": "code",
      "source": [
        "\n",
        "X = X_train.values\n",
        "Y = np.array(y_train)\n",
        "kmeans = KMeans(n_clusters=2,n_init=10) # You want cluster the passenger records into 2: Survived or Not survived\n",
        "kmeans.fit(X)\n",
        "\n",
        "correct = 0\n",
        "for i in range(len(X)):\n",
        "    #predict_me = np.array(X[i].astype(float))\n",
        "    #predict_me = predict_me.reshape(-1, len(predict_me))\n",
        "    prediction = kmeans.predict(X)\n",
        "    if prediction[0] == Y[i]: correct += 1\n",
        "\n",
        "print(correct/len(X))"
      ],
      "metadata": {
        "colab": {
          "base_uri": "https://localhost:8080/"
        },
        "id": "dKulNsYnEZ--",
        "outputId": "cabc7aa9-b2ba-40b3-b40c-ad3f67f38905"
      },
      "execution_count": null,
      "outputs": [
        {
          "output_type": "stream",
          "name": "stdout",
          "text": [
            "0.3587570621468927\n"
          ]
        }
      ]
    },
    {
      "cell_type": "markdown",
      "source": [
        "Try using adjusted parameters"
      ],
      "metadata": {
        "id": "f49FUM4ro-bW"
      }
    },
    {
      "cell_type": "code",
      "source": [
        "kmeans = kmeans = KMeans(n_clusters=2, max_iter=600, algorithm = 'lloyd',n_init=10)\n",
        "kmeans.fit(X)\n",
        "correct = 0\n",
        "for i in range(len(X)):\n",
        "    prediction = kmeans.predict(X)\n",
        "    if prediction[0] == Y[i]: correct += 1\n",
        "\n",
        "print(correct/len(X))"
      ],
      "metadata": {
        "colab": {
          "base_uri": "https://localhost:8080/"
        },
        "id": "ED4w00QbJZtj",
        "outputId": "411e8c73-30ab-4fbf-d979-e9b63b24902a"
      },
      "execution_count": null,
      "outputs": [
        {
          "output_type": "stream",
          "name": "stdout",
          "text": [
            "0.6412429378531074\n"
          ]
        }
      ]
    }
  ]
}