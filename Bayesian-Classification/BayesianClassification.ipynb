{
  "cells": [
    {
      "cell_type": "markdown",
      "source": [
        "<font size=20><b>Bayesian Classification</b></font>"
      ],
      "metadata": {
        "id": "phOCNXaD6qng"
      }
    },
    {
      "cell_type": "markdown",
      "source": [
        "<h1><b>Content</b></h1>\n",
        "\n",
        "<ul>\n",
        "  <li>Basic Mathematics</li>\n",
        "  <li>Variety of implementations in Python</li>\n",
        "  <li>Preprocessing</li>\n",
        "  <li>GaussinNB testing</li>\n",
        "  <ul>\n",
        "  <li>sample_weight parameter effects</li>\n",
        "  <li>var_smoothing parameter effects</li>\n",
        "  </ul>\n",
        "  <li>Comparison of speed and accuracy with SVM</li>\n",
        "</ul>"
      ],
      "metadata": {
        "id": "gSsnGo2U6vCo"
      }
    },
    {
      "cell_type": "markdown",
      "metadata": {
        "id": "4rmjJ4pUxMc5"
      },
      "source": [
        "<h1><b>Basic mathematics</b></h1>\n",
        "\n",
        "Simple Bayesian classifications assume that the effect of a feature value on a class is independent of other features. This assumption is called the conditional independence of the class and it simplifies the calculations.[1]\n",
        "\n",
        "Here, using Bayes theorem, we mean by P(H|X) the probability that the tuple X satisfies the assumption H. In other words, we want to calculate the probability P(H: tuple X belongs to class $C_i$. | observed values of X), To simplify the notaion, We denote this expression by $P(C_i|X)$. and:<br/><br/>\n",
        "\n",
        "(1) - $P(C_i|X)=\\frac{P(C_i\\cap X)}{P(X)}=\\frac{P(C_i|X)P(C_i)}{P(X)}$\n",
        "\n",
        "We can calculate the probability of $P(X), P(C_i)$ and $P(X|C_i)$ using the data set. Suppose  the number of features is $k$ and $X=(x_1,x_2,...,x_k)$, the number of samples is $n$, and the number of classes is $m$, then:\n",
        "\n",
        "$P(C_i) =\\frac{|C_i|}{n}$ , $P(X) =\\frac{|X|}{n}$\n",
        "\n",
        "Because $P(X)$ is the same for all classes, in practice we can skip its calculation, this will reduce the calculation time and accelerate the learning of the model. A large data set causes heavy calculations to calculate $P(X|C_i)$, To reduce these calculations, we use the conditional independence of the class and assume that there is no dependence between the features, and therefore:\n",
        "\n",
        "$P(X|C_i)=P(x_1|C_i)\\times P(x_2|C_i)\\times...\\times P(x_k|C_i)=\\prod_{j=1}^{k}{P(x_j|C_i)}$\n",
        "\n",
        "If feature j is discrete or categorical,$P(C_i)$ is equal to the number of tuples that are in class $C_i$ and their $j$-th feature is equal to $x_j$ ,is divided by $|C_i|$\n",
        "\n",
        "If the attribute xj is continuous, it is usually assumed to have a Gaussian distribution with mean $\\mu$ and standard deviation $\\sigma$, which is introduced as follows: $g(x,\\mu,\\sigma)=\\frac{e^\\frac{{(x-\\mu)}^2}{2\\sigma^2}}{\\sqrt{2\\pi\\sigma}}$\n",
        "\n",
        "So, $g(x_j,\\mu_{C_i},\\sigma_{C_i})=P(x_j|C_i)$"
      ]
    },
    {
      "cell_type": "markdown",
      "metadata": {
        "id": "Lv4Sf6_2xMdF"
      },
      "source": [
        "<b>Predicting class of X</b>\n",
        "\n",
        "To specify class $X$, the goal is to find the maximum of $P(Ci|X)$ from (1):<br/>\n",
        "So that $P(C_i|X)>P(C_j|X) for \\le j \\le m,j \\neq i$\n",
        "\n",
        "For this, we do not need to calculate $P(X)$ because it is the same for all classes, also this can lead to reduced calculations. So the Bayes classifier considers $X$ to be in class $C_i$ if and only if:\n",
        "\n",
        "$P(X|C_i)P(C_i)>P(X|C_j)P(C_j) for 1\\le j \\le m, j\\neq i$"
      ]
    },
    {
      "cell_type": "markdown",
      "source": [
        "<h1><b>Variety of implementations in Python</h1></b>\n",
        "Regarding the Bayes classifier, there are various types in Python, such as Gaussian Bayes, Bernoulli Naive Bayes, Categorical Naive Bayes, as their names suggest, each of them is used in different fields of data sets.\n",
        "\n",
        "\n",
        "  * GaussianNB implements the Gaussian Naive Bayes algorithm for classification. The likelihood of the features is assumed to be Gaussian.\n",
        "\n",
        "  * BernoulliNB implements the naive Bayes training and classification algorithms for data that is distributed according to multivariate Bernoulli distributions; i.e., there may be multiple features but each one is assumed to be a binary-valued (Bernoulli, boolean) variable.\n",
        "\n",
        "  * CategoricalNB implements the categorical naive Bayes algorithm for categorically distributed data. It assumes that each feature, which is described by the index \n",
        ", has its own categorical distribution.[2]\n",
        "\n",
        "\n",
        "<b>According to the dataset we have, we use Gaussian Naive Bayes in this notebook.</b>"
      ],
      "metadata": {
        "id": "xyuQEl4tyMSE"
      }
    },
    {
      "cell_type": "markdown",
      "source": [
        "* Preprocessing"
      ],
      "metadata": {
        "id": "2O5IdndtAAiX"
      }
    },
    {
      "cell_type": "code",
      "source": [
        "from google.colab import drive\n",
        "drive.mount('/content/drive')"
      ],
      "metadata": {
        "colab": {
          "base_uri": "https://localhost:8080/"
        },
        "id": "TGtQNBnuNUk-",
        "outputId": "4f8181c2-e2b9-46ce-fdfa-5f3907b0762b"
      },
      "execution_count": null,
      "outputs": [
        {
          "output_type": "stream",
          "name": "stdout",
          "text": [
            "Mounted at /content/drive\n"
          ]
        }
      ]
    },
    {
      "cell_type": "code",
      "source": [
        "import pandas as pd\n",
        "import numpy as np\n",
        "from sklearn.model_selection import train_test_split\n",
        "from sklearn.naive_bayes import GaussianNB\n",
        "from sklearn.metrics import accuracy_score\n",
        "from sklearn.utils import class_weight\n",
        "from sklearn.svm import SVC\n",
        "import time\n",
        "print(\"Reading archived data from google colab\")\n",
        "\n",
        "#url =\"https://www.kaggle.com/datasets/shashwatwork/dementia-prediction-dataset?select=dementia_dataset.csv\"\n",
        "dementias = pd.read_csv(\"/content/drive/MyDrive/DATA/dementia_dataset.csv\")\n",
        "\n",
        "print(\"Size before dropping the records with missed values:\",dementias.shape)\n",
        "\n",
        "# Since machine learning algorithms cannot work with missing data, we have to drop these records.\n",
        "# Dropping the records with missing value\n",
        "dementias = dementias.dropna()\n",
        "print(\"Size after dropping the records with missed values:\",dementias.shape)\n",
        "# The dataset has tow categorical columns\n",
        "# Mapping categorical columns to 0 and 1\n",
        "dementias['M/F'] = dementias['M/F'].map({'M': 0, 'F': 1})\n",
        "dementias['Hand'] = dementias['Hand'].map({'R': 0, 'L': 1})\n",
        "\n",
        "# Splitting our data\n",
        "# By default, Sklearn will reserve 25% of the dataset for training.\n",
        "# we do not need to  'Subject ID' & 'MRI ID' columns\n",
        "X = dementias[['Visit','MR Delay','M/F','Hand','Age','EDUC','SES','MMSE','CDR','eTIV','nWBV','ASF']]\n",
        "\n",
        "# Target\n",
        "y = dementias['Group']\n",
        "\n",
        "X_train, X_test, y_train, y_test = train_test_split(X, y)\n",
        "\n",
        "dementias.head()"
      ],
      "metadata": {
        "id": "h7ljKg0Uyr7R",
        "colab": {
          "base_uri": "https://localhost:8080/",
          "height": 302
        },
        "outputId": "f623bba3-8023-43d9-8202-9fa589c63567"
      },
      "execution_count": null,
      "outputs": [
        {
          "output_type": "stream",
          "name": "stdout",
          "text": [
            "Reading archived data from google colab\n",
            "Size before dropping the records with missed values: (373, 15)\n",
            "Size after dropping the records with missed values: (354, 15)\n"
          ]
        },
        {
          "output_type": "execute_result",
          "data": {
            "text/plain": [
              "  Subject ID         MRI ID        Group  Visit  MR Delay  M/F  Hand  Age  \\\n",
              "0  OAS2_0001  OAS2_0001_MR1  Nondemented      1         0    0     0   87   \n",
              "1  OAS2_0001  OAS2_0001_MR2  Nondemented      2       457    0     0   88   \n",
              "5  OAS2_0004  OAS2_0004_MR1  Nondemented      1         0    1     0   88   \n",
              "6  OAS2_0004  OAS2_0004_MR2  Nondemented      2       538    1     0   90   \n",
              "7  OAS2_0005  OAS2_0005_MR1  Nondemented      1         0    0     0   80   \n",
              "\n",
              "   EDUC  SES  MMSE  CDR  eTIV   nWBV    ASF  \n",
              "0    14  2.0  27.0  0.0  1987  0.696  0.883  \n",
              "1    14  2.0  30.0  0.0  2004  0.681  0.876  \n",
              "5    18  3.0  28.0  0.0  1215  0.710  1.444  \n",
              "6    18  3.0  27.0  0.0  1200  0.718  1.462  \n",
              "7    12  4.0  28.0  0.0  1689  0.712  1.039  "
            ],
            "text/html": [
              "\n",
              "  <div id=\"df-a8a61fe1-6365-4834-b5d3-10a708adc22b\">\n",
              "    <div class=\"colab-df-container\">\n",
              "      <div>\n",
              "<style scoped>\n",
              "    .dataframe tbody tr th:only-of-type {\n",
              "        vertical-align: middle;\n",
              "    }\n",
              "\n",
              "    .dataframe tbody tr th {\n",
              "        vertical-align: top;\n",
              "    }\n",
              "\n",
              "    .dataframe thead th {\n",
              "        text-align: right;\n",
              "    }\n",
              "</style>\n",
              "<table border=\"1\" class=\"dataframe\">\n",
              "  <thead>\n",
              "    <tr style=\"text-align: right;\">\n",
              "      <th></th>\n",
              "      <th>Subject ID</th>\n",
              "      <th>MRI ID</th>\n",
              "      <th>Group</th>\n",
              "      <th>Visit</th>\n",
              "      <th>MR Delay</th>\n",
              "      <th>M/F</th>\n",
              "      <th>Hand</th>\n",
              "      <th>Age</th>\n",
              "      <th>EDUC</th>\n",
              "      <th>SES</th>\n",
              "      <th>MMSE</th>\n",
              "      <th>CDR</th>\n",
              "      <th>eTIV</th>\n",
              "      <th>nWBV</th>\n",
              "      <th>ASF</th>\n",
              "    </tr>\n",
              "  </thead>\n",
              "  <tbody>\n",
              "    <tr>\n",
              "      <th>0</th>\n",
              "      <td>OAS2_0001</td>\n",
              "      <td>OAS2_0001_MR1</td>\n",
              "      <td>Nondemented</td>\n",
              "      <td>1</td>\n",
              "      <td>0</td>\n",
              "      <td>0</td>\n",
              "      <td>0</td>\n",
              "      <td>87</td>\n",
              "      <td>14</td>\n",
              "      <td>2.0</td>\n",
              "      <td>27.0</td>\n",
              "      <td>0.0</td>\n",
              "      <td>1987</td>\n",
              "      <td>0.696</td>\n",
              "      <td>0.883</td>\n",
              "    </tr>\n",
              "    <tr>\n",
              "      <th>1</th>\n",
              "      <td>OAS2_0001</td>\n",
              "      <td>OAS2_0001_MR2</td>\n",
              "      <td>Nondemented</td>\n",
              "      <td>2</td>\n",
              "      <td>457</td>\n",
              "      <td>0</td>\n",
              "      <td>0</td>\n",
              "      <td>88</td>\n",
              "      <td>14</td>\n",
              "      <td>2.0</td>\n",
              "      <td>30.0</td>\n",
              "      <td>0.0</td>\n",
              "      <td>2004</td>\n",
              "      <td>0.681</td>\n",
              "      <td>0.876</td>\n",
              "    </tr>\n",
              "    <tr>\n",
              "      <th>5</th>\n",
              "      <td>OAS2_0004</td>\n",
              "      <td>OAS2_0004_MR1</td>\n",
              "      <td>Nondemented</td>\n",
              "      <td>1</td>\n",
              "      <td>0</td>\n",
              "      <td>1</td>\n",
              "      <td>0</td>\n",
              "      <td>88</td>\n",
              "      <td>18</td>\n",
              "      <td>3.0</td>\n",
              "      <td>28.0</td>\n",
              "      <td>0.0</td>\n",
              "      <td>1215</td>\n",
              "      <td>0.710</td>\n",
              "      <td>1.444</td>\n",
              "    </tr>\n",
              "    <tr>\n",
              "      <th>6</th>\n",
              "      <td>OAS2_0004</td>\n",
              "      <td>OAS2_0004_MR2</td>\n",
              "      <td>Nondemented</td>\n",
              "      <td>2</td>\n",
              "      <td>538</td>\n",
              "      <td>1</td>\n",
              "      <td>0</td>\n",
              "      <td>90</td>\n",
              "      <td>18</td>\n",
              "      <td>3.0</td>\n",
              "      <td>27.0</td>\n",
              "      <td>0.0</td>\n",
              "      <td>1200</td>\n",
              "      <td>0.718</td>\n",
              "      <td>1.462</td>\n",
              "    </tr>\n",
              "    <tr>\n",
              "      <th>7</th>\n",
              "      <td>OAS2_0005</td>\n",
              "      <td>OAS2_0005_MR1</td>\n",
              "      <td>Nondemented</td>\n",
              "      <td>1</td>\n",
              "      <td>0</td>\n",
              "      <td>0</td>\n",
              "      <td>0</td>\n",
              "      <td>80</td>\n",
              "      <td>12</td>\n",
              "      <td>4.0</td>\n",
              "      <td>28.0</td>\n",
              "      <td>0.0</td>\n",
              "      <td>1689</td>\n",
              "      <td>0.712</td>\n",
              "      <td>1.039</td>\n",
              "    </tr>\n",
              "  </tbody>\n",
              "</table>\n",
              "</div>\n",
              "      <button class=\"colab-df-convert\" onclick=\"convertToInteractive('df-a8a61fe1-6365-4834-b5d3-10a708adc22b')\"\n",
              "              title=\"Convert this dataframe to an interactive table.\"\n",
              "              style=\"display:none;\">\n",
              "        \n",
              "  <svg xmlns=\"http://www.w3.org/2000/svg\" height=\"24px\"viewBox=\"0 0 24 24\"\n",
              "       width=\"24px\">\n",
              "    <path d=\"M0 0h24v24H0V0z\" fill=\"none\"/>\n",
              "    <path d=\"M18.56 5.44l.94 2.06.94-2.06 2.06-.94-2.06-.94-.94-2.06-.94 2.06-2.06.94zm-11 1L8.5 8.5l.94-2.06 2.06-.94-2.06-.94L8.5 2.5l-.94 2.06-2.06.94zm10 10l.94 2.06.94-2.06 2.06-.94-2.06-.94-.94-2.06-.94 2.06-2.06.94z\"/><path d=\"M17.41 7.96l-1.37-1.37c-.4-.4-.92-.59-1.43-.59-.52 0-1.04.2-1.43.59L10.3 9.45l-7.72 7.72c-.78.78-.78 2.05 0 2.83L4 21.41c.39.39.9.59 1.41.59.51 0 1.02-.2 1.41-.59l7.78-7.78 2.81-2.81c.8-.78.8-2.07 0-2.86zM5.41 20L4 18.59l7.72-7.72 1.47 1.35L5.41 20z\"/>\n",
              "  </svg>\n",
              "      </button>\n",
              "      \n",
              "  <style>\n",
              "    .colab-df-container {\n",
              "      display:flex;\n",
              "      flex-wrap:wrap;\n",
              "      gap: 12px;\n",
              "    }\n",
              "\n",
              "    .colab-df-convert {\n",
              "      background-color: #E8F0FE;\n",
              "      border: none;\n",
              "      border-radius: 50%;\n",
              "      cursor: pointer;\n",
              "      display: none;\n",
              "      fill: #1967D2;\n",
              "      height: 32px;\n",
              "      padding: 0 0 0 0;\n",
              "      width: 32px;\n",
              "    }\n",
              "\n",
              "    .colab-df-convert:hover {\n",
              "      background-color: #E2EBFA;\n",
              "      box-shadow: 0px 1px 2px rgba(60, 64, 67, 0.3), 0px 1px 3px 1px rgba(60, 64, 67, 0.15);\n",
              "      fill: #174EA6;\n",
              "    }\n",
              "\n",
              "    [theme=dark] .colab-df-convert {\n",
              "      background-color: #3B4455;\n",
              "      fill: #D2E3FC;\n",
              "    }\n",
              "\n",
              "    [theme=dark] .colab-df-convert:hover {\n",
              "      background-color: #434B5C;\n",
              "      box-shadow: 0px 1px 3px 1px rgba(0, 0, 0, 0.15);\n",
              "      filter: drop-shadow(0px 1px 2px rgba(0, 0, 0, 0.3));\n",
              "      fill: #FFFFFF;\n",
              "    }\n",
              "  </style>\n",
              "\n",
              "      <script>\n",
              "        const buttonEl =\n",
              "          document.querySelector('#df-a8a61fe1-6365-4834-b5d3-10a708adc22b button.colab-df-convert');\n",
              "        buttonEl.style.display =\n",
              "          google.colab.kernel.accessAllowed ? 'block' : 'none';\n",
              "\n",
              "        async function convertToInteractive(key) {\n",
              "          const element = document.querySelector('#df-a8a61fe1-6365-4834-b5d3-10a708adc22b');\n",
              "          const dataTable =\n",
              "            await google.colab.kernel.invokeFunction('convertToInteractive',\n",
              "                                                     [key], {});\n",
              "          if (!dataTable) return;\n",
              "\n",
              "          const docLinkHtml = 'Like what you see? Visit the ' +\n",
              "            '<a target=\"_blank\" href=https://colab.research.google.com/notebooks/data_table.ipynb>data table notebook</a>'\n",
              "            + ' to learn more about interactive tables.';\n",
              "          element.innerHTML = '';\n",
              "          dataTable['output_type'] = 'display_data';\n",
              "          await google.colab.output.renderOutput(dataTable, element);\n",
              "          const docLink = document.createElement('div');\n",
              "          docLink.innerHTML = docLinkHtml;\n",
              "          element.appendChild(docLink);\n",
              "        }\n",
              "      </script>\n",
              "    </div>\n",
              "  </div>\n",
              "  "
            ]
          },
          "metadata": {},
          "execution_count": 1
        }
      ]
    },
    {
      "cell_type": "markdown",
      "source": [
        "* GaussianNB testing<br/>\n",
        "As mentioned above, the likelihood of the features is assumed to be Gaussian:  $P(x_j|C_i)=\\frac{e^\\frac{{(x_j-\\mu_{C_i})}^2}{2\\sigma_{C_i}^2}}{\\sqrt{2\\pi\\sigma_{C_i}}}$"
      ],
      "metadata": {
        "id": "r8SJKLM6AQDO"
      }
    },
    {
      "cell_type": "code",
      "source": [
        "gnb = GaussianNB()\n",
        "\n",
        "#Unweighted fit\n",
        "#gnb.partial_fit(X_train, y_train,np.unique(y_train))\n",
        "gnb.fit(X_train, y_train)\n",
        "#gnb.fit(X_train, y_train,sample_weight=5)\n",
        "y_pred = gnb.predict(X_test)\n",
        "acc = accuracy_score(y_test,y_pred)\n",
        "print(\"Accuracy\" , acc)\n"
      ],
      "metadata": {
        "colab": {
          "base_uri": "https://localhost:8080/"
        },
        "id": "o4Ku9UBx1M8C",
        "outputId": "ab58f11a-397f-42da-fc38-e6d20243141b"
      },
      "execution_count": null,
      "outputs": [
        {
          "output_type": "stream",
          "name": "stdout",
          "text": [
            "Accuracy 0.9213483146067416\n"
          ]
        }
      ]
    },
    {
      "cell_type": "markdown",
      "source": [
        "One of the 'fit' parameters is 'sample_weight', which we ignored in the above code, in the following we want to assign different values to it and see the result."
      ],
      "metadata": {
        "id": "R_VUL4k4CqKm"
      }
    },
    {
      "cell_type": "code",
      "source": [
        "\n",
        "gnb = GaussianNB()\n",
        "# Higher weights force the classifier to put more emphasis on the points\n",
        "weight = class_weight.compute_sample_weight(None, y_train)\n",
        "\n",
        "y_pred = gnb.fit(X_train, y_train,sample_weight=weight).predict(X_test)\n",
        "\n",
        "acc = accuracy_score(y_test,y_pred)\n",
        "\n",
        "print(\"Accuracy\" , acc)\n"
      ],
      "metadata": {
        "colab": {
          "base_uri": "https://localhost:8080/"
        },
        "id": "_CDAXSHm_LTo",
        "outputId": "28301549-cf59-4c9c-896c-fac509a8e3ca"
      },
      "execution_count": null,
      "outputs": [
        {
          "output_type": "stream",
          "name": "stdout",
          "text": [
            "Accuracy 0.9101123595505618\n"
          ]
        }
      ]
    },
    {
      "cell_type": "code",
      "source": [
        "gnb = GaussianNB()\n",
        "# Higher weights force the classifier to put more emphasis on the points\n",
        "y_pred = gnb.fit(X_train, y_train,sample_weight=5).predict(X_test)\n",
        "\n",
        "acc = accuracy_score(y_test,y_pred)\n",
        "\n",
        "print(\"Accuracy\" , acc)\n"
      ],
      "metadata": {
        "colab": {
          "base_uri": "https://localhost:8080/"
        },
        "id": "Lmuz5KXEsDZf",
        "outputId": "6ca29d69-197c-45ff-b6dd-8b864b7667ae"
      },
      "execution_count": null,
      "outputs": [
        {
          "output_type": "stream",
          "name": "stdout",
          "text": [
            "Accuracy 0.8651685393258427\n"
          ]
        }
      ]
    },
    {
      "cell_type": "code",
      "source": [
        "gnb = GaussianNB()\n",
        "# Higher weights force the classifier to put more emphasis on the points\n",
        "y_pred = gnb.fit(X_train, y_train,sample_weight=10).predict(X_test)\n",
        "\n",
        "acc = accuracy_score(y_test,y_pred)\n",
        "\n",
        "print(\"Accuracy\" , acc)\n"
      ],
      "metadata": {
        "colab": {
          "base_uri": "https://localhost:8080/"
        },
        "id": "e9yR_nUpsR4Y",
        "outputId": "644708f6-00c9-4bdb-e2c3-b5db3189e53a"
      },
      "execution_count": null,
      "outputs": [
        {
          "output_type": "stream",
          "name": "stdout",
          "text": [
            "Accuracy 0.9325842696629213\n"
          ]
        }
      ]
    },
    {
      "cell_type": "code",
      "source": [
        "gnb = GaussianNB()\n",
        "# Higher weights force the classifier to put more emphasis on the points\n",
        "y_pred = gnb.fit(X_train, y_train,sample_weight=15).predict(X_test)\n",
        "\n",
        "acc = accuracy_score(y_test,y_pred)\n",
        "\n",
        "print(\"Accuracy\" , acc)\n"
      ],
      "metadata": {
        "colab": {
          "base_uri": "https://localhost:8080/"
        },
        "id": "4NoL3R4tryzy",
        "outputId": "744e6df4-c8ba-4fc9-ab03-91f037506ace"
      },
      "execution_count": null,
      "outputs": [
        {
          "output_type": "stream",
          "name": "stdout",
          "text": [
            "Accuracy 0.9213483146067416\n"
          ]
        }
      ]
    },
    {
      "cell_type": "code",
      "source": [
        "gnb = GaussianNB()\n",
        "# Higher weights force the classifier to put more emphasis on the points\n",
        "y_pred = gnb.fit(X_train, y_train,sample_weight=25).predict(X_test)\n",
        "\n",
        "acc = accuracy_score(y_test,y_pred)\n",
        "\n",
        "print(\"Accuracy\" , acc)\n"
      ],
      "metadata": {
        "colab": {
          "base_uri": "https://localhost:8080/"
        },
        "id": "QFxkXPNeor2W",
        "outputId": "c481ec2e-b825-49f5-db69-05565f9fb922"
      },
      "execution_count": null,
      "outputs": [
        {
          "output_type": "stream",
          "name": "stdout",
          "text": [
            "Accuracy 0.9213483146067416\n"
          ]
        }
      ]
    },
    {
      "cell_type": "code",
      "source": [
        "gnb = GaussianNB()\n",
        "\n",
        "y_pred = gnb.partial_fit(X_train, y_train,np.unique(y_train)).predict(X_test)\n",
        "\n",
        "acc = accuracy_score(y_test,y_pred)\n",
        "\n",
        "print(\"Accuracy\" , acc)"
      ],
      "metadata": {
        "colab": {
          "base_uri": "https://localhost:8080/"
        },
        "id": "smMdnLg2P7PJ",
        "outputId": "a1352cb3-f394-405d-b333-b9cea21887b7"
      },
      "execution_count": null,
      "outputs": [
        {
          "output_type": "stream",
          "name": "stdout",
          "text": [
            "Accuracy 0.898876404494382\n"
          ]
        }
      ]
    },
    {
      "cell_type": "code",
      "source": [
        "gnb = GaussianNB()\n",
        "exec_start = time.time()\n",
        "\n",
        "y_pred = gnb.partial_fit(X_train, y_train,np.unique(y_train),sample_weight=5).predict(X_test)\n",
        "\n",
        "exec_end = time.time()\n",
        "\n",
        "exec_time = exec_end - exec_start\n",
        "\n",
        "acc = accuracy_score(y_test,y_pred)\n",
        "\n",
        "print(\"Accuracy\" , acc)\n",
        "print(\"Time:\", exec_time)"
      ],
      "metadata": {
        "colab": {
          "base_uri": "https://localhost:8080/"
        },
        "id": "34SzEVB-QgEz",
        "outputId": "b50da92f-f4da-47d8-e8d8-ec9d5a439b88"
      },
      "execution_count": null,
      "outputs": [
        {
          "output_type": "stream",
          "name": "stdout",
          "text": [
            "Accuracy 0.8876404494382022\n",
            "Time: 0.03380084037780762\n"
          ]
        }
      ]
    },
    {
      "cell_type": "code",
      "source": [
        "gnb = GaussianNB()\n",
        "\n",
        "y_pred = gnb.partial_fit(X_train, y_train,np.unique(y_train),sample_weight=10).predict(X_test)\n",
        "exec_end = time.time()\n",
        "\n",
        "exec_time = exec_end - exec_start\n",
        "\n",
        "acc = accuracy_score(y_test,y_pred)\n",
        "\n",
        "print(\"Accuracy\" , acc)\n",
        "print(\"Time:\", exec_time)"
      ],
      "metadata": {
        "colab": {
          "base_uri": "https://localhost:8080/"
        },
        "id": "YXkftvOD3G__",
        "outputId": "bf805538-c5e8-47c2-aa2a-46008f00daaf"
      },
      "execution_count": null,
      "outputs": [
        {
          "output_type": "stream",
          "name": "stdout",
          "text": [
            "Accuracy 0.9101123595505618\n"
          ]
        }
      ]
    },
    {
      "cell_type": "code",
      "source": [
        "gnb = GaussianNB()\n",
        "\n",
        "y_pred = gnb.partial_fit(X_train, y_train,np.unique(y_train),sample_weight=15).predict(X_test)\n",
        "\n",
        "acc = accuracy_score(y_test,y_pred)\n",
        "\n",
        "print(\"Accuracy\" , acc)"
      ],
      "metadata": {
        "colab": {
          "base_uri": "https://localhost:8080/"
        },
        "id": "y2Q63j06QxZt",
        "outputId": "1b4bf6c5-e9b1-4822-d915-5c6694a94761"
      },
      "execution_count": null,
      "outputs": [
        {
          "output_type": "stream",
          "name": "stdout",
          "text": [
            "Accuracy 0.9213483146067416\n"
          ]
        }
      ]
    },
    {
      "cell_type": "code",
      "source": [
        "gnb = GaussianNB()\n",
        "\n",
        "y_pred = gnb.partial_fit(X_train, y_train,np.unique(y_train),sample_weight=25).predict(X_test)\n",
        "\n",
        "acc = accuracy_score(y_test,y_pred)\n",
        "\n",
        "print(\"Accuracy\" , acc)"
      ],
      "metadata": {
        "colab": {
          "base_uri": "https://localhost:8080/"
        },
        "id": "V2DIsiHeRFk0",
        "outputId": "84a10341-5861-4ad7-a125-da542ab44f0c"
      },
      "execution_count": null,
      "outputs": [
        {
          "output_type": "stream",
          "name": "stdout",
          "text": [
            "Accuracy 0.8426966292134831\n"
          ]
        }
      ]
    },
    {
      "cell_type": "markdown",
      "source": [
        "var_smoothing parameter effects"
      ],
      "metadata": {
        "id": "JSWxg_eZ3mGj"
      }
    },
    {
      "cell_type": "code",
      "source": [
        "for i in range(12):\n",
        "  s = 1/(10**(1+i))\n",
        "  gnb = GaussianNB(priors=None, var_smoothing = s)\n",
        "  y_pred = gnb.fit(X_train, y_train).predict(X_test)\n",
        "  acc = accuracy_score(y_test,y_pred)\n",
        "  print(\"Accuracy\" , acc)"
      ],
      "metadata": {
        "colab": {
          "base_uri": "https://localhost:8080/"
        },
        "id": "K5Zt7MzOyQj_",
        "outputId": "0e231d13-fa21-41c4-fe48-fae6e0c0c93e"
      },
      "execution_count": null,
      "outputs": [
        {
          "output_type": "stream",
          "name": "stdout",
          "text": [
            "Accuracy 0.4943820224719101\n",
            "Accuracy 0.48314606741573035\n",
            "Accuracy 0.5393258426966292\n",
            "Accuracy 0.6741573033707865\n",
            "Accuracy 0.7078651685393258\n",
            "Accuracy 0.7528089887640449\n",
            "Accuracy 0.8764044943820225\n",
            "Accuracy 0.9438202247191011\n",
            "Accuracy 0.9325842696629213\n",
            "Accuracy 0.9325842696629213\n",
            "Accuracy 0.9325842696629213\n",
            "Accuracy 0.9325842696629213\n"
          ]
        }
      ]
    },
    {
      "cell_type": "markdown",
      "source": [
        "Comparison of speed and accuracy with SVM"
      ],
      "metadata": {
        "id": "xF-ZlRIn3q8T"
      }
    },
    {
      "cell_type": "code",
      "source": [
        "\n",
        "exec_start = time.time()\n",
        "# Building and training our model\n",
        "classifier = SVC(kernel='linear',C=0.6)\n",
        "classifier.fit(X_train, y_train)  \n",
        "predictions = classifier.predict(X_test)\n",
        "        \n",
        "score = accuracy_score(y_test, predictions) \n",
        "\n",
        "exec_end = time.time()\n",
        "\n",
        "exec_time = exec_end - exec_start\n",
        "\n",
        "print(\"Time:\",exec_time)\n",
        "print(\"Accuracy:\",score)\n",
        "print('kernel: Linear')"
      ],
      "metadata": {
        "colab": {
          "base_uri": "https://localhost:8080/"
        },
        "id": "iN5IYl5b4ArP",
        "outputId": "149ea804-272c-4c87-8bb2-259e0459f990"
      },
      "execution_count": null,
      "outputs": [
        {
          "output_type": "stream",
          "name": "stdout",
          "text": [
            "Time: 38.619956731796265\n",
            "Accuracy: 0.8876404494382022\n",
            "kernel: Linear\n"
          ]
        }
      ]
    },
    {
      "cell_type": "code",
      "source": [
        "exec_start = time.time()\n",
        "# Building and training our model\n",
        "classifier = SVC(kernel='rbf',C=1.0)\n",
        "classifier.fit(X_train, y_train)  \n",
        "predictions = classifier.predict(X_test)\n",
        "        \n",
        "score = accuracy_score(y_test, predictions) \n",
        "\n",
        "exec_end = time.time()\n",
        "\n",
        "exec_time = exec_end - exec_start\n",
        "\n",
        "print(\"Time:\",exec_time)\n",
        "print(\"Accuracy:\",score)\n",
        "print('kernel: rbf')"
      ],
      "metadata": {
        "colab": {
          "base_uri": "https://localhost:8080/"
        },
        "id": "VV5h7SeN5sfr",
        "outputId": "116b7c56-91ff-435d-879c-24653cf52cee"
      },
      "execution_count": null,
      "outputs": [
        {
          "output_type": "stream",
          "name": "stdout",
          "text": [
            "Time: 0.026592254638671875\n",
            "Accuracy: 0.5168539325842697\n",
            "kernel: rbf\n"
          ]
        }
      ]
    },
    {
      "cell_type": "code",
      "source": [
        "exec_start = time.time()\n",
        "# Building and training our model\n",
        "classifier = SVC(kernel='poly',C=0.6,degree=2)\n",
        "classifier.fit(X_train, y_train)  \n",
        "predictions = classifier.predict(X_test)\n",
        "        \n",
        "score = accuracy_score(y_test, predictions) \n",
        "\n",
        "exec_end = time.time()\n",
        "\n",
        "exec_time = exec_end - exec_start\n",
        "\n",
        "print(\"Time:\",exec_time)\n",
        "print(\"Accuracy:\",score)\n",
        "print('kernel: poly')"
      ],
      "metadata": {
        "colab": {
          "base_uri": "https://localhost:8080/"
        },
        "id": "eCU6RvYx8O3V",
        "outputId": "ab170a45-cffc-419e-8c2a-993488668ddc"
      },
      "execution_count": null,
      "outputs": [
        {
          "output_type": "stream",
          "name": "stdout",
          "text": [
            "Time: 0.02133774757385254\n",
            "Accuracy: 0.43820224719101125\n",
            "kernel: poly\n"
          ]
        }
      ]
    },
    {
      "cell_type": "code",
      "source": [
        "gnb = GaussianNB()\n",
        "exec_start = time.time()\n",
        "\n",
        "y_pred = gnb.partial_fit(X_train, y_train,np.unique(y_train),sample_weight=5).predict(X_test)\n",
        "\n",
        "exec_end = time.time()\n",
        "\n",
        "exec_time = exec_end - exec_start\n",
        "\n",
        "acc = accuracy_score(y_test,y_pred)\n",
        "\n",
        "print(\"Accuracy\" , acc)\n",
        "print(\"Time:\", exec_time)"
      ],
      "metadata": {
        "colab": {
          "base_uri": "https://localhost:8080/"
        },
        "id": "sZOGo2149-va",
        "outputId": "d6828b89-e61e-499b-8aed-1ab81e349fbf"
      },
      "execution_count": null,
      "outputs": [
        {
          "output_type": "stream",
          "name": "stdout",
          "text": [
            "Accuracy 0.8876404494382022\n",
            "Time: 0.013085126876831055\n"
          ]
        }
      ]
    },
    {
      "cell_type": "code",
      "source": [
        "gnb = GaussianNB()\n",
        "exec_start = time.time()\n",
        "\n",
        "y_pred = gnb.fit(X_train, y_train,sample_weight=10).predict(X_test)\n",
        "\n",
        "exec_end = time.time()\n",
        "\n",
        "exec_time = exec_end - exec_start\n",
        "\n",
        "acc = accuracy_score(y_test,y_pred)\n",
        "\n",
        "print(\"Accuracy\" , acc)\n",
        "print(\"Time:\", exec_time)"
      ],
      "metadata": {
        "colab": {
          "base_uri": "https://localhost:8080/"
        },
        "id": "JeoWDGeK-AcR",
        "outputId": "409b39e8-454b-44c9-c708-a1afc8d6b4be"
      },
      "execution_count": null,
      "outputs": [
        {
          "output_type": "stream",
          "name": "stdout",
          "text": [
            "Accuracy 0.8876404494382022\n",
            "Time: 0.0076389312744140625\n"
          ]
        }
      ]
    },
    {
      "cell_type": "code",
      "source": [
        "import scipy.stats as stats\n",
        "import matplotlib.pyplot as plt\n",
        "import seaborn as sns\n",
        "sns.set(style=\"whitegrid\")\n",
        "\n",
        "class MyBayesClassifier():\n",
        "    '''\n",
        "    Bayes Theorem form\n",
        "    P(y|X) = P(X|y) * P(y) / P(X)\n",
        "    '''\n",
        "    def calc_prior(self, features, target):\n",
        "        '''\n",
        "        prior probability P(y)\n",
        "        calculate prior probabilities\n",
        "        '''\n",
        "        self.prior = (features.groupby(target).apply(lambda x: len(x)) / self.rows).to_numpy()\n",
        "\n",
        "        return self.prior\n",
        "    \n",
        "    def calc_statistics(self, features, target):\n",
        "        '''\n",
        "        calculate mean, variance for each column and convert to numpy array\n",
        "        ''' \n",
        "        self.mean = features.groupby(target).apply(np.mean).to_numpy()\n",
        "        self.var = features.groupby(target).apply(np.var).to_numpy()\n",
        "              \n",
        "        return self.mean, self.var\n",
        "    \n",
        "    def gaussian_density(self, class_idx, x):     \n",
        "        '''\n",
        "        calculate probability from gaussian density function (normally distributed)\n",
        "        we will assume that probability of specific target value given specific class is normally distributed \n",
        "        \n",
        "        probability density function derived from wikipedia:\n",
        "        (1/√2pi*σ) * exp((-1/2)*((x-μ)^2)/(2*σ²)), where μ is mean, σ² is variance, σ is quare root of variance (standard deviation)\n",
        "        '''\n",
        "        mean = self.mean[class_idx]\n",
        "        var = self.var[class_idx]\n",
        "        numerator = np.exp((-1/2)*((x-mean)**2) / (2 * var))\n",
        "        # numerator = np.exp(-((x-mean)**2 / (2 * var)))\n",
        "        denominator = np.sqrt(2 * np.pi * var)\n",
        "        prob = numerator / denominator\n",
        "        return prob\n",
        "    \n",
        "    def calc_posterior(self, x):\n",
        "        posteriors = []\n",
        "\n",
        "        # calculate posterior probability for each class\n",
        "        for i in range(self.count):\n",
        "            prior = np.log(self.prior[i]) ## use the log to make it more numerically stable\n",
        "            conditional = np.sum(np.log(self.gaussian_density(i, x))) # use the log to make it more numerically stable\n",
        "            posterior = prior + conditional\n",
        "            posteriors.append(posterior)\n",
        "        # return class with highest posterior probability\n",
        "        return self.classes[np.argmax(posteriors)]\n",
        "     \n",
        "\n",
        "    def fit(self, features, target):\n",
        "        self.classes = np.unique(target)\n",
        "        self.count = len(self.classes)\n",
        "        self.feature_nums = features.shape[1]\n",
        "        self.rows = features.shape[0]\n",
        "        \n",
        "        self.calc_statistics(features, target)\n",
        "        self.calc_prior(features, target)\n",
        "        \n",
        "    def predict(self, features):\n",
        "        preds = [self.calc_posterior(f) for f in features.to_numpy()]\n",
        "        return preds\n",
        "\n",
        "    def accuracy(self, y_test, y_pred):\n",
        "        accuracy = np.sum(y_test == y_pred) / len(y_test)\n",
        "        return accuracy\n",
        "\n",
        "    def visualize(self, y_true, y_pred, target):\n",
        "        \n",
        "        tr = pd.DataFrame(data=y_true, columns=[target])\n",
        "        pr = pd.DataFrame(data=y_pred, columns=[target])\n",
        "        \n",
        "        \n",
        "        fig, ax = plt.subplots(1, 2, sharex='col', sharey='row', figsize=(15,6))\n",
        "        \n",
        "        sns.countplot(x=target, data=tr, ax=ax[0], palette='viridis', alpha=0.7, hue=target, dodge=False)\n",
        "        sns.countplot(x=target, data=pr, ax=ax[1], palette='viridis', alpha=0.7, hue=target, dodge=False)\n",
        "        \n",
        "\n",
        "        fig.suptitle('True vs Predicted Comparison', fontsize=20)\n",
        "\n",
        "        ax[0].tick_params(labelsize=12)\n",
        "        ax[1].tick_params(labelsize=12)\n",
        "        ax[0].set_title(\"True values\", fontsize=18)\n",
        "        ax[1].set_title(\"Predicted values\", fontsize=18)\n",
        "        plt.show()"
      ],
      "metadata": {
        "id": "s_xlTLbSspqb"
      },
      "execution_count": null,
      "outputs": []
    },
    {
      "cell_type": "code",
      "source": [
        "mygclf = MyBayesClassifier()\n",
        "\n",
        "mygclf.fit(X_train,y_train)\n",
        "predictions = mygclf.predict(X_test)\n",
        "acc = mygclf.accuracy(y_test, predictions)\n",
        "print(\"Accuracy\" , acc)\n"
      ],
      "metadata": {
        "colab": {
          "base_uri": "https://localhost:8080/"
        },
        "id": "9goypJvAvew9",
        "outputId": "1bc6c733-f419-4dce-950e-d67dfbda2d3e"
      },
      "execution_count": null,
      "outputs": [
        {
          "output_type": "stream",
          "name": "stdout",
          "text": [
            "Accuracy 0.0898876404494382\n"
          ]
        },
        {
          "output_type": "stream",
          "name": "stderr",
          "text": [
            "/usr/local/lib/python3.9/dist-packages/numpy/core/fromnumeric.py:3472: FutureWarning: In a future version, DataFrame.mean(axis=None) will return a scalar mean over the entire DataFrame. To retain the old behavior, use 'frame.mean(axis=0)' or just 'frame.mean()'\n",
            "  return mean(axis=axis, dtype=dtype, out=out, **kwargs)\n",
            "<ipython-input-3-2ddb143006b6>:39: RuntimeWarning: invalid value encountered in true_divide\n",
            "  numerator = np.exp((-1/2)*((x-mean)**2) / (2 * var))\n"
          ]
        }
      ]
    },
    {
      "cell_type": "markdown",
      "metadata": {
        "id": "K1z-GM9ExMdH"
      },
      "source": [
        "<b>Refrences:</b><br/>\n",
        "1 - Data mining:concepts and techniques, 3rd Ed, Han.Jiawei<br/>\n",
        "2 - https://scikit-learn.org/stable/modules/naive_bayes.html\n",
        "\n"
      ]
    }
  ],
  "metadata": {
    "kernelspec": {
      "display_name": "Python 3",
      "language": "python",
      "name": "python3"
    },
    "language_info": {
      "codemirror_mode": {
        "name": "ipython",
        "version": 3
      },
      "file_extension": ".py",
      "mimetype": "text/x-python",
      "name": "python",
      "nbconvert_exporter": "python",
      "pygments_lexer": "ipython3",
      "version": "3.10.4"
    },
    "orig_nbformat": 4,
    "vscode": {
      "interpreter": {
        "hash": "3ad933181bd8a04b432d3370b9dc3b0662ad032c4dfaa4e4f1596c548f763858"
      }
    },
    "colab": {
      "provenance": []
    }
  },
  "nbformat": 4,
  "nbformat_minor": 0
}