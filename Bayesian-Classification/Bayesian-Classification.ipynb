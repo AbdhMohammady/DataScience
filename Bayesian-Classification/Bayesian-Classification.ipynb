{
 "cells": [
  {
   "attachments": {},
   "cell_type": "markdown",
   "metadata": {
    "slideshow": {
     "slide_type": "slide"
    }
   },
   "source": [
    "<font size=20><b>Bayesian Classification</b></font>\n",
    "\n",
    "Simple Bayesian classifications assume that the effect of a feature value on a class is independent of other features. This assumption is called the conditional independence of the class and it simplifies the calculations.<font size=1>(Data mining:concepts and techniques, 3rd Ed, Han.Jiawei)</font>\n",
    "\n",
    "Here, using Bayes theory, we mean P(H|X) is the probability that the assumption H is satisfied by the tuple X. In other words, we want to calculate the probability P(H: Tuple X belongs to class C | values of X have been observed).\n"
   ]
  }
 ],
 "metadata": {
  "kernelspec": {
   "display_name": "Python 3",
   "language": "python",
   "name": "python3"
  },
  "language_info": {
   "codemirror_mode": {
    "name": "ipython",
    "version": 3
   },
   "file_extension": ".py",
   "mimetype": "text/x-python",
   "name": "python",
   "nbconvert_exporter": "python",
   "pygments_lexer": "ipython3",
   "version": "3.10.4"
  },
  "orig_nbformat": 4,
  "vscode": {
   "interpreter": {
    "hash": "3ad933181bd8a04b432d3370b9dc3b0662ad032c4dfaa4e4f1596c548f763858"
   }
  }
 },
 "nbformat": 4,
 "nbformat_minor": 2
}
